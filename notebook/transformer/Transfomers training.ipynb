{
 "cells": [
  {
   "cell_type": "code",
   "execution_count": 1,
   "id": "f5f86adb",
   "metadata": {},
   "outputs": [],
   "source": [
    "from tokenizers import Tokenizer\n",
    "from tokenizers.models import BPE\n",
    "from tokenizers.pre_tokenizers import Whitespace\n",
    "from torch.optim.lr_scheduler import StepLR\n",
    "from tokenizers.trainers import BpeTrainer\n",
    "from tokenizers.processors import TemplateProcessing\n",
    "from torch.utils.tensorboard import SummaryWriter\n",
    "from typing import List, Tuple, Optional\n",
    "from torch.nn import Transformer\n",
    "from torch.utils.data import Dataset\n",
    "from torch.utils.data import DataLoader\n",
    "from tqdm import tqdm\n",
    "import torch.nn as nn\n",
    "import numpy as np\n",
    "import sacrebleu\n",
    "import torch\n",
    "import math\n",
    "import re\n",
    "import os\n",
    "\n",
    "import warnings\n",
    "warnings.simplefilter(\"ignore\")\n",
    "\n"
   ]
  },
  {
   "cell_type": "code",
   "execution_count": 2,
   "id": "5b55aa84",
   "metadata": {},
   "outputs": [],
   "source": [
    "#BPE TOKENIZER\n",
    "\n",
    "class BPETokenizer:\n",
    "    def __init__(self, sentence_list):\n",
    "\n",
    "        self.tokenizer = Tokenizer(BPE(unk_token=\"[UNK]\"))\n",
    "        self.tokenizer.enable_truncation(max_length=15)\n",
    "        self.tokenizer.enable_padding(length=15)\n",
    "        self.tokenizer.pre_tokenizer = Whitespace()\n",
    "\n",
    "        trainer = BpeTrainer(special_tokens=[\"[UNK]\", \"[CLS]\", \"[SEP]\", \"[PAD]\", \"[MASK]\"])\n",
    "        self.tokenizer.train_from_iterator(sentence_list, trainer)\n",
    "\n",
    "    def __call__(self, sentence):\n",
    "\n",
    "        return self.tokenizer.encode(sentence).ids\n",
    "\n",
    "\n",
    "    def decode(self, token_list):\n",
    "\n",
    "        return self.tokenizer.decode(token_list).split()"
   ]
  },
  {
   "cell_type": "code",
   "execution_count": 3,
   "id": "92040ff1",
   "metadata": {},
   "outputs": [],
   "source": [
    "#DATASET\n",
    "\n",
    "class MTDataset(Dataset):\n",
    "    def __init__(self, tokenized_source_list, tokenized_target_list, dev):\n",
    "        self.tokenized_source_list = tokenized_source_list\n",
    "        self.tokenized_target_list = tokenized_target_list\n",
    "        self.device = dev\n",
    "\n",
    "    def __len__(self):\n",
    "        return len(self.tokenized_source_list)\n",
    "\n",
    "    def __getitem__(self, idx):\n",
    "        source_ids, target_ids = torch.tensor(self.tokenized_source_list[idx]).to(self.device), \\\n",
    "                                 torch.tensor(self.tokenized_target_list[idx]).to(self.device)\n",
    "        return source_ids, target_ids\n"
   ]
  },
  {
   "cell_type": "code",
   "execution_count": 4,
   "id": "4a4cd7ad",
   "metadata": {},
   "outputs": [],
   "source": [
    "#SPACETOKEN\n",
    "class SpaceTokenizer:\n",
    "    def __init__(self, sentence_list, pad_flag):\n",
    "        self.pad_flag = pad_flag\n",
    "        self.word2index = {}\n",
    "        self.word2count = {}\n",
    "        self.index2word = {0: \"SOS\", 1: \"EOS\", 2: \"UNK\", 3: \"PAD\", 4: \" \"}\n",
    "        self.word2index = {\"SOS\": 0, \"EOS\": 1, \"UNK\": 2, 'PAD': 3, \" \": 4}\n",
    "        self.n_words = len(self.word2index)\n",
    "        self.max_sent_len = -1\n",
    "        self.special_tokens_set = {'SOS', 'EOS', 'PAD'}\n",
    "\n",
    "        for sent in sentence_list:\n",
    "            token_list = sent.split()\n",
    "            sent_words_amount = len(token_list)\n",
    "            if sent_words_amount > self.max_sent_len:\n",
    "                self.max_sent_len = sent_words_amount\n",
    "\n",
    "            for token in token_list:\n",
    "                if token not in self.word2index:\n",
    "                    self.word2index[token] = self.n_words\n",
    "                    self.word2count[token] = 1\n",
    "                    self.index2word[self.n_words] = token\n",
    "                    self.n_words += 1\n",
    "                else:\n",
    "                    self.word2count[token] += 1\n",
    "\n",
    "        self.max_sent_len += 2\n",
    "\n",
    "        print(f'Space tokenizer fitted - {len(self.word2index)} tokens')\n",
    "\n",
    "    def pad_sent(self, token_ids_list):\n",
    "        if len(token_ids_list) < self.max_sent_len:\n",
    "            padded_token_ids_list = token_ids_list + [self.word2index['PAD']] * (self.max_sent_len - len(token_ids_list))\n",
    "        else:\n",
    "            padded_token_ids_list = token_ids_list[:self.max_sent_len - 1] + [self.word2index['EOS']]\n",
    "        return padded_token_ids_list\n",
    "\n",
    "    def __call__(self, sentence):\n",
    "        tokenized_data = self.tokenize(sentence)\n",
    "        if self.pad_flag:\n",
    "            tokenized_data = self.pad_sent(tokenized_data)\n",
    "        return tokenized_data\n",
    "\n",
    "    def tokenize(self, sentence):\n",
    "        tokenized_data = []\n",
    "        tokenized_data.append(self.word2index['SOS'])\n",
    "        for word in sentence.split():\n",
    "            if word in self.word2index:\n",
    "                tokenized_data.append(self.word2index[word])\n",
    "            else:\n",
    "                tokenized_data.append(self.word2index['UNK'])\n",
    "        tokenized_data.append(self.word2index['EOS'])\n",
    "        return tokenized_data\n",
    "\n",
    "    def decode(self, token_list):\n",
    "        predicted_tokens = []\n",
    "\n",
    "        for token_id in token_list:\n",
    "            predicted_token = self.index2word[token_id]\n",
    "            predicted_tokens.append(predicted_token)\n",
    "        filtered_tokens = list(filter(lambda x: x not in self.special_tokens_set, predicted_tokens))\n",
    "\n",
    "        return filtered_tokens"
   ]
  },
  {
   "cell_type": "code",
   "execution_count": 5,
   "id": "3899754f",
   "metadata": {},
   "outputs": [],
   "source": [
    "#UTILS\n",
    "\n",
    "class TextUtils:\n",
    "    @staticmethod\n",
    "    def normalize_text(s: str) -> str:\n",
    "\n",
    "        s = s.lower()\n",
    "        s = re.sub(r\"([.!?])\", r\" \\1\", s)\n",
    "        s = re.sub(r\"[^a-zA-Zа-яйёьъА-Яй]+\", r\" \", s)\n",
    "        s = s.strip()\n",
    "        return s\n",
    "\n",
    "\n",
    "    @staticmethod\n",
    "    def read_langs_pairs_from_file(filename: str):\n",
    "\n",
    "        with open(filename, mode=\"r\", encoding=\"utf-8\") as f:\n",
    "            lines = f.read().strip().split(\"\\n\")\n",
    "\n",
    "        lang_pairs = []\n",
    "        for line in tqdm(lines, desc=\"Reading from file\"):\n",
    "            lang_pair = tuple(map(TextUtils.normalize_text, line.split(\"\\t\")[:2]))\n",
    "            lang_pairs.append(lang_pair)\n",
    "\n",
    "        return lang_pairs\n",
    "\n",
    "def short_text_filter_function(x, max_length, prefix_filter=None):\n",
    "    len_filter = lambda x: len(x[0].split(\" \")) <= max_length and len(x[1].split(\" \")) <= max_length\n",
    "    if prefix_filter:\n",
    "        prefix_filter_func = lambda x: x[0].startswith(prefix_filter)\n",
    "    else:\n",
    "        prefix_filter_func = lambda x: True\n",
    "    return len_filter(x) and prefix_filter_func(x)\n"
   ]
  },
  {
   "cell_type": "code",
   "execution_count": 6,
   "id": "2af21753",
   "metadata": {},
   "outputs": [],
   "source": [
    "#ATTENTION\n",
    "\n",
    "class Seq2seqAttention(torch.nn.Module):\n",
    "    def __init__(self):\n",
    "        super(Seq2seqAttention, self).__init__()\n",
    "        self.softmax = torch.nn.Softmax(dim=1)\n",
    "\n",
    "    def forward(self, decoder_hidden, encoder_states):\n",
    "        decoder_hidden = decoder_hidden[:, :, None]\n",
    "        decoder_to_encoder_states = torch.matmul(encoder_states, decoder_hidden)\n",
    "        sm_decoder_to_encoder_states = self.softmax(decoder_to_encoder_states)\n",
    "        weighted_encoder_states = torch.matmul(sm_decoder_to_encoder_states.transpose(2,1), encoder_states).squeeze(dim=1)\n",
    "        return weighted_encoder_states"
   ]
  },
  {
   "cell_type": "code",
   "execution_count": 7,
   "id": "c29a04c0",
   "metadata": {},
   "outputs": [],
   "source": [
    "#POSENC\n",
    "\n",
    "class PositionalEncoding(torch.nn.Module):\n",
    "    def __init__(self, emb_size, maxlen):\n",
    "\n",
    "        super(PositionalEncoding, self).__init__()\n",
    "        pass\n",
    "\n",
    "\n",
    "    def forward(self, token_embedding):\n",
    "\n",
    "        pass"
   ]
  },
  {
   "cell_type": "code",
   "execution_count": 8,
   "id": "f4216979",
   "metadata": {},
   "outputs": [],
   "source": [
    "#METRICS\n",
    "\n",
    "def bleu_scorer(predicted: np.ndarray, actual: np.ndarray, target_tokenizer):\n",
    "\n",
    "    batch_bleu = []\n",
    "    predicted_sentences = []\n",
    "    actual_sentences = []\n",
    "    for a, b in zip(predicted, actual):\n",
    "\n",
    "        words_predicted = target_tokenizer.decode(a)\n",
    "        words_actual = target_tokenizer.decode(b)\n",
    "\n",
    "        words_predicted = [' '.join(words_predicted)]\n",
    "        words_actual = [' '.join(words_actual)]\n",
    "     \n",
    "        if words_predicted:\n",
    "        \n",
    "            bleu_score_ = sacrebleu.corpus_bleu(words_predicted, [words_actual])\n",
    "            batch_bleu.append(bleu_score_.score)\n",
    "        predicted_sentences.append(\" \".join(words_predicted))\n",
    "        actual_sentences.append(\" \".join(words_actual))\n",
    "    batch_bleu = np.mean(batch_bleu)\n",
    "    return batch_bleu, actual_sentences, predicted_sentences"
   ]
  },
  {
   "cell_type": "code",
   "execution_count": 9,
   "id": "2f8a3b13",
   "metadata": {},
   "outputs": [],
   "source": [
    "\n",
    "#POSENC SEQ2SEQ\n",
    "\n",
    "class PositionalEncoding(nn.Module):\n",
    "    def __init__(self, device, embedding_size, dropout, max_len=15):\n",
    "        super().__init__()\n",
    "        self.dropout = nn.Dropout(p = dropout)\n",
    "\n",
    "        position = torch.arange(max_len).unsqueeze(1)\n",
    "        div_term = torch.exp(torch.arange(0, embedding_size, 2) * (-math.log(10000.0) / embedding_size))\n",
    "        pos_embedding = torch.zeros(max_len, embedding_size)\n",
    "        pos_embedding[:, 0::2] = torch.sin(position * div_term)\n",
    "        pos_embedding[:, 1::2] = torch.cos(position * div_term)\n",
    "        self.register_buffer('pos_embedding', pos_embedding.unsqueeze(0).to(device))\n",
    "\n",
    "    def forward(self, token_embedding):\n",
    "        return self.dropout(token_embedding + self.pos_embedding[:, :token_embedding.size(1), :])\n",
    "\n",
    "\n",
    "class Seq2SeqTransformer(nn.Module):\n",
    "    def __init__(self, device, embedding_size, num_encoder_layers, dim_feedforward, src_voc_size, trg_voc_size,\n",
    "                 target_tokenizer, source_tokenizer, lr_decay_step, lr=1e-4, lr_decay=0.1, dropout_rate=0.1):\n",
    "        super(Seq2SeqTransformer, self).__init__()\n",
    "        self.device = device\n",
    "        self.special_tokens = {\"pad\": 0, \"bos\": 1, \"eos\": 2}\n",
    "\n",
    "        self.src_emb = nn.Embedding(src_voc_size, embedding_size).to(device)\n",
    "        self.trg_emb = nn.Embedding(trg_voc_size, embedding_size).to(device)\n",
    "        self.positional_encoding = PositionalEncoding(device, embedding_size, dropout_rate)\n",
    "\n",
    "        self.transformer = Transformer(d_model=embedding_size, num_encoder_layers=num_encoder_layers,\n",
    "                                       num_decoder_layers=0, dim_feedforward=dim_feedforward, dropout=dropout_rate,\n",
    "                                       batch_first=True).encoder.to(device)\n",
    "\n",
    "        self.vocab_projection_layer = nn.Linear(embedding_size, trg_voc_size).to(device)\n",
    "        self.loss = nn.CrossEntropyLoss()\n",
    "\n",
    "        self.optimizer = torch.optim.Adam(self.transformer.parameters(), lr=lr)\n",
    "        self.scheduler = StepLR(self.optimizer, step_size=lr_decay_step, gamma=lr_decay)\n",
    "\n",
    "        self.target_tokenizer = target_tokenizer\n",
    "        self.source_tokenizer = source_tokenizer\n",
    "\n",
    "    def create_masks(self, src):\n",
    "        src_mask = torch.zeros((src.shape[1], src.shape[1]), device=self.device).type(torch.bool)\n",
    "        src_pad_mask = (src == self.special_tokens[\"pad\"])\n",
    "        return src_mask, src_pad_mask\n",
    "\n",
    "    def forward(self, src):\n",
    "        src_mask, src_pad_mask = self.create_masks(src)\n",
    "        src_emb = self.positional_encoding(self.src_emb(src))\n",
    "        out = self.transformer(src_emb, src_mask, src_pad_mask)\n",
    "        logits = self.vocab_projection_layer(out)\n",
    "        preds = torch.argmax(logits, dim=2)\n",
    "        return preds, logits\n",
    "\n",
    "    def training_step(self, batch):\n",
    "        self.optimizer.zero_grad()\n",
    "        _, logits = self.forward(batch[0])\n",
    "        loss = self.loss(logits.view(-1, logits.shape[-1]), batch[1].view(-1))\n",
    "        loss.backward()\n",
    "        self.optimizer.step()\n",
    "        return loss.item()\n",
    "\n",
    "    def validation_step(self, batch):\n",
    "        with torch.no_grad():\n",
    "            _, logits = self.forward(batch[0])\n",
    "            loss = self.loss(logits.view(-1, logits.shape[-1]), batch[1].view(-1))\n",
    "        return loss.item()\n",
    "\n",
    "    def predict(self, sentences):\n",
    "        src_tokenized = torch.tensor([self.source_tokenizer(s) for s in sentences]).to(self.device)\n",
    "        preds = self.forward(src_tokenized)[0].cpu().detach().numpy()\n",
    "        return [self.target_tokenizer.decode(i) for i in preds]\n",
    "\n",
    "    def eval_bleu(self, predicted_ids_list, target_tensor):\n",
    "        predicted = predicted_ids_list.detach().cpu().numpy()\n",
    "        actuals = target_tensor.detach().cpu().numpy()\n",
    "        return bleu_scorer(predicted, actuals, self.target_tokenizer)\n"
   ]
  },
  {
   "cell_type": "code",
   "execution_count": 10,
   "id": "a7c0641b",
   "metadata": {},
   "outputs": [],
   "source": [
    "\n",
    "#DATAMODULE\n",
    "\n",
    "class DataManager:\n",
    "    def __init__(self, config, device):\n",
    "        super().__init__()\n",
    "        self.config = config\n",
    "        self.input_lang_n_words = None\n",
    "        self.output_lang_n_words = None\n",
    "        self.device = device\n",
    "\n",
    "    def prepare_data(self):\n",
    "        pairs = TextUtils.read_langs_pairs_from_file(filename=self.config[\"filename\"])\n",
    "        prefix_filter = self.config['prefix_filter']\n",
    "        if prefix_filter:\n",
    "            prefix_filter = tuple(prefix_filter)\n",
    "\n",
    "        source_sentences,target_sentences = [], []\n",
    "        unique_sources = set()\n",
    "        for pair in pairs:\n",
    "            source, target = pair[0], pair[1]\n",
    "            if short_text_filter_function(pair, self.config['max_length'], prefix_filter) and source not in unique_sources:\n",
    "                source_sentences.append(source)\n",
    "                target_sentences.append(target)\n",
    "                unique_sources.add(source)\n",
    "\n",
    "        #source_sentences = source_sentences[:1000]\n",
    "        #target_sentences = target_sentences[:1000]\n",
    "\n",
    "\n",
    "        train_size = int(len(source_sentences)*self.config[\"train_size\"])\n",
    "        source_train_sentences, source_val_sentences = source_sentences[:train_size], source_sentences[train_size:]\n",
    "        target_train_sentences, target_val_sentences = target_sentences[:train_size], target_sentences[train_size:]\n",
    "\n",
    "        self.source_tokenizer = BPETokenizer(source_train_sentences)\n",
    "        tokenized_source_train_sentences = [self.source_tokenizer(s) for s in source_train_sentences]\n",
    "        tokenized_source_val_sentences = [self.source_tokenizer(s) for s in source_val_sentences]\n",
    "\n",
    "        self.target_tokenizer = BPETokenizer(target_train_sentences)\n",
    "        tokenized_target_train_sentences = [self.target_tokenizer(s) for s in target_train_sentences]\n",
    "        tokenized_target_val_sentences = [self.target_tokenizer(s) for s in target_val_sentences]\n",
    "\n",
    "        train_dataset = MTDataset(tokenized_source_list=tokenized_source_train_sentences,\n",
    "                                  tokenized_target_list=tokenized_target_train_sentences, dev=self.device)\n",
    "\n",
    "        val_dataset = MTDataset(tokenized_source_list=tokenized_source_val_sentences,\n",
    "                                tokenized_target_list=tokenized_target_val_sentences, dev=self.device)\n",
    "\n",
    "        train_dataloader = DataLoader(train_dataset, shuffle=True,\n",
    "                                      batch_size=self.config[\"batch_size\"])\n",
    "\n",
    "        val_dataloader = DataLoader(val_dataset, shuffle=True,\n",
    "                                    batch_size=self.config[\"batch_size\"],drop_last=True )\n",
    "        return train_dataloader, val_dataloader\n"
   ]
  },
  {
   "cell_type": "code",
   "execution_count": 11,
   "id": "a246f925",
   "metadata": {},
   "outputs": [],
   "source": [
    "#TRAINER\n",
    "\n",
    "class Trainer:\n",
    "    def __init__(self, model, model_config, logger, log_dir='C:/Users/fktif/Desktop/final_project/runs'):\n",
    "        self.model = model\n",
    "        self.epoch_num = model_config['epoch_num']\n",
    "        self.logger = logger\n",
    "        self.writer = SummaryWriter(log_dir)  \n",
    "        self.logger.log(model_config)\n",
    "\n",
    "    def train(self, train_dataloader, val_dataloader):\n",
    "        try:\n",
    "            for epoch in tqdm(range(self.epoch_num)):\n",
    "                print(f\"EPOCH - {epoch}\")\n",
    "                train_epoch_loss = 0\n",
    "                self.model.train()\n",
    "                for batch in train_dataloader:\n",
    "                    train_loss = self.model.training_step(batch)\n",
    "                    train_epoch_loss += train_loss\n",
    "                train_epoch_loss = train_epoch_loss / len(train_dataloader)\n",
    "\n",
    "                val_epoch_loss, val_epoch_bleu = 0, 0\n",
    "                self.model.eval()\n",
    "                for batch in val_dataloader:\n",
    "                    val_loss = self.model.validation_step(batch)\n",
    "                    val_epoch_loss += val_loss\n",
    "                val_epoch_loss = val_epoch_loss / len(val_dataloader)\n",
    "\n",
    "                input_tensor, target_tensor = batch\n",
    "                predicted_samples, _ = self.model.forward(input_tensor)\n",
    "                bleu_score, actual_sentences, predicted_sentences = self.model.eval_bleu(predicted_samples, target_tensor)\n",
    "                print('Current BLEU: ', bleu_score)\n",
    "                for a, b in zip(actual_sentences[:5], predicted_sentences[:5]):\n",
    "                    print(f\"{a} ---> {b}\")\n",
    "                print('------------------------------------')\n",
    "\n",
    "                self.writer.add_scalar('Loss/train', train_epoch_loss, epoch)\n",
    "                self.writer.add_scalar('Loss/val', val_epoch_loss, epoch)\n",
    "                self.writer.add_scalar('BLEU/score', bleu_score, epoch)\n",
    "\n",
    "                self.logger.log({\n",
    "                    \"val_loss\": val_epoch_loss,\n",
    "                    \"train_loss\": train_epoch_loss,\n",
    "                    \"bleu_score\": bleu_score\n",
    "                })\n",
    "\n",
    "        except KeyboardInterrupt:\n",
    "            pass\n",
    "\n",
    "        print(f\"Last {epoch} epoch train loss: \", train_epoch_loss)\n",
    "        print(f\"Last {epoch} epoch val loss: \", val_epoch_loss)\n",
    "        print(f\"Last {epoch} epoch val bleu: \", bleu_score)\n",
    "\n",
    "        self.writer.close()"
   ]
  },
  {
   "cell_type": "code",
   "execution_count": 12,
   "id": "8858ee0d",
   "metadata": {},
   "outputs": [],
   "source": [
    "#LOGGER\n",
    "\n",
    "class TXTLogger:\n",
    "    def __init__(self, work_dir):\n",
    "        self.save_dir = work_dir\n",
    "        self.filename = \"progress_log.txt\"\n",
    "\n",
    "        if not os.path.exists(self.save_dir):\n",
    "            os.makedirs(self.save_dir)\n",
    "\n",
    "        self.log_file_path = os.path.join(self.save_dir, self.filename)\n",
    "        log_file = open(self.log_file_path, 'w')\n",
    "        log_file.close()\n",
    "\n",
    "    def log(self, data):\n",
    "        with open(self.log_file_path, 'a') as f:\n",
    "            f.write(f'{str(data)}\\n')"
   ]
  },
  {
   "cell_type": "code",
   "execution_count": 13,
   "id": "14eee6d7",
   "metadata": {},
   "outputs": [
    {
     "data": {
      "text/plain": [
       "device(type='cuda')"
      ]
     },
     "execution_count": 13,
     "metadata": {},
     "output_type": "execute_result"
    }
   ],
   "source": [
    "device=torch.device(\"cuda\" if torch.cuda.is_available() else \"cpu\")\n",
    "device"
   ]
  },
  {
   "cell_type": "code",
   "execution_count": 14,
   "id": "b6506368",
   "metadata": {},
   "outputs": [
    {
     "name": "stderr",
     "output_type": "stream",
     "text": [
      "Reading from file: 100%|██████████| 399919/399919 [00:02<00:00, 170152.55it/s]\n"
     ]
    }
   ],
   "source": [
    "data_manager = DataManager(\n",
    "    config={\n",
    "        \"prefix_filter\": [],\n",
    "        \"filename\": 'rus.txt',\n",
    "        \"max_length\": 13,\n",
    "        \"train_size\": 0.8,\n",
    "        \"batch_size\": 128\n",
    "    },\n",
    "    device=device\n",
    ")\n",
    "train_dataloader, val_dataloader = data_manager.prepare_data()"
   ]
  },
  {
   "cell_type": "code",
   "execution_count": 15,
   "id": "e7ab6d4e",
   "metadata": {},
   "outputs": [],
   "source": [
    "model = Seq2SeqTransformer(\n",
    "    device=device,\n",
    "    embedding_size=256,\n",
    "    num_encoder_layers=8,\n",
    "    dim_feedforward=4096,\n",
    "\n",
    "    src_voc_size=len(data_manager.source_tokenizer.tokenizer.get_vocab()),\n",
    "    trg_voc_size=len(data_manager.target_tokenizer.tokenizer.get_vocab()),\n",
    "    source_tokenizer=data_manager.source_tokenizer,\n",
    "    target_tokenizer=data_manager.target_tokenizer,\n",
    "\n",
    "    lr_decay_step=5,\n",
    "    lr=1e-4,\n",
    "    lr_decay=1e-1\n",
    ")\n"
   ]
  },
  {
   "cell_type": "code",
   "execution_count": 16,
   "id": "4d103972",
   "metadata": {},
   "outputs": [],
   "source": [
    "trainer_config = {\n",
    "    'epoch_num': 15\n",
    "}\n",
    "\n",
    "\n",
    "logger = TXTLogger(work_dir=\"./\")\n",
    "trainer = Trainer(model, trainer_config, logger)"
   ]
  },
  {
   "cell_type": "code",
   "execution_count": 17,
   "metadata": {},
   "outputs": [
    {
     "name": "stderr",
     "output_type": "stream",
     "text": [
      "  0%|          | 0/15 [00:00<?, ?it/s]"
     ]
    },
    {
     "name": "stdout",
     "output_type": "stream",
     "text": [
      "EPOCH - 0\n"
     ]
    },
    {
     "name": "stderr",
     "output_type": "stream",
     "text": [
      "  7%|▋         | 1/15 [02:03<28:46, 123.29s/it]"
     ]
    },
    {
     "name": "stdout",
     "output_type": "stream",
     "text": [
      "Current BLEU:  11.281875423719455\n",
      "не думаю что я здесь уже бывал ---> не думаю что я я я\n",
      "хочешь пойти в кино завтра вечером ---> ты бы бы в в\n",
      "я весь день работал не покладая рук так что был очень уставшим ---> я все все что я я я\n",
      "я знаю что некоторые люди ценят мою работу ---> я знаю что это на на\n",
      "том пожертвовал жизнью чтобы спасти мэри ---> том его его мэри мэри мэри мэри\n",
      "------------------------------------\n",
      "EPOCH - 1\n"
     ]
    },
    {
     "name": "stderr",
     "output_type": "stream",
     "text": [
      " 13%|█▎        | 2/15 [04:05<26:36, 122.77s/it]"
     ]
    },
    {
     "name": "stdout",
     "output_type": "stream",
     "text": [
      "Current BLEU:  13.313576671436756\n",
      "не думаю что у меня есть какие то дурные привычки ---> не думаю что у у меня\n",
      "по правде говоря я её недолюбли ваю ---> скажи скажи я я я не\n",
      "они оставались со мной в комнате всю ночь ---> они не со меня в в\n",
      "том счёл книгу которую ему дала мэри довольно скучной ---> том нашёл как мэри мэри мэри мэри\n",
      "с каждым днём холодает ---> день день день день день\n",
      "------------------------------------\n",
      "EPOCH - 2\n"
     ]
    },
    {
     "name": "stderr",
     "output_type": "stream",
     "text": [
      " 20%|██        | 3/15 [06:05<24:16, 121.34s/it]"
     ]
    },
    {
     "name": "stdout",
     "output_type": "stream",
     "text": [
      "Current BLEU:  12.413857015972445\n",
      "что ты да ришь тому на день рождения ---> что ты ты тому тома\n",
      "том при бер ёг последнюю пу лю для себя ---> том в на на\n",
      "к тому времени как мы туда доберёмся том будет спать ---> том будет будет время\n",
      "не думаю что кто то мог остановить тома ---> не думаю что кто кто нибудь тома тома\n",
      "если мы сор гани зу емся мы сможем кое что сделать ---> если мы мы что что можем то то\n",
      "------------------------------------\n",
      "EPOCH - 3\n"
     ]
    },
    {
     "name": "stderr",
     "output_type": "stream",
     "text": [
      " 27%|██▋       | 4/15 [08:03<22:03, 120.28s/it]"
     ]
    },
    {
     "name": "stdout",
     "output_type": "stream",
     "text": [
      "Current BLEU:  14.309176081366397\n",
      "я поклялся что никогда больше не буду с нею разговаривать ---> я не что никогда никогда не с с\n",
      "я и не знал что том родился в австралии ---> я даже не знал что том в\n",
      "как тебе удалось уговорить тома сделать это ---> как тебе должен тому это это сделать\n",
      "это лучший фильм из всех что я когда либо видел ---> это всё как я я я\n",
      "не думаю что это только я заметил ---> не думаю что я я я\n",
      "------------------------------------\n",
      "EPOCH - 4\n"
     ]
    },
    {
     "name": "stderr",
     "output_type": "stream",
     "text": [
      " 33%|███▎      | 5/15 [10:06<20:10, 121.01s/it]"
     ]
    },
    {
     "name": "stdout",
     "output_type": "stream",
     "text": [
      "Current BLEU:  17.049600414079862\n",
      "я не уйду пока ты не скажешь мне что происходит ---> я не не что что что мне\n",
      "я не думаю что заслужил наказание которое получил ---> не думаю что я я\n",
      "ни том ни мэри не говорили об этом с джоном ---> ни том ни мэри не об этом этом этом\n",
      "работа должна быть закончена к понедельнику ---> эта работа должен быть в в\n",
      "я думал что ты весь день проспишь ---> я думал ты день день день день\n",
      "------------------------------------\n",
      "EPOCH - 5\n"
     ]
    },
    {
     "name": "stderr",
     "output_type": "stream",
     "text": [
      " 40%|████      | 6/15 [12:08<18:11, 121.30s/it]"
     ]
    },
    {
     "name": "stdout",
     "output_type": "stream",
     "text": [
      "Current BLEU:  18.717730186468245\n",
      "я даже пытался написать песню о том что произошло ---> я даже пытался о о о том\n",
      "никто не может ла дить с таким человеком ---> никто не может может с не\n",
      "не понимаю зачем тому это делать ---> не не почему почему тому это делать\n",
      "я встал раньше обычного чтобы успеть на первый поезд ---> я встал чем чем чем\n",
      "помни что все мы в одной лодке ---> помню что мы все в в\n",
      "------------------------------------\n",
      "EPOCH - 6\n"
     ]
    },
    {
     "name": "stderr",
     "output_type": "stream",
     "text": [
      " 47%|████▋     | 7/15 [14:09<16:10, 121.26s/it]"
     ]
    },
    {
     "name": "stdout",
     "output_type": "stream",
     "text": [
      "Current BLEU:  19.264864789703893\n",
      "не думаю что у меня есть на это время ---> не думаю что у меня меня это\n",
      "на вечеринке том и мэри обменялись телефонами ---> том и мэри и на на вечеринку\n",
      "спасибо тебе за помощь в написа нии моего резюме ---> спасибо что что мне мне\n",
      "не думаю что том это уже сделал ---> не думаю что том это это сделал\n",
      "с моей стороны было беспечно стью забыть запереть дверь ---> это было что меня о дверь\n",
      "------------------------------------\n",
      "EPOCH - 7\n"
     ]
    },
    {
     "name": "stderr",
     "output_type": "stream",
     "text": [
      " 53%|█████▎    | 8/15 [16:09<14:06, 120.93s/it]"
     ]
    },
    {
     "name": "stdout",
     "output_type": "stream",
     "text": [
      "Current BLEU:  19.37272434151981\n",
      "я совершенно случайно встретил в аэропорту старого друга ---> довольно на шанс я я с в\n",
      "темнеет включи свет пожалуйста ---> на нет пожалуйста пожалуйста\n",
      "том позвал мэри но ответа не было ---> том позвонил мэри и там не\n",
      "я думал ты хочешь выучить французский ---> я думал ты хотел изучать французский\n",
      "мне трудно ответить на этот вопрос ---> мне трудно мне вопрос вопрос\n",
      "------------------------------------\n",
      "EPOCH - 8\n"
     ]
    },
    {
     "name": "stderr",
     "output_type": "stream",
     "text": [
      " 60%|██████    | 9/15 [18:09<12:04, 120.76s/it]"
     ]
    },
    {
     "name": "stdout",
     "output_type": "stream",
     "text": [
      "Current BLEU:  18.095111038677665\n",
      "ваша ску дная память это след ствие плохих слу хо вых привычек ---> у дети тебя за за чтобы\n",
      "том открыл переднюю дверь и вошёл ---> том открыл дверь дверь и\n",
      "они учились здесь шесть месяцев ---> они здесь здесь в шесть\n",
      "том был проница тельным бизне сменом за работа вшим много денег ---> том был много денег денег много денег\n",
      "ты мне никогда не рассказывал о том что случилось ---> ты никогда не не мне о что что\n",
      "------------------------------------\n",
      "EPOCH - 9\n"
     ]
    },
    {
     "name": "stderr",
     "output_type": "stream",
     "text": [
      " 67%|██████▋   | 10/15 [20:13<10:07, 121.49s/it]"
     ]
    },
    {
     "name": "stdout",
     "output_type": "stream",
     "text": [
      "Current BLEU:  19.862582568719418\n",
      "интересно почему люди всегда хотят знать правду ---> интересно почему почему всегда знать знать правду правду\n",
      "ты выглядишь немного больным ---> ты выглядишь немного по по\n",
      "у тома есть фотография мэри на стене в спальне ---> у тома есть мэри в в мэри\n",
      "цвета американ ского флага красный белый и синий ---> спать из и и и и\n",
      "ты должен сделать доклад к понедельнику ---> ты должно быть до до в\n",
      "------------------------------------\n",
      "EPOCH - 10\n"
     ]
    },
    {
     "name": "stderr",
     "output_type": "stream",
     "text": [
      " 73%|███████▎  | 11/15 [22:14<08:06, 121.51s/it]"
     ]
    },
    {
     "name": "stdout",
     "output_type": "stream",
     "text": [
      "Current BLEU:  17.8200199398306\n",
      "хочешь мы отвезём тебя обратно домой ---> хочешь чтобы чтобы мы тебя тебя\n",
      "родители должны следить за благо получи ем своих детей ---> родители должно за за за\n",
      "я бы удивился если бы том этого не сделал ---> я бы удивился если бы том этого делал делал\n",
      "в мире много плохих людей ---> в много много людей\n",
      "люди всегда спрашивают меня почему я делаю то что я делаю ---> люди всегда спроси меня почему я я что я я\n",
      "------------------------------------\n",
      "EPOCH - 11\n"
     ]
    },
    {
     "name": "stderr",
     "output_type": "stream",
     "text": [
      " 80%|████████  | 12/15 [24:16<06:04, 121.51s/it]"
     ]
    },
    {
     "name": "stdout",
     "output_type": "stream",
     "text": [
      "Current BLEU:  21.234956900180347\n",
      "вечером у нас будет несколько гостей ---> в вечер у нас\n",
      "я думаю что том не очень хороший певец ---> думаю думаю том не очень очень\n",
      "в жизни есть более важные вещи ---> в есть есть есть\n",
      "река разли лась из за силь ных дождей ---> река река от за дождь\n",
      "обычно у меня плотный завтрак и лёгкий обед ---> обычно обычно ем большой и и\n",
      "------------------------------------\n",
      "EPOCH - 12\n"
     ]
    },
    {
     "name": "stderr",
     "output_type": "stream",
     "text": [
      " 87%|████████▋ | 13/15 [26:19<04:04, 122.14s/it]"
     ]
    },
    {
     "name": "stdout",
     "output_type": "stream",
     "text": [
      "Current BLEU:  21.067114916722566\n",
      "это самый большой храм из тех что я когда либо видел ---> это маджонг в на я когда я я\n",
      "никто не пытается заставить тебя что то делать ---> никто не не ничего ничего что сделать\n",
      "я хочу чтобы ты остался в бостоне до моего дня рождения ---> я хочу чтобы ты остался в в до рождения рождения\n",
      "вы без сомнения слышали о нашей компании ---> ты не не в слышал нашей\n",
      "каждый раз когда автобус при тор ма живает том просыпается ---> в раз автобус на тома тома тома тома\n",
      "------------------------------------\n",
      "EPOCH - 13\n"
     ]
    },
    {
     "name": "stderr",
     "output_type": "stream",
     "text": [
      " 93%|█████████▎| 14/15 [28:21<02:01, 121.92s/it]"
     ]
    },
    {
     "name": "stdout",
     "output_type": "stream",
     "text": [
      "Current BLEU:  21.786149981346618\n",
      "ребёнок вскоре заснул в колыбели ---> ребёнок том зите в\n",
      "смерть тома была несчастным случаем вы уверены ---> смерть тома была был вы\n",
      "климат здесь холоднее чем я предполагал ---> здесь здесь здесь чем я я ожидал ожидал\n",
      "ты хочешь чтобы я помог тебе с приготовлением пищи ---> ты чтобы чтобы я помог с с\n",
      "мэри лин монро умерла когда ей было лет ---> рави бога выводу брать умер когда\n",
      "------------------------------------\n",
      "EPOCH - 14\n"
     ]
    },
    {
     "name": "stderr",
     "output_type": "stream",
     "text": [
      "100%|██████████| 15/15 [30:22<00:00, 121.51s/it]"
     ]
    },
    {
     "name": "stdout",
     "output_type": "stream",
     "text": [
      "Current BLEU:  21.41007293142588\n",
      "том не знал плакать ему или смеяться ---> том не знал что он флиртует\n",
      "тебе необязательно отвечать на все вопросы ---> ты не должен отвечать на вопросы\n",
      "ты не знал что том видел как ты это делал ---> ты не знал что том видел как это это это\n",
      "он осуществил свою меч ту стать художником ---> он понял свои мечта художник\n",
      "том ведёт себя так будто ничего не случилось ---> том ведёт себя так так ничего не случилось\n",
      "------------------------------------\n",
      "Last 14 epoch train loss:  1.153939488351097\n",
      "Last 14 epoch val loss:  3.2071023713974727\n",
      "Last 14 epoch val bleu:  21.41007293142588\n"
     ]
    },
    {
     "name": "stderr",
     "output_type": "stream",
     "text": [
      "\n"
     ]
    }
   ],
   "source": [
    "trainer.train(train_dataloader, val_dataloader)"
   ]
  },
  {
   "cell_type": "code",
   "execution_count": 18,
   "id": "54e9e1c2",
   "metadata": {},
   "outputs": [
    {
     "data": {
      "image/png": "[encoded data removed]",
      "text/plain": [
       "<Figure size 1200x1200 with 2 Axes>"
      ]
     },
     "metadata": {},
     "output_type": "display_data"
    }
   ],
   "source": [
    "\n",
    "import matplotlib.pyplot as plt\n",
    "\n",
    "file_path = 'progress_log.txt'\n",
    "\n",
    "epoch_nums = []\n",
    "val_losses = []\n",
    "train_losses = []\n",
    "bleu_scores = []\n",
    "\n",
    "with open(file_path, 'r') as file:\n",
    "    for line in file:\n",
    "        if 'epoch_num' not in line:\n",
    "            data = eval(line.strip().replace('nan', '0'))\n",
    "            val_losses.append(data['val_loss'])\n",
    "            train_losses.append(data['train_loss'])\n",
    "            bleu_scores.append(data['bleu_score'])\n",
    "            epoch_nums.append(len(epoch_nums) + 1)\n",
    "\n",
    "fig, (ax1, ax2) = plt.subplots(2, 1, figsize=(12, 12))\n",
    "\n",
    "ax1.plot(epoch_nums, train_losses, label='Train Loss', marker='o')\n",
    "ax1.plot(epoch_nums, val_losses, label='Validation Loss', marker='o')\n",
    "ax1.set_title('Training and Validation Losses per Epoch')\n",
    "ax1.set_xlabel('Epoch')\n",
    "ax1.set_ylabel('Loss')\n",
    "ax1.legend()\n",
    "ax1.grid(True)\n",
    "\n",
    "ax2.plot(epoch_nums, bleu_scores, label='BLEU Score', color='green', marker='o')\n",
    "ax2.set_title('BLEU Scores per Epoch')\n",
    "ax2.set_xlabel('Epoch')\n",
    "ax2.set_ylabel('BLEU Score')\n",
    "ax2.legend()\n",
    "ax2.grid(True)\n",
    "\n",
    "plt.tight_layout()\n",
    "plt.show()\n"
   ]
  },
  {
   "cell_type": "code",
   "execution_count": 42,
   "id": "4c4becdd",
   "metadata": {},
   "outputs": [
    {
     "name": "stdout",
     "output_type": "stream",
     "text": [
      "ты много работаешь\n",
      "том был болен\n",
      "лето лето\n",
      "том выиграет\n",
      "интересно где она живёт\n",
      "ты скоро там там будешь\n",
      "я редко делаю ошибку\n",
      "я всё об этом знал\n",
      "я планирую туда туда\n",
      "мы будем\n"
     ]
    }
   ],
   "source": [
    "sentences_to_translate = [\n",
    "    \"you work hard\",\n",
    "    \"tom was sick\",\n",
    "    \"summer is here\",\n",
    "    \"tom will win\",\n",
    "    \"i wonder where she lives\",\n",
    "    \"you will be there again soon\",\n",
    "    \"i rarely make a mistake\",\n",
    "    \"i knew all about that\",\n",
    "    \"i plan on going there\",\n",
    "    \"we are going to swim\"\n",
    "]\n",
    "\n",
    "\n",
    "\n",
    "def translate_sentences(model, sentences):\n",
    "    model.eval()\n",
    "    predicted_sentences = model.predict(sentences)\n",
    "\n",
    "    return [\" \".join(sentence) for sentence in predicted_sentences]\n",
    "\n",
    "translated_sentences = translate_sentences(model, sentences_to_translate)\n",
    "for translated in translated_sentences:\n",
    "    print(translated)\n",
    "\n",
    "\n"
   ]
  },
  {
   "cell_type": "code",
   "execution_count": null,
   "id": "4729392b",
   "metadata": {},
   "outputs": [],
   "source": []
  }
 ],
 "metadata": {
  "kernelspec": {
   "display_name": "Python 3",
   "language": "python",
   "name": "python3"
  },
  "language_info": {
   "codemirror_mode": {
    "name": "ipython",
    "version": 3
   },
   "file_extension": ".py",
   "mimetype": "text/x-python",
   "name": "python",
   "nbconvert_exporter": "python",
   "pygments_lexer": "ipython3",
   "version": "3.12.0"
  }
 },
 "nbformat": 4,
 "nbformat_minor": 5
}
