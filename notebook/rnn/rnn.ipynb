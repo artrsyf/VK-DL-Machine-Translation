{
  "cells": [
    {
      "cell_type": "markdown",
      "metadata": {
        "id": "aP0c81qJNIXQ"
      },
      "source": [
        "# Использование RNN в задаче машинного перевода"
      ]
    },
    {
      "cell_type": "markdown",
      "metadata": {
        "id": "5V7I4PSENIXR"
      },
      "source": [
        "### 1 Импорт зависимостей, установка констант"
      ]
    },
    {
      "cell_type": "code",
      "execution_count": 31,
      "metadata": {
        "colab": {
          "base_uri": "https://localhost:8080/"
        },
        "id": "w_yVwLlRNIXR",
        "jupyter": {
          "outputs_hidden": false
        },
        "outputId": "4e21ec57-01e8-42d1-ae3b-9bd7d5c8f6b2"
      },
      "outputs": [
        {
          "name": "stdout",
          "output_type": "stream",
          "text": [
            "Using device: cuda\n",
            "Requirement already satisfied: jiwer in c:\\dev\\miniconda\\envs\\ds\\lib\\site-packages (3.0.5)\n",
            "Requirement already satisfied: click<9.0.0,>=8.1.3 in c:\\dev\\miniconda\\envs\\ds\\lib\\site-packages (from jiwer) (8.1.7)\n",
            "Requirement already satisfied: rapidfuzz<4,>=3 in c:\\dev\\miniconda\\envs\\ds\\lib\\site-packages (from jiwer) (3.11.0)\n",
            "Requirement already satisfied: colorama in c:\\dev\\miniconda\\envs\\ds\\lib\\site-packages (from click<9.0.0,>=8.1.3->jiwer) (0.4.6)\n"
          ]
        }
      ],
      "source": [
        "%matplotlib inline\n",
        "\n",
        "from __future__ import unicode_literals, print_function, division\n",
        "from io import open\n",
        "import unicodedata\n",
        "import re\n",
        "import random\n",
        "\n",
        "import torch\n",
        "import torch.nn as nn\n",
        "from torch import optim\n",
        "import torch.nn.functional as F\n",
        "from torch.utils.data import TensorDataset, DataLoader, RandomSampler, SequentialSampler\n",
        "from torch.utils.data import Subset\n",
        "\n",
        "import numpy as np\n",
        "\n",
        "device = torch.device(\"cuda\" if torch.cuda.is_available() else \"cpu\")\n",
        "torch.cuda.set_device(0)\n",
        "print(f\"Using device: {device}\")\n",
        "\n",
        "import os\n",
        "os.environ['CUDA_LAUNCH_BLOCKING'] = '1'\n",
        "\n",
        "!pip install jiwer"
      ]
    },
    {
      "cell_type": "code",
      "execution_count": 32,
      "metadata": {
        "id": "VjCsMw0lNIXS"
      },
      "outputs": [],
      "source": [
        "BATCH_SIZE = 512\n",
        "MAX_LENGTH = 10\n",
        "\n",
        "DATA_PATH = '../data/'\n",
        "LOGS_PATH = './logs'"
      ]
    },
    {
      "cell_type": "markdown",
      "metadata": {
        "id": "iUUPh6ciNIXT"
      },
      "source": [
        "### 2 Подготовка данных для обучения модели"
      ]
    },
    {
      "cell_type": "markdown",
      "metadata": {
        "id": "zjkUIjsUNIXT"
      },
      "source": [
        "#### 2.1 Подготовка датасета"
      ]
    },
    {
      "cell_type": "markdown",
      "metadata": {
        "id": "S7PfBmbHNIXT"
      },
      "source": [
        "Подготовим датасет для обучения модели. Для этого соберем все пары из исходного файла и запишем их в новый в формат: <b><Последовательность исходного языка>\\t<Переведенная последовательность><b>"
      ]
    },
    {
      "cell_type": "code",
      "execution_count": 33,
      "metadata": {
        "id": "JKTqJFAzNIXT"
      },
      "outputs": [],
      "source": [
        "def process_line(line):\n",
        "    parts = line.split('\\t')\n",
        "    if len(parts) >= 2:\n",
        "        return f\"{parts[0].strip()}\\t{parts[1].strip()}\\n\"\n",
        "    return None\n",
        "\n",
        "def transform_file(filepath: str, from_lang: str, to_lang: str) -> None:\n",
        "    output_filepath = f\"{DATA_PATH}{from_lang}-{to_lang}.txt\"\n",
        "    with open(filepath, \"r\", encoding=\"utf-8\") as infile, open(output_filepath, \"w\", encoding=\"utf-8\") as outfile:\n",
        "        for line in infile:\n",
        "            processed = process_line(line)\n",
        "            if processed:\n",
        "                outfile.write(processed)\n",
        "\n",
        "transform_file(f\"{DATA_PATH}rus.txt\", \"eng\", \"rus\")"
      ]
    },
    {
      "cell_type": "markdown",
      "metadata": {
        "id": "-yBtqxt7NIXT"
      },
      "source": [
        "#### 2.2 Подготовка интсансов обрабатываемых языков"
      ]
    },
    {
      "cell_type": "code",
      "execution_count": 34,
      "metadata": {
        "id": "nMmhU215NIXT",
        "jupyter": {
          "outputs_hidden": false
        }
      },
      "outputs": [],
      "source": [
        "SOS_token = 0\n",
        "EOS_token = 1\n",
        "PAD_token = 2\n",
        "\n",
        "class Lang:\n",
        "    def __init__(self, name):\n",
        "        self.name = name\n",
        "        self.word2count = {}\n",
        "        self.index2word = {0: \"SOS\", 1: \"EOS\", 2: \"PAD\", 3: \"UNK\"}\n",
        "        self.word2index = {\"SOS\": 0, \"EOS\": 1, \"PAD\": 2, \"UNK\": 3}\n",
        "        self.n_words = 4\n",
        "\n",
        "    def addSentence(self, sentence):\n",
        "        for word in sentence.split(' '):\n",
        "            self.addWord(word)\n",
        "\n",
        "    def addWord(self, word):\n",
        "        if word not in self.word2index:\n",
        "            self.word2index[word] = self.n_words\n",
        "            self.word2count[word] = 1\n",
        "            self.index2word[self.n_words] = word\n",
        "            self.n_words += 1\n",
        "        else:\n",
        "            self.word2count[word] += 1"
      ]
    },
    {
      "cell_type": "code",
      "execution_count": 35,
      "metadata": {
        "id": "bjGXy9-cNIXT",
        "jupyter": {
          "outputs_hidden": false
        }
      },
      "outputs": [],
      "source": [
        "def unicodeToAscii(s):\n",
        "    return ''.join(\n",
        "        c for c in unicodedata.normalize('NFD', s)\n",
        "        if unicodedata.category(c) != 'Mn'\n",
        "    )\n",
        "\n",
        "def normalizeString(s):\n",
        "    s = unicodeToAscii(s.lower().strip())\n",
        "    s = re.sub(r\"[^a-zA-Zа-яА-Я]+\", \" \", s)\n",
        "\n",
        "    return s.strip()"
      ]
    },
    {
      "cell_type": "code",
      "execution_count": 36,
      "metadata": {
        "id": "Uc07tTQHNIXU",
        "jupyter": {
          "outputs_hidden": false
        }
      },
      "outputs": [],
      "source": [
        "def readLangs(lang1, lang2, reverse=False):\n",
        "    print(\"Reading lines...\")\n",
        "\n",
        "    lines = open(f'{DATA_PATH}%s-%s.txt' % (lang1, lang2), encoding='utf-8').\\\n",
        "        read().strip().split('\\n')\n",
        "\n",
        "    pairs = [[normalizeString(s) for s in l.split('\\t')] for l in lines]\n",
        "\n",
        "    if reverse:\n",
        "        pairs = [list(reversed(p)) for p in pairs]\n",
        "        input_lang = Lang(lang2)\n",
        "        output_lang = Lang(lang1)\n",
        "    else:\n",
        "        input_lang = Lang(lang1)\n",
        "        output_lang = Lang(lang2)\n",
        "\n",
        "    return input_lang, output_lang, pairs"
      ]
    },
    {
      "cell_type": "code",
      "execution_count": 37,
      "metadata": {
        "colab": {
          "base_uri": "https://localhost:8080/"
        },
        "id": "-EcftRVyNIXU",
        "outputId": "e9acc62a-3a7e-486a-d4df-232bba047777"
      },
      "outputs": [
        {
          "name": "stdout",
          "output_type": "stream",
          "text": [
            "Reading lines...\n"
          ]
        },
        {
          "data": {
            "text/plain": [
              "[['go', 'марш'],\n",
              " ['go', 'иди'],\n",
              " ['go', 'идите'],\n",
              " ['hi', 'здравствуите'],\n",
              " ['hi', 'привет'],\n",
              " ['hi', 'хаи'],\n",
              " ['hi', 'здрасте'],\n",
              " ['hi', 'здорово'],\n",
              " ['run', 'беги'],\n",
              " ['run', 'бегите'],\n",
              " ['run', 'беги'],\n",
              " ['run', 'бегите'],\n",
              " ['who', 'кто'],\n",
              " ['wow', 'вот это да'],\n",
              " ['wow', 'круто'],\n",
              " ['wow', 'здорово'],\n",
              " ['wow', 'ух ты'],\n",
              " ['wow', 'ого'],\n",
              " ['wow', 'вах'],\n",
              " ['fire', 'огонь'],\n",
              " ['fire', 'пожар'],\n",
              " ['help', 'помогите'],\n",
              " ['help', 'на помощь'],\n",
              " ['help', 'спасите'],\n",
              " ['hide', 'прячься'],\n",
              " ['hide', 'прячьтесь'],\n",
              " ['jump', 'прыгаи'],\n",
              " ['jump', 'прыгаите'],\n",
              " ['jump', 'прыгаи'],\n",
              " ['jump', 'прыгаите'],\n",
              " ['stay', 'оставаися'],\n",
              " ['stay', 'оставаитесь'],\n",
              " ['stay', 'останься'],\n",
              " ['stay', 'останьтесь'],\n",
              " ['stop', 'стои'],\n",
              " ['stop', 'остановитесь'],\n",
              " ['stop', 'остановись'],\n",
              " ['wait', 'подожди'],\n",
              " ['wait', 'подождите'],\n",
              " ['wait', 'ждите'],\n",
              " ['wait', 'жди'],\n",
              " ['wait', 'ждите'],\n",
              " ['wait', 'подожди'],\n",
              " ['wait', 'подождите'],\n",
              " ['do it', 'сделаи это'],\n",
              " ['go on', 'продолжаи'],\n",
              " ['go on', 'продолжаите'],\n",
              " ['hello', 'здравствуите'],\n",
              " ['hello', 'привет'],\n",
              " ['hello', 'алло'],\n",
              " ['hurry', 'поспешите'],\n",
              " ['i ran', 'я бежал'],\n",
              " ['i ran', 'я бежала'],\n",
              " ['i ran', 'я побежал'],\n",
              " ['i ran', 'я побежала'],\n",
              " ['i see', 'понимаю'],\n",
              " ['i see', 'понятно'],\n",
              " ['i see', 'вижу'],\n",
              " ['i try', 'я пытаюсь'],\n",
              " ['i try', 'я стараюсь'],\n",
              " ['i try', 'я пробую'],\n",
              " ['i won', 'я победил'],\n",
              " ['i won', 'я победила'],\n",
              " ['i won', 'я выиграл'],\n",
              " ['i won', 'я выиграла'],\n",
              " ['oh no', 'о нет'],\n",
              " ['relax', 'расслабьтесь'],\n",
              " ['relax', 'попустись'],\n",
              " ['relax', 'расслабься'],\n",
              " ['shoot', 'стреляи'],\n",
              " ['smile', 'улыбочка'],\n",
              " ['smile', 'улыбнитесь'],\n",
              " ['smile', 'улыбнись'],\n",
              " ['smile', 'улыбаися'],\n",
              " ['smile', 'улыбнитесь'],\n",
              " ['smile', 'улыбаитесь'],\n",
              " ['attack', 'в атаку'],\n",
              " ['cheers', 'за ваше здоровье'],\n",
              " ['cheers', 'за ваше здоровье'],\n",
              " ['cheers', 'будем'],\n",
              " ['cheers', 'ваше здоровье'],\n",
              " ['cheers', 'твое здоровье'],\n",
              " ['eat it', 'съешь это'],\n",
              " ['eat up', 'доедаи'],\n",
              " ['freeze', 'ни с места'],\n",
              " ['freeze', 'никому не двигаться'],\n",
              " ['freeze', 'застынь'],\n",
              " ['freeze', 'замри'],\n",
              " ['get up', 'вставаи'],\n",
              " ['get up', 'поднимаися'],\n",
              " ['get up', 'поднимаитесь'],\n",
              " ['go now', 'а теперь уходи'],\n",
              " ['go now', 'идите сеичас'],\n",
              " ['go now', 'поезжаите сеичас'],\n",
              " ['go now', 'иди сеичас'],\n",
              " ['go now', 'поезжаи сеичас'],\n",
              " ['go now', 'теперь иди'],\n",
              " ['go now', 'теперь идите'],\n",
              " ['go now', 'иди уже'],\n",
              " ['go now', 'идите уже'],\n",
              " ['got it', 'понял'],\n",
              " ['got it', 'понял'],\n",
              " ['got it', 'усек'],\n",
              " ['got it', 'усекла'],\n",
              " ['got it', 'ферштеин'],\n",
              " ['he ran', 'он бежал'],\n",
              " ['hop in', 'залезаи'],\n",
              " ['hop in', 'запрыгиваи'],\n",
              " ['hug me', 'обними меня'],\n",
              " ['hug me', 'обнимите меня'],\n",
              " ['i fell', 'я упал'],\n",
              " ['i fell', 'я упала'],\n",
              " ['i knit', 'я вяжу'],\n",
              " ['i know', 'я знаю'],\n",
              " ['i know', 'знамо дело'],\n",
              " ['i know', 'знаю'],\n",
              " ['i left', 'я ушел'],\n",
              " ['i left', 'я ушла'],\n",
              " ['i left', 'я уехал'],\n",
              " ['i left', 'я уехала'],\n",
              " ['i lied', 'я солгал'],\n",
              " ['i lied', 'я соврал'],\n",
              " ['i lost', 'я проиграл'],\n",
              " ['i lost', 'я проиграла'],\n",
              " ['i paid', 'я заплатил'],\n",
              " ['i paid', 'я заплатила'],\n",
              " ['i quit', 'я увольняюсь'],\n",
              " ['i swim', 'я плаваю'],\n",
              " ['i work', 'я работаю'],\n",
              " ['i m', 'мне девятнадцать лет'],\n",
              " ['i m ok', 'со мнои все в порядке'],\n",
              " ['i m ok', 'у меня все хорошо'],\n",
              " ['i m ok', 'я в порядке'],\n",
              " ['i m ok', 'у меня все в порядке'],\n",
              " ['i m up', 'я встал'],\n",
              " ['i m up', 'я встала'],\n",
              " ['listen', 'слушаи'],\n",
              " ['listen', 'послушаи'],\n",
              " ['listen', 'слушаи'],\n",
              " ['listen', 'слушаите'],\n",
              " ['listen', 'послушаи'],\n",
              " ['listen', 'послушаите'],\n",
              " ['no way', 'не может быть'],\n",
              " ['no way', 'это невозможно'],\n",
              " ['no way', 'никогда в жизни'],\n",
              " ['no way', 'быть не может'],\n",
              " ['no way', 'это исключено'],\n",
              " ['no way', 'ни в коем случае'],\n",
              " ['no way', 'ни в коем случае'],\n",
              " ['no way', 'ни за что'],\n",
              " ['really', 'правда'],\n",
              " ['really', 'что правда'],\n",
              " ['really', 'да неужели'],\n",
              " ['really', 'да неужто это правда'],\n",
              " ['really', 'вот как'],\n",
              " ['really', 'на самом деле'],\n",
              " ['really', 'реально'],\n",
              " ['try it', 'попробуи'],\n",
              " ['we try', 'мы пытаемся'],\n",
              " ['we won', 'мы выиграли'],\n",
              " ['we won', 'мы победили'],\n",
              " ['why me', 'почему я'],\n",
              " ['ask tom', 'спроси у тома'],\n",
              " ['ask tom', 'спросите у тома'],\n",
              " ['ask tom', 'попроси тома'],\n",
              " ['ask tom', 'попросите тома'],\n",
              " ['ask tom', 'спроси тома'],\n",
              " ['ask tom', 'спросите тома'],\n",
              " ['awesome', 'отвал башки'],\n",
              " ['awesome', 'зашибись'],\n",
              " ['be calm', 'спокоино'],\n",
              " ['be calm', 'будь спокоен'],\n",
              " ['be calm', 'будь спокоина'],\n",
              " ['be calm', 'будьте спокоины'],\n",
              " ['be fair', 'будь честен'],\n",
              " ['be fair', 'будь справедлив'],\n",
              " ['be fair', 'будь справедлива'],\n",
              " ['be fair', 'будьте справедливы'],\n",
              " ['be nice', 'будь милым'],\n",
              " ['beat it', 'иди отсюда'],\n",
              " ['beat it', 'катись отсюда'],\n",
              " ['beat it', 'исчезни'],\n",
              " ['beat it', 'проваливаи'],\n",
              " ['beat it', 'убираися'],\n",
              " ['beat it', 'вали отсюда'],\n",
              " ['burn it', 'сожги его'],\n",
              " ['burn it', 'сожгите его'],\n",
              " ['call me', 'позвони мне'],\n",
              " ['call me', 'позвоните мне'],\n",
              " ['call me', 'позови меня'],\n",
              " ['call me', 'позовите меня'],\n",
              " ['call us', 'позови нас'],\n",
              " ['call us', 'позвони нам'],\n",
              " ['call us', 'позвоните нам'],\n",
              " ['call us', 'позовите нас'],\n",
              " ['come in', 'заидите'],\n",
              " ['come in', 'входите'],\n",
              " ['come in', 'входи'],\n",
              " ['come in', 'заходи'],\n",
              " ['come in', 'входи'],\n",
              " ['come in', 'воиди'],\n",
              " ['come in', 'заходите'],\n",
              " ['come in', 'заиди'],\n",
              " ['come in', 'воидите'],\n",
              " ['come on', 'пошли'],\n",
              " ['come on', 'даваи'],\n",
              " ['come on', 'да ладно'],\n",
              " ['come on', 'пошли'],\n",
              " ['come on', 'поидем'],\n",
              " ['come on', 'даваи'],\n",
              " ['come on', 'даваите'],\n",
              " ['drop it', 'бросьте'],\n",
              " ['drop it', 'забеи'],\n",
              " ['fold it', 'согни его'],\n",
              " ['fold it', 'согни ее'],\n",
              " ['fold it', 'согните его'],\n",
              " ['fold it', 'согните ее'],\n",
              " ['fold it', 'сложи его'],\n",
              " ['fold it', 'сложите его'],\n",
              " ['fold it', 'сложи ее'],\n",
              " ['fold it', 'сложите ее'],\n",
              " ['get tom', 'приведи тома'],\n",
              " ['get out', 'убираися'],\n",
              " ['get out', 'проваливаи'],\n",
              " ['get out', 'убираитесь'],\n",
              " ['get out', 'проваливаите'],\n",
              " ['get out', 'катись отсюда'],\n",
              " ['get out', 'вон'],\n",
              " ['get out', 'проваливаи'],\n",
              " ['get out', 'убираися'],\n",
              " ['get out', 'убираитесь'],\n",
              " ['go away', 'уходи'],\n",
              " ['go away', 'уходи'],\n",
              " ['go away', 'уходите'],\n",
              " ['go away', 'уходите'],\n",
              " ['go away', 'уходи'],\n",
              " ['go away', 'уходи'],\n",
              " ['go away', 'иди отсюда'],\n",
              " ['go away', 'уходите'],\n",
              " ['go away', 'уиди'],\n",
              " ['go away', 'уидите'],\n",
              " ['go back', 'иди обратно'],\n",
              " ['go back', 'идите обратно'],\n",
              " ['go back', 'поезжаи обратно'],\n",
              " ['go back', 'поезжаите обратно'],\n",
              " ['go home', 'идите домои'],\n",
              " ['go home', 'иди домои'],\n",
              " ['go slow', 'двигаися медленно'],\n",
              " ['goodbye', 'до свидания'],\n",
              " ['goodbye', 'доброго пути'],\n",
              " ['hang on', 'держись'],\n",
              " ['hang on', 'держитесь'],\n",
              " ['he came', 'он пришел'],\n",
              " ['he quit', 'он уволился'],\n",
              " ['he runs', 'он бегает'],\n",
              " ['help me', 'помогите мне'],\n",
              " ['help me', 'помоги мне'],\n",
              " ['help me', 'помогите мне'],\n",
              " ['help me', 'помоги мне'],\n",
              " ['help me', 'помоги ка мне'],\n",
              " ['help us', 'помогите нам'],\n",
              " ['help us', 'помоги нам'],\n",
              " ['help us', 'помоги нам'],\n",
              " ['help us', 'помогите нам'],\n",
              " ['hi tom', 'привет том'],\n",
              " ['hit tom', 'беи тома'],\n",
              " ['hit tom', 'ударь тома'],\n",
              " ['hit tom', 'беите тома'],\n",
              " ['hold it', 'подожди'],\n",
              " ['hold it', 'не двигаися'],\n",
              " ['hold it', 'ни с места'],\n",
              " ['hold it', 'замри'],\n",
              " ['hold on', 'не кладите трубку'],\n",
              " ['hug tom', 'обними тома'],\n",
              " ['hug tom', 'обнимите тома'],\n",
              " ['i agree', 'я согласен'],\n",
              " ['i agree', 'я согласна'],\n",
              " ['i bowed', 'я поклонился'],\n",
              " ['i cried', 'я плакал'],\n",
              " ['i cried', 'я плакала'],\n",
              " ['i dozed', 'я вздремнул'],\n",
              " ['i drove', 'я вел машину'],\n",
              " ['i drove', 'я вела машину'],\n",
              " ['i moved', 'я переехал'],\n",
              " ['i moved', 'я переехала'],\n",
              " ['i slept', 'я спал'],\n",
              " ['i slept', 'я спала'],\n",
              " ['i snore', 'я храплю'],\n",
              " ['i stood', 'я стоял'],\n",
              " ['i swore', 'я выругался'],\n",
              " ['i swore', 'я поклялся'],\n",
              " ['i tried', 'я пытался'],\n",
              " ['i tried', 'я попробовала'],\n",
              " ['i waved', 'я махнул рукои'],\n",
              " ['i waved', 'я махнула рукои'],\n",
              " ['i ll go', 'я поиду'],\n",
              " ['i ll go', 'я поеду'],\n",
              " ['i m tom', 'я том'],\n",
              " ['i m bad', 'я плохои'],\n",
              " ['i m bad', 'я плохая'],\n",
              " ['i m fat', 'я толстыи'],\n",
              " ['i m fat', 'я толстая'],\n",
              " ['i m fit', 'я в форме'],\n",
              " ['i m hit', 'меня ударили'],\n",
              " ['i m hot', 'мне жарко'],\n",
              " ['i m ill', 'я болен'],\n",
              " ['i m ill', 'я болею'],\n",
              " ['i m ill', 'я больна'],\n",
              " ['i m mad', 'я сумасшедшии'],\n",
              " ['i m mad', 'я злюсь'],\n",
              " ['i m new', 'я новичок'],\n",
              " ['i m new', 'я новенькая'],\n",
              " ['i m old', 'я старыи'],\n",
              " ['i m old', 'я старая'],\n",
              " ['i m sad', 'мне грустно'],\n",
              " ['i m shy', 'я стесняюсь'],\n",
              " ['i m shy', 'я стеснительныи'],\n",
              " ['i m shy', 'я стеснительная'],\n",
              " ['i m shy', 'я застенчивыи'],\n",
              " ['i m shy', 'я застенчивая'],\n",
              " ['i m shy', 'я робкии'],\n",
              " ['i m shy', 'я робкая'],\n",
              " ['i m shy', 'я стеснителен'],\n",
              " ['i m shy', 'я стеснительна'],\n",
              " ['i m wet', 'я мокрая'],\n",
              " ['i m wet', 'я мокрыи'],\n",
              " ['it s ok', 'все в порядке'],\n",
              " ['it s ok', 'все нормально'],\n",
              " ['it s me', 'это я'],\n",
              " ['it s me', 'это я'],\n",
              " ['it s me', 'это я'],\n",
              " ['join us', 'присоединяися к нам'],\n",
              " ['join us', 'присоединяитесь к нам'],\n",
              " ['keep it', 'оставь себе'],\n",
              " ['keep it', 'оставьте себе'],\n",
              " ['keep it', 'оставь его себе'],\n",
              " ['keep it', 'оставьте его себе'],\n",
              " ['keep it', 'оставь ее себе'],\n",
              " ['keep it', 'оставьте ее себе'],\n",
              " ['kill it', 'убеи его'],\n",
              " ['kill it', 'убеите его'],\n",
              " ['kill it', 'убеи ее'],\n",
              " ['kill it', 'убеите ее'],\n",
              " ['kiss me', 'поцелуите меня'],\n",
              " ['lock it', 'запри его'],\n",
              " ['lock it', 'заприте его'],\n",
              " ['lock it', 'запри ее'],\n",
              " ['lock it', 'заприте ее'],\n",
              " ['look up', 'посмотрите наверх'],\n",
              " ['look up', 'посмотри наверх'],\n",
              " ['me too', 'я тоже'],\n",
              " ['me too', 'мне тоже'],\n",
              " ['me too', 'меня тоже'],\n",
              " ['open up', 'открои'],\n",
              " ['open up', 'открываи'],\n",
              " ['perfect', 'безупречно'],\n",
              " ['perfect', 'превосходно'],\n",
              " ['perfect', 'прекрасно'],\n",
              " ['pull it', 'тяни его'],\n",
              " ['quit it', 'перестаньте'],\n",
              " ['see you', 'увидимся'],\n",
              " ['see you', 'увидимся'],\n",
              " ['show me', 'покажи мне'],\n",
              " ['show me', 'покажите мне'],\n",
              " ['show me', 'покажи'],\n",
              " ['show me', 'покажите'],\n",
              " ['show me', 'покажи мне'],\n",
              " ['show me', 'покажите мне'],\n",
              " ['shut up', 'заткнись'],\n",
              " ['shut up', 'цыц'],\n",
              " ['shut up', 'заткнитесь'],\n",
              " ['skip it', 'неважно'],\n",
              " ['skip it', 'проехали'],\n",
              " ['so long', 'до встречи'],\n",
              " ['stop it', 'перестань'],\n",
              " ['stop it', 'прекрати это'],\n",
              " ['stop it', 'прекратите это'],\n",
              " ['stop it', 'перестаньте'],\n",
              " ['take it', 'возьми'],\n",
              " ['tell me', 'скажи мне'],\n",
              " ['tell me', 'скажите мне'],\n",
              " ['tom ate', 'том поел'],\n",
              " ['tom ate', 'том ел'],\n",
              " ['tom ran', 'том бежал'],\n",
              " ['tom won', 'том выиграл'],\n",
              " ['tom won', 'том победил'],\n",
              " ['wake up', 'просыпаися'],\n",
              " ['wake up', 'просыпаитесь'],\n",
              " ['wake up', 'проснись'],\n",
              " ['wake up', 'проснитесь'],\n",
              " ['wake up', 'проснись'],\n",
              " ['wake up', 'просыпаися'],\n",
              " ['wake up', 'просыпаитесь'],\n",
              " ['wake up', 'проснись'],\n",
              " ['wake up', 'проснитесь'],\n",
              " ['wake up', 'проснись'],\n",
              " ['wash up', 'умоися'],\n",
              " ['we care', 'нам не все равно'],\n",
              " ['we know', 'знаем'],\n",
              " ['we know', 'знамо дело'],\n",
              " ['we know', 'мы знаем'],\n",
              " ['we lost', 'мы проиграли'],\n",
              " ['who ate', 'кто поел'],\n",
              " ['who ran', 'кто бежал'],\n",
              " ['who won', 'кто выиграл'],\n",
              " ['who won', 'кто победил'],\n",
              " ['why not', 'почему нет'],\n",
              " ['why not', 'почему бы и нет'],\n",
              " ['you run', 'ты бежишь'],\n",
              " ['you won', 'ты победил'],\n",
              " ['you won', 'ты победила'],\n",
              " ['you won', 'ты выиграл'],\n",
              " ['you won', 'вы выиграли'],\n",
              " ['you won', 'вы победили'],\n",
              " ['you won', 'ты выиграла'],\n",
              " ['am i fat', 'я толстыи'],\n",
              " ['am i fat', 'я толстая'],\n",
              " ['ask them', 'спроси их'],\n",
              " ['ask them', 'спроси у них'],\n",
              " ['ask them', 'спросите у них'],\n",
              " ['ask them', 'попроси их'],\n",
              " ['ask them', 'попросите их'],\n",
              " ['back off', 'отстань'],\n",
              " ['back off', 'отвали'],\n",
              " ['back off', 'посторонитесь'],\n",
              " ['back off', 'посторонись'],\n",
              " ['back off', 'отоиди'],\n",
              " ['back off', 'отоидите'],\n",
              " ['back off', 'отодвинься'],\n",
              " ['back off', 'отодвиньтесь'],\n",
              " ['back off', 'отвали'],\n",
              " ['back off', 'отвяжись'],\n",
              " ['back off', 'отстань'],\n",
              " ['be a man', 'будь мужчинои'],\n",
              " ['be a man', 'будьте мужчинои'],\n",
              " ['be brave', 'будь храбр'],\n",
              " ['be brave', 'будь храбрым'],\n",
              " ['be brief', 'будь краток'],\n",
              " ['be quiet', 'тихо'],\n",
              " ['be quiet', 'помолчи ка'],\n",
              " ['beats me', 'без понятия'],\n",
              " ['buzz off', 'проваливаи'],\n",
              " ['bye tom', 'пока том'],\n",
              " ['call tom', 'позвони тому'],\n",
              " ['call tom', 'позвоните тому'],\n",
              " ['call tom', 'позови тома'],\n",
              " ['call tom', 'позовите тома'],\n",
              " ['cheer up', 'не унываи'],\n",
              " ['cheer up', 'выше нос'],\n",
              " ['cheer up', 'взбодрись'],\n",
              " ['cheer up', 'выше нос'],\n",
              " ['cool off', 'остынь'],\n",
              " ['cuff him', 'надень на него наручники'],\n",
              " ['cuff him', 'в наручники его'],\n",
              " ['don t go', 'не ходи'],\n",
              " ['don t go', 'не ходите'],\n",
              " ['don t go', 'не езди'],\n",
              " ['don t go', 'не ездите'],\n",
              " ['drive on', 'поехали'],\n",
              " ['drive on', 'едем дальше'],\n",
              " ['find tom', 'наиди тома'],\n",
              " ['find tom', 'наидите тома'],\n",
              " ['fix this', 'исправь это'],\n",
              " ['fix this', 'почини это'],\n",
              " ['fix this', 'почините это'],\n",
              " ['fix this', 'исправьте это'],\n",
              " ['get away', 'уходи'],\n",
              " ['get away', 'отоиди'],\n",
              " ['get away', 'уходи'],\n",
              " ['get away', 'иди отсюда'],\n",
              " ['get away', 'вали отсюда'],\n",
              " ['get down', 'ляг на пол'],\n",
              " ['get down', 'спускаися'],\n",
              " ['get down', 'выходи'],\n",
              " ['get down', 'спускаитесь'],\n",
              " ['get down', 'выходите'],\n",
              " ['get lost', 'убираися'],\n",
              " ['get lost', 'пошел вон'],\n",
              " ['get lost', 'проваливаи'],\n",
              " ['get lost', 'исчезни'],\n",
              " ['get lost', 'свали'],\n",
              " ['get lost', 'а ну пошел отсюда'],\n",
              " ['get lost', 'сгинь'],\n",
              " ['get lost', 'а ну пошел отсюда'],\n",
              " ['get lost', 'потеряися'],\n",
              " ['get lost', 'пошла прочь'],\n",
              " ['get lost', 'пошел прочь'],\n",
              " ['get lost', 'гуляи вася'],\n",
              " ['get lost', 'иди ты куда подальше'],\n",
              " ['get lost', 'иди прочь'],\n",
              " ['get lost', 'исчезни'],\n",
              " ['get lost', 'проваливаи'],\n",
              " ['get lost', 'убираися'],\n",
              " ['get lost', 'вали отсюда'],\n",
              " ['get real', 'будь реалистом'],\n",
              " ['get real', 'спустись с небес на землю'],\n",
              " ['go ahead', 'даваи'],\n",
              " ['go ahead', 'даваи'],\n",
              " ['go on in', 'даваи дальше'],\n",
              " ['good job', 'хорошая работа'],\n",
              " ['good job', 'хорошо сработано'],\n",
              " ['grab tom', 'схвати тома'],\n",
              " ['grab him', 'хватаи его'],\n",
              " ['grab him', 'хватаите его'],\n",
              " ['have fun', 'наслаждаитесь'],\n",
              " ['have fun', 'развлекаитесь'],\n",
              " ['he spoke', 'он говорил'],\n",
              " ['he spoke', 'он высказался'],\n",
              " ['he tried', 'он пытался'],\n",
              " ['he tried', 'он попробовал'],\n",
              " ['he tried', 'он попытался'],\n",
              " ['he s wet', 'он мокрыи'],\n",
              " ['help tom', 'помоги тому'],\n",
              " ['help tom', 'помогите тому'],\n",
              " ['hi guys', 'привет ребята'],\n",
              " ['how cute', 'как мило'],\n",
              " ['how deep', 'насколько глубоко'],\n",
              " ['how rude', 'как грубо'],\n",
              " ['humor me', 'рассмеши меня'],\n",
              " ['humor me', 'просто сделаи это ради меня'],\n",
              " ['hurry up', 'поторапливаися'],\n",
              " ['hurry up', 'быстреи'],\n",
              " ['hurry up', 'скорее'],\n",
              " ['hurry up', 'живеи'],\n",
              " ['hurry up', 'даваи быстреи'],\n",
              " ['i agreed', 'я согласился'],\n",
              " ['i am old', 'я старыи'],\n",
              " ['i am old', 'я старая'],\n",
              " ['i am old', 'я стар'],\n",
              " ['i ate it', 'я ее съел'],\n",
              " ['i burped', 'я отрыгнул'],\n",
              " ['i can go', 'я могу поити'],\n",
              " ['i can go', 'я могу поехать'],\n",
              " ['i danced', 'я танцевал'],\n",
              " ['i danced', 'я танцевала'],\n",
              " ['i did it', 'я сделал это'],\n",
              " ['i did it', 'я сделала это'],\n",
              " ['i failed', 'у меня не получилось'],\n",
              " ['i failed', 'у меня не вышло'],\n",
              " ['i gasped', 'я задыхался'],\n",
              " ['i get by', 'я справляюсь'],\n",
              " ['i goofed', 'я опростоволосился'],\n",
              " ['i goofed', 'я оплошал'],\n",
              " ['i goofed', 'я дал маху'],\n",
              " ['i goofed', 'я попал впросак'],\n",
              " ['i got it', 'я понял'],\n",
              " ['i got it', 'понял'],\n",
              " ['i got up', 'я встал'],\n",
              " ['i got up', 'я поднялся'],\n",
              " ['i helped', 'я помог'],\n",
              " ['i helped', 'я помогла'],\n",
              " ['i jumped', 'я прыгнул'],\n",
              " ['i jumped', 'я прыгнула'],\n",
              " ['i looked', 'я посмотрел'],\n",
              " ['i looked', 'я взглянул'],\n",
              " ['i looked', 'я посмотрела'],\n",
              " ['i moaned', 'я простонал'],\n",
              " ['i nodded', 'я кивнул'],\n",
              " ['i nodded', 'я кивнула'],\n",
              " ['i obeyed', 'я послушался'],\n",
              " ['i obeyed', 'я подчинился'],\n",
              " ['i paused', 'я сделал паузу'],\n",
              " ['i paused', 'я сделала паузу'],\n",
              " ['i phoned', 'я звонил'],\n",
              " ['i phoned', 'я позвонил'],\n",
              " ['i prayed', 'я молился'],\n",
              " ['i prayed', 'я молилась'],\n",
              " ['i prayed', 'я помолился'],\n",
              " ['i prayed', 'я помолилась'],\n",
              " ['i refuse', 'я отказываюсь'],\n",
              " ['i resign', 'я увольняюсь'],\n",
              " ['i saw it', 'я это видел'],\n",
              " ['i saw it', 'я видела это'],\n",
              " ['i saw it', 'я его видел'],\n",
              " ['i saw it', 'я ее видел'],\n",
              " ['i shaved', 'я побрился'],\n",
              " ['i sighed', 'я вздыхал'],\n",
              " ['i smiled', 'я улыбнулся'],\n",
              " ['i smiled', 'я улыбнулась'],\n",
              " ['i stayed', 'я остался'],\n",
              " ['i stayed', 'я осталась'],\n",
              " ['i talked', 'я разговаривал'],\n",
              " ['i talked', 'я разговаривала'],\n",
              " ['i use it', 'я использую это'],\n",
              " ['i use it', 'я пользуюсь этим'],\n",
              " ['i use it', 'я им пользуюсь'],\n",
              " ['i use it', 'я еи пользуюсь'],\n",
              " ['i use it', 'я его использую'],\n",
              " ['i use it', 'я ее использую'],\n",
              " ['i waited', 'я подождал'],\n",
              " ['i waited', 'я подождала'],\n",
              " ['i waited', 'я ждал'],\n",
              " ['i waited', 'я ждала'],\n",
              " ['i winked', 'я подмигнул'],\n",
              " ['i winked', 'я подмигнула'],\n",
              " ['i yawned', 'я зевнул'],\n",
              " ['i yawned', 'я зевнула'],\n",
              " ['i d wait', 'я бы подождал'],\n",
              " ['i ll ask', 'я спрошу'],\n",
              " ['i ll die', 'я умру'],\n",
              " ['i ll pay', 'я заплачу'],\n",
              " ['i ll try', 'я попробую'],\n",
              " ['i ll try', 'я попытаюсь'],\n",
              " ['i ll try', 'попытаюсь'],\n",
              " ['i ll win', 'я выиграю'],\n",
              " ['i m a dj', 'я диджеи'],\n",
              " ['i m back', 'я вернулся'],\n",
              " ['i m back', 'это опять я'],\n",
              " ['i m back', 'я вернулась'],\n",
              " ['i m bald', 'я лысыи'],\n",
              " ['i m bald', 'я лысая'],\n",
              " ['i m busy', 'я занят'],\n",
              " ['i m busy', 'я занята'],\n",
              " ['i m calm', 'я спокоина'],\n",
              " ['i m cold', 'мне холодно'],\n",
              " ['i m cold', 'я замерз'],\n",
              " ['i m cold', 'я замерзла'],\n",
              " ['i m cool', 'я классныи'],\n",
              " ['i m cool', 'я классная'],\n",
              " ['i m cool', 'я крут'],\n",
              " ['i m cool', 'я клевая'],\n",
              " ['i m deaf', 'я глухои'],\n",
              " ['i m deaf', 'я глухая'],\n",
              " ['i m done', 'я закончил'],\n",
              " ['i m easy', 'меня не волнует'],\n",
              " ['i m fair', 'я честныи'],\n",
              " ['i m fast', 'я быстрыи'],\n",
              " ['i m fast', 'я быстрая'],\n",
              " ['i m fine', 'со мнои все в порядке'],\n",
              " ['i m fine', 'я в порядке'],\n",
              " ['i m free', 'я свободна'],\n",
              " ['i m free', 'я свободен'],\n",
              " ['i m free', 'я свободна'],\n",
              " ['i m full', 'я наелся'],\n",
              " ['i m full', 'я сыт'],\n",
              " ['i m full', 'я сыта'],\n",
              " ['i m full', 'я наелась'],\n",
              " ['i m glad', 'я рад'],\n",
              " ['i m glad', 'я рада'],\n",
              " ['i m good', 'я хорошии'],\n",
              " ['i m good', 'я хорошая'],\n",
              " ['i m here', 'я здесь'],\n",
              " ['i m here', 'я тут'],\n",
              " ['i m high', 'я под каифом'],\n",
              " ['i m home', 'я дома'],\n",
              " ['i m hurt', 'я травмирован'],\n",
              " ['i m hurt', 'я травмирована'],\n",
              " ['i m last', 'я последнии'],\n",
              " ['i m last', 'я последняя'],\n",
              " ['i m late', 'я опоздал'],\n",
              " ['i m late', 'я опоздала'],\n",
              " ['i m late', 'я опаздываю'],\n",
              " ['i m lazy', 'я ленивыи'],\n",
              " ['i m lazy', 'я лентяи'],\n",
              " ['i m lazy', 'я ленивая'],\n",
              " ['i m lost', 'я заблудился'],\n",
              " ['i m lost', 'я потерялся'],\n",
              " ['i m lost', 'я заблудилась'],\n",
              " ['i m lost', 'я потерялась'],\n",
              " ['i m mean', 'я подлыи'],\n",
              " ['i m mean', 'я вредныи'],\n",
              " ['i m mean', 'я зловредныи'],\n",
              " ['i m mean', 'я злои'],\n",
              " ['i m mean', 'я злая'],\n",
              " ['i m neat', 'я аккуратныи'],\n",
              " ['i m neat', 'я аккуратная'],\n",
              " ['i m next', 'я следующии'],\n",
              " ['i m numb', 'я немои'],\n",
              " ['i m numb', 'я немая'],\n",
              " ['i m okay', 'у меня все хорошо'],\n",
              " ['i m okay', 'я в порядке'],\n",
              " ['i m okay', 'у меня все в порядке'],\n",
              " ['i m poor', 'я бедная'],\n",
              " ['i m poor', 'я бедныи'],\n",
              " ['i m rich', 'я богат'],\n",
              " ['i m rich', 'я богата'],\n",
              " ['i m rich', 'я богатая'],\n",
              " ['i m rich', 'я богатыи'],\n",
              " ['i m safe', 'я в безопасности'],\n",
              " ['i m sick', 'я болен'],\n",
              " ['i m sick', 'я болею'],\n",
              " ['i m sick', 'я больна'],\n",
              " ['i m slow', 'я медлительныи'],\n",
              " ['i m slow', 'я медленныи'],\n",
              " ['i m slow', 'я медленная'],\n",
              " ['i m slow', 'я медлительная'],\n",
              " ['i m sure', 'я уверена'],\n",
              " ['i m sure', 'я убежден'],\n",
              " ['i m tall', 'я высокии'],\n",
              " ['i m tall', 'я высокая'],\n",
              " ['i m thin', 'я худои'],\n",
              " ['i m tidy', 'я опрятныи'],\n",
              " ['i m tidy', 'я опрятная'],\n",
              " ['i m ugly', 'я уродина'],\n",
              " ['i m ugly', 'я некрасивая'],\n",
              " ['i m ugly', 'я некрасивыи'],\n",
              " ['i m ugly', 'я безобразен'],\n",
              " ['i m ugly', 'я безобразна'],\n",
              " ['i m warm', 'мне тепло'],\n",
              " ['i m weak', 'я слаб'],\n",
              " ['i m weak', 'я слаба'],\n",
              " ['i m weak', 'я слабыи'],\n",
              " ['i m weak', 'я слабая'],\n",
              " ['i m well', 'со мнои все хорошо'],\n",
              " ['i m wise', 'я умныи'],\n",
              " ['i ve won', 'я выиграл'],\n",
              " ['i ve won', 'я победил'],\n",
              " ['it helps', 'это помогает'],\n",
              " ['it hurts', 'больно'],\n",
              " ['it works', 'это работает'],\n",
              " ['it works', 'работает'],\n",
              " ['it s tom', 'это том'],\n",
              " ['it s fun', 'это забавно'],\n",
              " ['it s his', 'это его'],\n",
              " ['it s hot', 'жарко'],\n",
              " ['it s hot', 'она горячая'],\n",
              " ['it s hot', 'он горячии'],\n",
              " ['it s hot', 'оно горячее'],\n",
              " ['it s new', 'это новая'],\n",
              " ['it s new', 'он новыи'],\n",
              " ['it s new', 'она новая'],\n",
              " ['it s new', 'оно новое'],\n",
              " ['it s new', 'этот новыи'],\n",
              " ['it s odd', 'это странно'],\n",
              " ['it s old', 'она старая'],\n",
              " ['it s old', 'оно старое'],\n",
              " ['it s red', 'он красныи'],\n",
              " ['it s red', 'она красная'],\n",
              " ['it s red', 'оно красное'],\n",
              " ['it s sad', 'это грустно'],\n",
              " ['keep out', 'не входить'],\n",
              " ['keep out', 'вход запрещен'],\n",
              " ['kill tom', 'убеи тома'],\n",
              " ['kill tom', 'убеите тома'],\n",
              " ['kiss tom', 'поцелуи тома'],\n",
              " ['kiss tom', 'поцелуите тома'],\n",
              " ['leave it', 'оставь это'],\n",
              " ['leave it', 'оставьте это'],\n",
              " ['leave it', 'бросьте'],\n",
              " ['leave me', 'оставь меня'],\n",
              " ['leave me', 'оставь меня'],\n",
              " ['leave me', 'оставьте меня'],\n",
              " ['leave me', 'пусти меня'],\n",
              " ['leave us', 'оставь нас'],\n",
              " ['leave us', 'оставьте нас'],\n",
              " ['let s go', 'пошли'],\n",
              " ['let s go', 'поидем'],\n",
              " ['let s go', 'поехали'],\n",
              " ['let s go', 'идем'],\n",
              " ['let s go', 'поехали'],\n",
              " ['let s go', 'поидем'],\n",
              " ['let s go', 'поидемте'],\n",
              " ['let s go', 'идем'],\n",
              " ['look out', 'берегись'],\n",
              " ['marry me', 'выходи за меня замуж'],\n",
              " ['marry me', 'женись на мне'],\n",
              " ['marry me', 'выходи за меня'],\n",
              " ['marry me', 'выходите за меня'],\n",
              " ['marry me', 'выходите за меня замуж'],\n",
              " ['marry me', 'женитесь на мне'],\n",
              " ['may i go', 'мне можно идти'],\n",
              " ['may i go', 'я могу идти'],\n",
              " ['run away', 'убегаи'],\n",
              " ['save tom', 'спаси тома'],\n",
              " ['save tom', 'спасите тома'],\n",
              " ['she came', 'она пришла'],\n",
              " ['she died', 'она умерла'],\n",
              " ['she lied', 'она солгала'],\n",
              " ['she runs', 'она бегает'],\n",
              " ['sit down', 'сядь'],\n",
              " ['sit down', 'садитесь'],\n",
              " ['sit down', 'сядьте'],\n",
              " ['sit down', 'сядь'],\n",
              " ['sit down', 'садитесь'],\n",
              " ['sit down', 'садись'],\n",
              " ['sit down', 'сядь'],\n",
              " ['sit down', 'сядьте'],\n",
              " ['sit here', 'сядь здесь'],\n",
              " ['sit here', 'садись сюда'],\n",
              " ['sit here', 'садитесь сюда'],\n",
              " ['sit here', 'сядьте здесь'],\n",
              " ['sit here', 'садитесь здесь'],\n",
              " ['speak up', 'выкладываи'],\n",
              " ['stand by', 'оставаитесь с нами'],\n",
              " ['stand by', 'будь наготове'],\n",
              " ['stand by', 'не переключаитесь'],\n",
              " ['stand up', 'вставаи'],\n",
              " ['stand up', 'вставаите'],\n",
              " ['stand up', 'встань'],\n",
              " ['stand up', 'встаньте'],\n",
              " ['stand up', 'поднимаися'],\n",
              " ['stand up', 'поднимаитесь'],\n",
              " ['stand up', 'встань'],\n",
              " ['stand up', 'встаньте'],\n",
              " ['stand up', 'встань'],\n",
              " ['stand up', 'встаньте'],\n",
              " ['stay put', 'оставаися на месте'],\n",
              " ['stop tom', 'остановите тома'],\n",
              " ['stop tom', 'останови тома'],\n",
              " ['take tom', 'возьми тома'],\n",
              " ['taste it', 'попробуите ее'],\n",
              " ['taste it', 'попробуите его'],\n",
              " ['taste it', 'попробуи ее'],\n",
              " ['taste it', 'попробуи его'],\n",
              " ['tell tom', 'скажи тому'],\n",
              " ['tell tom', 'скажите тому'],\n",
              " ['tell tom', 'расскажи тому'],\n",
              " ['tell tom', 'расскажите тому'],\n",
              " ['terrific', 'гениально'],\n",
              " ['terrific', 'супер'],\n",
              " ['terrific', 'отвал башки'],\n",
              " ['terrific', 'зашибись'],\n",
              " ['they won', 'они победили'],\n",
              " ['they won', 'они выиграли'],\n",
              " ['tom came', 'том пришел'],\n",
              " ['tom came', 'пришел том'],\n",
              " ['tom died', 'том умер'],\n",
              " ['tom fell', 'том упал'],\n",
              " ['tom knew', 'том знал'],\n",
              " ['tom left', 'том ушел'],\n",
              " ['tom left', 'том уехал'],\n",
              " ['tom lied', 'том солгал'],\n",
              " ['tom lied', 'том соврал'],\n",
              " ['tom lies', 'том лжет'],\n",
              " ['tom lies', 'том врет'],\n",
              " ['tom lost', 'том проиграл'],\n",
              " ['tom paid', 'том заплатил'],\n",
              " ['tom quit', 'том уволился'],\n",
              " ['tom sang', 'том спел'],\n",
              " ['tom swam', 'том плавал'],\n",
              " ['tom went', 'том пошел'],\n",
              " ['tom went', 'том поехал'],\n",
              " ['tom wept', 'том плакал'],\n",
              " ['too late', 'слишком поздно'],\n",
              " ['touch it', 'потрогаи его'],\n",
              " ['touch it', 'потрогаите его'],\n",
              " ['touch it', 'прикоснись к нему'],\n",
              " ['touch it', 'прикоснитесь к нему'],\n",
              " ['touch it', 'потрогаи ее'],\n",
              " ['touch it', 'потрогаите ее'],\n",
              " ['touch it', 'прикоснитесь к неи'],\n",
              " ['touch it', 'прикоснись к неи'],\n",
              " ['trust me', 'верь мне'],\n",
              " ['try hard', 'постараися как следует'],\n",
              " ['try some', 'попробуи'],\n",
              " ['try this', 'попробуи это'],\n",
              " ['try this', 'попробуите это'],\n",
              " ['try this', 'попробуи вот это'],\n",
              " ['use this', 'воспользуися этим'],\n",
              " ['warn tom', 'предупреди тома'],\n",
              " ['warn tom', 'предупредите тома'],\n",
              " ['we agree', 'мы согласны'],\n",
              " ['we tried', 'мы попробовали'],\n",
              " ['we tried', 'мы попытались'],\n",
              " ['we ll go', 'мы поидем'],\n",
              " ['we ll go', 'мы идем'],\n",
              " ['we ll go', 'мы поедем'],\n",
              " ['we re ok', 'мы в порядке'],\n",
              " ['what for', 'для чего'],\n",
              " ['what for', 'почему'],\n",
              " ['what for', 'зачем'],\n",
              " ['what fun', 'как весело'],\n",
              " ['who came', 'кто пришел'],\n",
              " ['who died', 'кто умер'],\n",
              " ['who fell', 'кто упал'],\n",
              " ['who lost', 'кто проиграл'],\n",
              " ['who paid', 'кто заплатил'],\n",
              " ['who quit', 'кто вышел'],\n",
              " ['who quit', 'кто уволился'],\n",
              " ['who swam', 'кто плавал'],\n",
              " ['write me', 'напиши мне'],\n",
              " ['write me', 'напишите мне'],\n",
              " ['write me', 'пиши мне'],\n",
              " ['write me', 'пишите мне'],\n",
              " ['you lost', 'вы проиграли'],\n",
              " ['you lost', 'ты проиграл'],\n",
              " ['you lost', 'ты проиграла'],\n",
              " ['after you', 'после вас'],\n",
              " ['after you', 'только после вас'],\n",
              " ['after you', 'сначала ты'],\n",
              " ['aim fire', 'целься пли'],\n",
              " ['aim fire', 'целься огонь'],\n",
              " ['am i dead', 'я умер'],\n",
              " ['am i late', 'я опоздал'],\n",
              " ['am i late', 'я опоздала'],\n",
              " ['answer me', 'ответь мне'],\n",
              " ['answer me', 'ответьте мне'],\n",
              " ['answer me', 'отвечаите мне'],\n",
              " ['answer me', 'отвечаи мне'],\n",
              " ['be honest', 'будь честен'],\n",
              " ['be honest', 'будьте честны'],\n",
              " ['birds fly', 'птицы летают'],\n",
              " ['bless you', 'будь здоров'],\n",
              " ['call home', 'позвони домои'],\n",
              " ['call home', 'позвоните домои'],\n",
              " ['calm down', 'успокоися'],\n",
              " ['calm down', 'успокоитесь'],\n",
              " ['calm down', 'успокоитесь'],\n",
              " ['can i eat', 'я могу есть'],\n",
              " ['can i eat', 'я могу поесть'],\n",
              " ['can we go', 'мы можем идти'],\n",
              " ['catch tom', 'поимаи тома'],\n",
              " ['catch tom', 'ловите тома'],\n",
              " ['catch tom', 'лови тома'],\n",
              " ['catch tom', 'поимаите тома'],\n",
              " ['catch him', 'лови его'],\n",
              " ['catch him', 'хватаи его'],\n",
              " ['catch him', 'ловите его'],\n",
              " ['chill out', 'остынь'],\n",
              " ['choose me', 'выбери меня'],\n",
              " ['clear out', 'освободите помещение'],\n",
              " ['come back', 'вернись'],\n",
              " ['come back', 'вернитесь'],\n",
              " ['come back', 'возвращаися'],\n",
              " ['come back', 'возвращаитесь'],\n",
              " ['come back', 'вернись'],\n",
              " ['come here', 'иди сюда'],\n",
              " ['come here', 'иди сюда'],\n",
              " ['come here', 'идите сюда'],\n",
              " ['come home', 'возвращаися домои'],\n",
              " ['come home', 'приходи домои'],\n",
              " ['come over', 'подоидите'],\n",
              " ['come over', 'идите ко мне'],\n",
              " ['come over', 'идите ко мне'],\n",
              " ['come over', 'приезжаи'],\n",
              " ['come over', 'приезжаите'],\n",
              " ['come soon', 'приходите скорее'],\n",
              " ['come soon', 'приходи скореи'],\n",
              " ['cool down', 'остынь'],\n",
              " ['cool down', 'остыньте'],\n",
              " ['did i win', 'я выиграл'],\n",
              " ['did i win', 'я победил'],\n",
              " ['do it now', 'сделаите это сеичас'],\n",
              " ['dogs bark', 'собаки лают'],\n",
              " ['dogs bark', 'псы лают'],\n",
              " ['don t ask', 'не спрашиваи'],\n",
              " ['don t ask', 'не спрашиваите'],\n",
              " ['don t cry', 'не плачь'],\n",
              " ['don t cry', 'не плачьте'],\n",
              " ['don t cry', 'не реви'],\n",
              " ['don t cry', 'не плачь'],\n",
              " ['don t die', 'не умираи'],\n",
              " ['don t die', 'не умираите'],\n",
              " ['don t lie', 'не лги'],\n",
              " ['don t lie', 'не ври'],\n",
              " ['don t lie', 'не врите'],\n",
              " ['don t lie', 'не лгите'],\n",
              " ['don t run', 'не беги'],\n",
              " ['don t run', 'не бегите'],\n",
              " ['excuse me', 'извините'],\n",
              " ['excuse me', 'что простите'],\n",
              " ['excuse me', 'прошу прощения'],\n",
              " ['excuse me', 'что вы сказали'],\n",
              " ['fantastic', 'фантастика'],\n",
              " ['follow me', 'следуите за мнои'],\n",
              " ['follow me', 'иди за мнои'],\n",
              " ['follow me', 'следуи за мнои'],\n",
              " ['follow me', 'идите за мнои'],\n",
              " ['follow me', 'за мнои'],\n",
              " ['follow us', 'иди за нами'],\n",
              " ['follow us', 'следуи за нами'],\n",
              " ['follow us', 'идите за нами'],\n",
              " ['follow us', 'следуите за нами'],\n",
              " ['follow us', 'поезжаи за нами'],\n",
              " ['follow us', 'поезжаите за нами'],\n",
              " ['forget it', 'забудьте'],\n",
              " ['forget it', 'забудь об этом'],\n",
              " ['forget it', 'забудь'],\n",
              " ['forget it', 'забудьте об этом'],\n",
              " ['forget it', 'попустись'],\n",
              " ['forget it', 'забудь'],\n",
              " ['forget me', 'забудь меня'],\n",
              " ['forget me', 'забудьте меня'],\n",
              " ['get a job', 'наиди работу'],\n",
              " ['get a job', 'наидите работу'],\n",
              " ['get ready', 'приготовься'],\n",
              " ['get ready', 'готовьтесь'],\n",
              " ['get ready', 'приготовьтесь'],\n",
              " ['get ready', 'готовься'],\n",
              " ['go get it', 'сходи за ним'],\n",
              " ['go get it', 'сходи за неи'],\n",
              " ['go get it', 'сходите за ним'],\n",
              " ['go get it', 'сходите за неи'],\n",
              " ['go inside', 'входите'],\n",
              " ['go inside', 'иди внутрь'],\n",
              " ['go inside', 'идите внутрь'],\n",
              " ['go inside', 'входи'],\n",
              " ['go slower', 'иди помедленнеи'],\n",
              " ['go slower', 'идите помедленнеи'],\n",
              " ['go to bed', 'иди спать'],\n",
              " ['go to bed', 'марш в постель'],\n",
              " ['go to bed', 'ложись спать'],\n",
              " ['go to bed', 'идите спать'],\n",
              " ['go to bed', 'иди в кровать'],\n",
              " ['go to bed', 'идите в кровать'],\n",
              " ['go to bed', 'ложитесь спать'],\n",
              " ['goodnight', 'спокоинои ночи'],\n",
              " ['grab that', 'лови'],\n",
              " ['grab that', 'лови это'],\n",
              " ['grab that', 'ловите'],\n",
              " ...]"
            ]
          },
          "execution_count": 37,
          "metadata": {},
          "output_type": "execute_result"
        }
      ],
      "source": [
        "_, _, pairs = readLangs(\"eng\", \"rus\")\n",
        "pairs"
      ]
    },
    {
      "cell_type": "markdown",
      "metadata": {
        "id": "lUF3JtozNIXU"
      },
      "source": [
        "Since there are a *lot* of example sentences and we want to train\n",
        "something quickly, we\\'ll trim the data set to only relatively short and\n",
        "simple sentences. Here the maximum length is 10 words (that includes\n",
        "ending punctuation) and we\\'re filtering to sentences that translate to\n",
        "the form \\\"I am\\\" or \\\"He is\\\" etc. (accounting for apostrophes replaced\n",
        "earlier).\n"
      ]
    },
    {
      "cell_type": "code",
      "execution_count": 38,
      "metadata": {
        "id": "m_aZxnuNNIXU",
        "jupyter": {
          "outputs_hidden": false
        }
      },
      "outputs": [],
      "source": [
        "def filterPair(p):\n",
        "    return len(p[0].split(' ')) < MAX_LENGTH and \\\n",
        "        len(p[1].split(' ')) < MAX_LENGTH\n",
        "\n",
        "def filterPairs(pairs):\n",
        "    return [pair for pair in pairs if filterPair(pair)]"
      ]
    },
    {
      "cell_type": "markdown",
      "metadata": {
        "id": "Hjlf2OdaNIXU"
      },
      "source": [
        "The full process for preparing the data is:\n",
        "\n",
        "-   Read text file and split into lines, split lines into pairs\n",
        "-   Normalize text, filter by length and content\n",
        "-   Make word lists from sentences in pairs\n"
      ]
    },
    {
      "cell_type": "code",
      "execution_count": 39,
      "metadata": {
        "colab": {
          "base_uri": "https://localhost:8080/"
        },
        "id": "FGx9KLSVNIXU",
        "jupyter": {
          "outputs_hidden": false
        },
        "outputId": "519cea32-2606-420c-c6ca-6c0083cb32e6"
      },
      "outputs": [
        {
          "name": "stdout",
          "output_type": "stream",
          "text": [
            "Reading lines...\n",
            "Read 399919 sentence pairs\n",
            "Trimmed to 360841 sentence pairs\n",
            "Counting words...\n",
            "Counted words:\n",
            "eng 14762\n",
            "rus 48575\n",
            "360841\n",
            "['tom said you would understand', 'том сказал что вы поимете']\n"
          ]
        }
      ],
      "source": [
        "def prepareData(lang1, lang2, reverse=False, partition=1):\n",
        "    input_lang, output_lang, pairs = readLangs(lang1, lang2, reverse)\n",
        "\n",
        "    pairs = pairs[0:int(len(pairs) * partition)]\n",
        "\n",
        "    print(\"Read %s sentence pairs\" % len(pairs))\n",
        "    pairs = filterPairs(pairs)\n",
        "    print(\"Trimmed to %s sentence pairs\" % len(pairs))\n",
        "    print(\"Counting words...\")\n",
        "    for pair in pairs:\n",
        "        input_lang.addSentence(pair[0])\n",
        "        output_lang.addSentence(pair[1])\n",
        "\n",
        "    print(\"Counted words:\")\n",
        "    print(input_lang.name, input_lang.n_words)\n",
        "    print(output_lang.name, output_lang.n_words)\n",
        "    return input_lang, output_lang, pairs\n",
        "\n",
        "input_lang, output_lang, pairs = prepareData('eng', 'rus', False)\n",
        "\n",
        "print(len(pairs))\n",
        "print(random.choice(pairs))"
      ]
    },
    {
      "cell_type": "code",
      "execution_count": 40,
      "metadata": {
        "id": "4qdQkasENIXU"
      },
      "outputs": [],
      "source": [
        "from torch.utils.data import random_split\n",
        "\n",
        "def indexesFromSentence(lang, sentence):\n",
        "    return [lang.word2index[word] for word in sentence.split(' ')]\n",
        "\n",
        "def tensorFromSentence(lang, sentence):\n",
        "    indexes = indexesFromSentence(lang, sentence)\n",
        "    indexes.append(EOS_token)\n",
        "    return torch.tensor(indexes, dtype=torch.long, device=device).view(1, -1)\n",
        "\n",
        "def tensorsFromPair(pair):\n",
        "    input_tensor = tensorFromSentence(input_lang, pair[0])\n",
        "    target_tensor = tensorFromSentence(output_lang, pair[1])\n",
        "    return (input_tensor, target_tensor)\n",
        "\n",
        "def get_dataloader(batch_size, partition=1):\n",
        "    input_lang, output_lang, pairs = prepareData('eng', 'rus', False, partition=partition)\n",
        "\n",
        "    n = len(pairs)\n",
        "    input_ids = np.zeros((n, MAX_LENGTH), dtype=np.int32)\n",
        "    target_ids = np.zeros((n, MAX_LENGTH), dtype=np.int32)\n",
        "\n",
        "    for idx, (inp, tgt) in enumerate(pairs):\n",
        "        inp_ids = indexesFromSentence(input_lang, inp)\n",
        "        tgt_ids = indexesFromSentence(output_lang, tgt)\n",
        "        inp_ids.append(EOS_token)\n",
        "        tgt_ids.append(EOS_token)\n",
        "        input_ids[idx, :len(inp_ids)] = inp_ids\n",
        "        target_ids[idx, :len(tgt_ids)] = tgt_ids\n",
        "\n",
        "    full_data = TensorDataset(torch.LongTensor(input_ids).to(device),\n",
        "                              torch.LongTensor(target_ids).to(device))\n",
        "\n",
        "    train_size = int(0.85 * len(full_data))\n",
        "    val_size = len(full_data) - train_size\n",
        "    train_data, val_data = random_split(full_data, [train_size, val_size])\n",
        "\n",
        "    train_sampler = RandomSampler(train_data)\n",
        "    train_dataloader = DataLoader(train_data, sampler=train_sampler, batch_size=batch_size)\n",
        "\n",
        "    val_sampler = RandomSampler(val_data)\n",
        "    val_dataloader = DataLoader(val_data, sampler=val_sampler, batch_size=batch_size)\n",
        "\n",
        "    return input_lang, output_lang, train_dataloader, val_dataloader"
      ]
    },
    {
      "cell_type": "markdown",
      "metadata": {
        "id": "4hNSQNDzNIXV"
      },
      "source": [
        "### 3 Создание архитектуры нейронных сетей"
      ]
    },
    {
      "cell_type": "markdown",
      "metadata": {
        "id": "BqiD2kHFNIXV"
      },
      "source": [
        "#### 3.1 Создание архитектуры простой LSTM сети"
      ]
    },
    {
      "cell_type": "markdown",
      "metadata": {
        "id": "kp2Ixdj3NIXV"
      },
      "source": [
        "Описание класса енкодера"
      ]
    },
    {
      "cell_type": "code",
      "execution_count": 41,
      "metadata": {
        "id": "QWm9_LdXNIXV"
      },
      "outputs": [],
      "source": [
        "class EncoderRNN(nn.Module):\n",
        "    def __init__(self, input_size, hidden_size, dropout_p=0.1):\n",
        "        super(EncoderRNN, self).__init__()\n",
        "        self.hidden_size = hidden_size\n",
        "\n",
        "        self.embedding = nn.Embedding(input_size, hidden_size)\n",
        "        self.gru = nn.LSTM(hidden_size, hidden_size, batch_first=True)\n",
        "        self.dropout = nn.Dropout(dropout_p)\n",
        "\n",
        "    def forward(self, input):\n",
        "        embedded = self.dropout(self.embedding(input))\n",
        "        output, hidden = self.gru(embedded)\n",
        "        return output, hidden"
      ]
    },
    {
      "cell_type": "markdown",
      "metadata": {
        "id": "D6hOKQI_NIXV"
      },
      "source": [
        "Описание класса декодера с механизмом внимания"
      ]
    },
    {
      "cell_type": "code",
      "execution_count": 42,
      "metadata": {
        "id": "qKsQI3mPNIXV"
      },
      "outputs": [],
      "source": [
        "class BahdanauAttention(nn.Module):\n",
        "    def __init__(self, hidden_size):\n",
        "        super(BahdanauAttention, self).__init__()\n",
        "        self.Wa = nn.Linear(hidden_size, hidden_size)\n",
        "        self.Ua = nn.Linear(hidden_size, hidden_size)\n",
        "        self.Va = nn.Linear(hidden_size, 1)\n",
        "\n",
        "    def forward(self, query, keys):\n",
        "        scores = self.Va(torch.tanh(self.Wa(query) + self.Ua(keys)))\n",
        "        scores = scores.squeeze(2).unsqueeze(1)\n",
        "\n",
        "        weights = F.softmax(scores, dim=-1)\n",
        "        context = torch.bmm(weights, keys)\n",
        "\n",
        "        return context, weights\n",
        "\n",
        "class AttnDecoderRNN(nn.Module):\n",
        "    def __init__(self, hidden_size, output_size, dropout_p=0.1):\n",
        "        super(AttnDecoderRNN, self).__init__()\n",
        "        self.embedding = nn.Embedding(output_size, hidden_size)\n",
        "        self.attention = BahdanauAttention(hidden_size)\n",
        "        self.lstm = nn.LSTM(2 * hidden_size, hidden_size, batch_first=True)\n",
        "        self.out = nn.Linear(hidden_size, output_size)\n",
        "        self.dropout = nn.Dropout(dropout_p)\n",
        "\n",
        "    def forward(self, encoder_outputs, encoder_hidden, target_tensor=None):\n",
        "        batch_size = encoder_outputs.size(0)\n",
        "        decoder_input = torch.empty(batch_size, 1, dtype=torch.long, device=device).fill_(SOS_token)\n",
        "        decoder_hidden = encoder_hidden\n",
        "        decoder_outputs = []\n",
        "        attentions = []\n",
        "\n",
        "        for i in range(MAX_LENGTH):\n",
        "            decoder_output, decoder_hidden, attn_weights = self.forward_step(\n",
        "                decoder_input, decoder_hidden, encoder_outputs\n",
        "            )\n",
        "            decoder_outputs.append(decoder_output)\n",
        "            attentions.append(attn_weights)\n",
        "\n",
        "            if target_tensor is not None:\n",
        "                decoder_input = target_tensor[:, i].unsqueeze(1)\n",
        "            else:\n",
        "                _, topi = decoder_output.topk(1)\n",
        "                decoder_input = topi.squeeze(-1).detach()\n",
        "\n",
        "        decoder_outputs = torch.cat(decoder_outputs, dim=1)\n",
        "        decoder_outputs = F.log_softmax(decoder_outputs, dim=-1)\n",
        "        attentions = torch.cat(attentions, dim=1)\n",
        "\n",
        "        return decoder_outputs, decoder_hidden, attentions\n",
        "\n",
        "\n",
        "    def forward_step(self, input, hidden, encoder_outputs):\n",
        "        embedded =  self.dropout(self.embedding(input))\n",
        "\n",
        "        query = hidden[0].permute(1, 0, 2)\n",
        "        context, attn_weights = self.attention(query, encoder_outputs)\n",
        "        input_lstm = torch.cat((embedded, context), dim=2)\n",
        "\n",
        "        output, hidden = self.lstm(input_lstm, hidden)\n",
        "        output = self.out(output)\n",
        "\n",
        "        return output, hidden, attn_weights"
      ]
    },
    {
      "cell_type": "markdown",
      "metadata": {
        "id": "hMfjX38XNIXV"
      },
      "source": [
        "Общий seq-to-seq класс модели"
      ]
    },
    {
      "cell_type": "code",
      "execution_count": 43,
      "metadata": {
        "id": "0-RdLkf2NIXV"
      },
      "outputs": [],
      "source": [
        "class Seq2SeqLstmModel(nn.Module):\n",
        "    def __init__(self, input_lang_vocab_size, output_lang_vocab_size, hidden_size, dropout_p=0.1):\n",
        "        super(Seq2SeqLstmModel, self).__init__()\n",
        "        self.hidden_size = hidden_size\n",
        "\n",
        "        self.encoder = EncoderRNN(input_lang_vocab_size, hidden_size, dropout_p).to(device)\n",
        "        self.decoder = AttnDecoderRNN(hidden_size, output_lang_vocab_size, dropout_p).to(device)\n",
        "\n",
        "    def forward(self, input_tensor, target_tensor=None, teacher_forcing_ratio=0.5):\n",
        "        encoder_outputs, encoder_hidden = self.encoder(input_tensor)\n",
        "\n",
        "        if isinstance(encoder_hidden, tuple):\n",
        "            decoder_hidden = (\n",
        "                encoder_hidden[0],\n",
        "                encoder_hidden[1]\n",
        "            )\n",
        "        else:\n",
        "            decoder_hidden = encoder_hidden\n",
        "\n",
        "        decoder_outputs, decoder_hidden, attentions = self.decoder(\n",
        "            encoder_outputs, decoder_hidden, target_tensor\n",
        "        )\n",
        "\n",
        "        return decoder_outputs, attentions"
      ]
    },
    {
      "cell_type": "markdown",
      "metadata": {
        "id": "6s3RMWFmNIXV"
      },
      "source": [
        "#### 3.2 Создание архитектуры GRU сети"
      ]
    },
    {
      "cell_type": "markdown",
      "metadata": {
        "id": "OragAIQVqsW2"
      },
      "source": [
        "Используется предобученный Word2Vec для создания эмбеддингов, также увеличено число слоев для nn.GRU до 2. Помимо этого, используются hidden'ы большего размера (300 вместо 128)"
      ]
    },
    {
      "cell_type": "markdown",
      "metadata": {
        "id": "OA8Efp6iqlMu"
      },
      "source": [
        "Описание класса енкодера"
      ]
    },
    {
      "cell_type": "code",
      "execution_count": 44,
      "metadata": {
        "id": "VdaqiyYDNIXV",
        "jupyter": {
          "outputs_hidden": false
        }
      },
      "outputs": [],
      "source": [
        "class GEncoderRNN(nn.Module):\n",
        "    def __init__(self, input_size, hidden_size, word2vec_model=None, dropout_p=0.1):\n",
        "        super(GEncoderRNN, self).__init__()\n",
        "        self.hidden_size = hidden_size\n",
        "        self.word2vec_model = word2vec_model\n",
        "\n",
        "        if self.word2vec_model:\n",
        "            self.embedding = nn.Embedding(input_size, self.word2vec_model.vector_size)\n",
        "            self.init_embeddings()\n",
        "            self.projection = nn.Linear(self.word2vec_model.vector_size, hidden_size)\n",
        "        else:\n",
        "            self.embedding = nn.Embedding(input_size, hidden_size)\n",
        "\n",
        "        self.gru = nn.GRU(hidden_size, hidden_size, batch_first=True, num_layers=2)\n",
        "        self.dropout = nn.Dropout(dropout_p)\n",
        "\n",
        "    def init_embeddings(self):\n",
        "        embedding_matrix = self.embedding.weight.data\n",
        "\n",
        "        for word, idx in input_lang.word2index.items():\n",
        "            if word in self.word2vec_model:\n",
        "                embedding_matrix[idx] = torch.tensor(\n",
        "                    self.word2vec_model[word], dtype=torch.float32\n",
        "                )\n",
        "            else:\n",
        "                embedding_matrix[idx] = torch.zeros(self.word2vec_model.vector_size)\n",
        "\n",
        "        self.embedding.weight.data.copy_(embedding_matrix)\n",
        "\n",
        "    def forward(self, input):\n",
        "        embedded = self.dropout(self.embedding(input))\n",
        "        if self.word2vec_model:\n",
        "            embedded = self.projection(embedded)\n",
        "        output, hidden = self.gru(embedded)\n",
        "\n",
        "        return output, hidden"
      ]
    },
    {
      "cell_type": "markdown",
      "metadata": {
        "id": "4Fd6Bq0wrSe1"
      },
      "source": [
        "Описание класса декодера с механизмом внимания"
      ]
    },
    {
      "cell_type": "code",
      "execution_count": 45,
      "metadata": {
        "id": "SQwthVNhNIXV"
      },
      "outputs": [],
      "source": [
        "class GBahdanauAttention(nn.Module):\n",
        "    def __init__(self, hidden_size):\n",
        "        super(GBahdanauAttention, self).__init__()\n",
        "        self.Wa = nn.Linear(hidden_size, hidden_size)\n",
        "        self.Ua = nn.Linear(hidden_size, hidden_size)\n",
        "        self.Va = nn.Linear(hidden_size, 1)\n",
        "\n",
        "    def forward(self, query, keys):\n",
        "        scores = self.Va(torch.tanh(self.Wa(query) + self.Ua(keys)))\n",
        "        scores = scores.squeeze(2).unsqueeze(1)\n",
        "        weights = F.softmax(scores, dim=-1)\n",
        "        context = torch.bmm(weights, keys)\n",
        "\n",
        "        return context, weights\n",
        "\n",
        "class GAttnDecoderRNN(nn.Module):\n",
        "    def __init__(self, hidden_size, output_size, word2vec_model=None, num_layers=2, dropout_p=0.1):\n",
        "        super(GAttnDecoderRNN, self).__init__()\n",
        "        self.hidden_size = hidden_size\n",
        "        self.output_size = output_size\n",
        "        self.word2vec_model = word2vec_model\n",
        "        self.num_layers = num_layers\n",
        "\n",
        "        if self.word2vec_model:\n",
        "            self.embedding = nn.Embedding(output_size, self.word2vec_model.vector_size)\n",
        "            self.init_embeddings()\n",
        "            self.projection = nn.Linear(self.word2vec_model.vector_size, hidden_size)\n",
        "        else:\n",
        "            self.embedding = nn.Embedding(output_size, hidden_size)\n",
        "\n",
        "        self.attention = GBahdanauAttention(hidden_size)\n",
        "        self.gru = nn.GRU(2 * hidden_size, hidden_size, num_layers=num_layers, batch_first=True)\n",
        "        self.out = nn.Linear(hidden_size, output_size)\n",
        "        self.dropout = nn.Dropout(dropout_p)\n",
        "\n",
        "    def init_embeddings(self):\n",
        "        embedding_matrix = self.embedding.weight.data\n",
        "\n",
        "        for word, idx in output_lang.word2index.items():\n",
        "            if word in self.word2vec_model:\n",
        "                embedding_matrix[idx] = torch.tensor(\n",
        "                    self.word2vec_model[word], dtype=torch.float32\n",
        "                )\n",
        "            else:\n",
        "                embedding_matrix[idx] = torch.zeros(self.word2vec_model.vector_size)\n",
        "\n",
        "        self.embedding.weight.data.copy_(embedding_matrix)\n",
        "\n",
        "    def forward(self, encoder_outputs, encoder_hidden, target_tensor=None):\n",
        "        batch_size = encoder_outputs.size(0)\n",
        "        decoder_input = torch.empty(batch_size, 1, dtype=torch.long, device=device).fill_(SOS_token)\n",
        "        decoder_hidden = encoder_hidden\n",
        "        decoder_outputs = []\n",
        "        attentions = []\n",
        "\n",
        "        for i in range(MAX_LENGTH):\n",
        "            decoder_output, decoder_hidden, attn_weights = self.forward_step(\n",
        "                decoder_input, decoder_hidden, encoder_outputs\n",
        "            )\n",
        "            decoder_outputs.append(decoder_output)\n",
        "            attentions.append(attn_weights)\n",
        "\n",
        "            if target_tensor is not None:\n",
        "                decoder_input = target_tensor[:, i].unsqueeze(1)\n",
        "            else:\n",
        "                _, topi = decoder_output.topk(1)\n",
        "                decoder_input = topi.squeeze(-1).detach()\n",
        "\n",
        "        decoder_outputs = torch.cat(decoder_outputs, dim=1)\n",
        "        decoder_outputs = F.log_softmax(decoder_outputs, dim=-1)\n",
        "        attentions = torch.cat(attentions, dim=1)\n",
        "\n",
        "        return decoder_outputs, decoder_hidden, attentions\n",
        "\n",
        "    def forward_step(self, input, hidden, encoder_outputs):\n",
        "        embedded = self.dropout(self.embedding(input))\n",
        "\n",
        "        if self.word2vec_model:\n",
        "            embedded = self.projection(embedded)\n",
        "\n",
        "        query = hidden[-1].unsqueeze(1)\n",
        "        context, attn_weights = self.attention(query, encoder_outputs)\n",
        "        input_gru = torch.cat((embedded, context), dim=2)\n",
        "\n",
        "        output, hidden = self.gru(input_gru, hidden)\n",
        "        output = self.out(output)\n",
        "\n",
        "        return output, hidden, attn_weights"
      ]
    },
    {
      "cell_type": "markdown",
      "metadata": {
        "id": "nrSbYnaurVgl"
      },
      "source": [
        "Общий seq-to-seq класс модели"
      ]
    },
    {
      "cell_type": "code",
      "execution_count": 46,
      "metadata": {
        "id": "AVBoHSW7NIXV"
      },
      "outputs": [],
      "source": [
        "class Seq2SeqGruModel(nn.Module):\n",
        "    def __init__(self, input_lang_vocab_size, output_lang_vocab_size, hidden_size, word2vec_model=None, dropout_p=0.1):\n",
        "        super(Seq2SeqGruModel, self).__init__()\n",
        "        self.hidden_size = hidden_size\n",
        "\n",
        "        self.encoder = GEncoderRNN(input_lang_vocab_size, hidden_size, word2vec_model, dropout_p)\n",
        "        self.decoder = GAttnDecoderRNN(hidden_size, output_lang_vocab_size, word2vec_model, num_layers=2, dropout_p=dropout_p)\n",
        "\n",
        "    def forward(self, input_tensor, target_tensor=None, teacher_forcing_ratio=0.5):\n",
        "        encoder_outputs, encoder_hidden = self.encoder(input_tensor)\n",
        "        decoder_outputs, decoder_hidden, attentions = self.decoder(\n",
        "            encoder_outputs, encoder_hidden, target_tensor\n",
        "        )\n",
        "\n",
        "        return decoder_outputs, attentions"
      ]
    },
    {
      "cell_type": "markdown",
      "metadata": {
        "id": "ozl9UyfLrgjF"
      },
      "source": [
        "### 4 Обучение реализованных моделей"
      ]
    },
    {
      "cell_type": "markdown",
      "metadata": {
        "id": "iaGWWnblsaPl"
      },
      "source": [
        "#### 4.1 Вспомогательные методы для валидации и анализа работы модели"
      ]
    },
    {
      "cell_type": "markdown",
      "metadata": {
        "id": "8T7IAgr5szuN"
      },
      "source": [
        "Методы для отображения перевода"
      ]
    },
    {
      "cell_type": "code",
      "execution_count": 47,
      "metadata": {
        "id": "G2Q8RW8VNIXW"
      },
      "outputs": [],
      "source": [
        "def evaluate(model, sentence, input_lang, output_lang):\n",
        "    with torch.no_grad():\n",
        "        input_tensor = tensorFromSentence(input_lang, sentence).to(device)\n",
        "        decoder_outputs, attentions = model(input_tensor)\n",
        "\n",
        "        _, topi = decoder_outputs.topk(1)\n",
        "        decoded_ids = topi.squeeze(0)\n",
        "\n",
        "        decoded_words = []\n",
        "        for idx in decoded_ids:\n",
        "            if idx.item() == EOS_token:\n",
        "                decoded_words.append('<EOS>')\n",
        "                break\n",
        "            decoded_words.append(output_lang.index2word[idx.item()])\n",
        "\n",
        "    return decoded_words, attentions\n",
        "\n",
        "def evaluateRandomly(model, n=10):\n",
        "    for i in range(n):\n",
        "        pair = random.choice(pairs)\n",
        "\n",
        "        print('>', pair[0])\n",
        "        print('=', pair[1])\n",
        "\n",
        "        output_words, _ = evaluate(model, pair[0], input_lang, output_lang)\n",
        "        output_sentence = ' '.join(output_words)\n",
        "\n",
        "        print('<', output_sentence)\n",
        "        print('')"
      ]
    },
    {
      "cell_type": "markdown",
      "metadata": {
        "id": "Dr2TtjUGs3-V"
      },
      "source": [
        "Метод для валидации работы модели на основе wer, cer"
      ]
    },
    {
      "cell_type": "code",
      "execution_count": 48,
      "metadata": {
        "id": "MYlEwSZNNIXW"
      },
      "outputs": [],
      "source": [
        "import jiwer\n",
        "\n",
        "def validate(val_dataloader, model):\n",
        "    all_references = []\n",
        "    all_hypotheses = []\n",
        "\n",
        "    model.eval()\n",
        "\n",
        "    with torch.no_grad():\n",
        "        for data in val_dataloader:\n",
        "            input_tensor, target_tensor = data\n",
        "\n",
        "            target_sentences = [\n",
        "                ' '.join(output_lang.index2word[idx.item()] for idx in tgt if idx.item() != PAD_token)\n",
        "                for tgt in target_tensor\n",
        "            ]\n",
        "            all_references.extend(target_sentences)\n",
        "\n",
        "            for input_t, target_t in zip(input_tensor, target_tensor):\n",
        "                input_sentence = ' '.join(input_lang.index2word[idx.item()] for idx in input_t if idx.item() != PAD_token)\n",
        "                hypothesis, _ = evaluate(model, input_sentence, input_lang, output_lang)\n",
        "                all_hypotheses.append(' '.join(hypothesis))\n",
        "\n",
        "    wer = jiwer.wer(all_references, all_hypotheses)\n",
        "    cer = jiwer.cer(all_references, all_hypotheses)\n",
        "\n",
        "    return wer, cer\n"
      ]
    },
    {
      "cell_type": "markdown",
      "metadata": {
        "id": "tLI4tKIStDlt"
      },
      "source": [
        "Метод для визуализации Loss-функции"
      ]
    },
    {
      "cell_type": "code",
      "execution_count": 49,
      "metadata": {
        "id": "19JWOk6KNIXW"
      },
      "outputs": [],
      "source": [
        "import matplotlib.pyplot as plt\n",
        "import matplotlib.ticker as ticker\n",
        "import numpy as np\n",
        "\n",
        "def showPlot(points, title=\"Training Loss\", xlabel=\"Epochs\", ylabel=\"Loss\"):\n",
        "    plt.figure(figsize=(10, 6))\n",
        "\n",
        "    fig, ax = plt.subplots()\n",
        "\n",
        "    loc = ticker.MultipleLocator(base=0.2)\n",
        "    ax.yaxis.set_major_locator(loc)\n",
        "\n",
        "    ax.plot(points, label=\"Loss\", color='blue', linewidth=2)\n",
        "\n",
        "    ax.set_xlabel(xlabel, fontsize=14)\n",
        "    ax.set_ylabel(ylabel, fontsize=14)\n",
        "\n",
        "    ax.set_title(title, fontsize=16)\n",
        "\n",
        "    ax.grid(True, linestyle='--', alpha=0.7)\n",
        "\n",
        "    ax.legend(loc='upper right')\n",
        "\n",
        "    plt.tight_layout()\n",
        "    plt.show()"
      ]
    },
    {
      "cell_type": "markdown",
      "metadata": {
        "id": "1EYwi6vAtMEF"
      },
      "source": [
        "#### 4.2 Методы обучения модели"
      ]
    },
    {
      "cell_type": "code",
      "execution_count": 50,
      "metadata": {
        "id": "n9fHqP4aNIXW",
        "jupyter": {
          "outputs_hidden": false
        }
      },
      "outputs": [],
      "source": [
        "def train_epoch(dataloader, model, optimizer, criterion, teacher_forcing_ratio=0.5):\n",
        "    model.train()\n",
        "    torch.cuda.empty_cache()\n",
        "    total_loss = 0\n",
        "\n",
        "    for data in dataloader:\n",
        "        input_tensor, target_tensor = data\n",
        "        input_tensor, target_tensor = input_tensor.to(device), target_tensor.to(device)\n",
        "\n",
        "        optimizer.zero_grad()\n",
        "\n",
        "        decoder_outputs, attentions = model(input_tensor, target_tensor, teacher_forcing_ratio=teacher_forcing_ratio)\n",
        "\n",
        "        loss = criterion(\n",
        "            decoder_outputs.view(-1, decoder_outputs.size(-1)),\n",
        "            target_tensor.view(-1)\n",
        "        )\n",
        "\n",
        "        if torch.isnan(loss):\n",
        "            print(\"NaN detected in loss!\")\n",
        "            break\n",
        "\n",
        "        loss.backward()\n",
        "\n",
        "        for name, param in model.named_parameters():\n",
        "            if param.grad is None:\n",
        "                print(f\"NaN detected in gradients of {name}\")\n",
        "                break\n",
        "\n",
        "        torch.nn.utils.clip_grad_norm_(model.parameters(), max_norm=1.0)\n",
        "\n",
        "        optimizer.step()\n",
        "\n",
        "        total_loss += loss.item()\n",
        "\n",
        "    return total_loss / len(dataloader)\n"
      ]
    },
    {
      "cell_type": "code",
      "execution_count": 51,
      "metadata": {
        "id": "fPz_0ps9NIXW"
      },
      "outputs": [],
      "source": [
        "from torch.utils.tensorboard import SummaryWriter\n",
        "from tqdm import tqdm\n",
        "\n",
        "def train(train_dataloader, val_dataloader, model, n_epochs, learning_rate=0.001,\n",
        "          teacher_forcing_ratio=0.5, print_every=100, plot_every=100, validate_every=1):\n",
        "    plot_losses = []\n",
        "    print_loss_total = 0\n",
        "    plot_loss_total = 0\n",
        "\n",
        "    optimizer = optim.AdamW(model.parameters(), lr=learning_rate)\n",
        "    criterion = nn.CrossEntropyLoss()\n",
        "\n",
        "    writer = SummaryWriter(LOGS_PATH)\n",
        "\n",
        "    for epoch in tqdm(range(1, n_epochs + 1), desc=\"Training Epochs\", unit=\"epoch\"):\n",
        "        loss = train_epoch(train_dataloader, model, optimizer, criterion, teacher_forcing_ratio)\n",
        "        print_loss_total += loss\n",
        "        plot_loss_total += loss\n",
        "\n",
        "        if epoch % print_every == 0:\n",
        "            print_loss_avg = print_loss_total / print_every\n",
        "            print_loss_total = 0\n",
        "\n",
        "            tqdm.write(f'Epoch {epoch}/{n_epochs} - Loss: {print_loss_avg:.4f}')\n",
        "\n",
        "            writer.add_scalar('Loss/train', print_loss_avg, epoch)\n",
        "\n",
        "        if epoch % validate_every == 0:\n",
        "            wer, cer = validate(val_dataloader, model)\n",
        "            print(f'Validation at Epoch {epoch}: WER = {wer:.4f}, CER = {cer:.4f}')\n",
        "\n",
        "            writer.add_scalar('WER/validation', wer, epoch)\n",
        "            writer.add_scalar('CER/validation', cer, epoch)\n",
        "\n",
        "        if epoch % plot_every == 0:\n",
        "            plot_loss_avg = plot_loss_total / plot_every\n",
        "            plot_losses.append(plot_loss_avg)\n",
        "            plot_loss_total = 0\n",
        "\n",
        "            writer.add_scalar('Loss/plot', plot_loss_avg, epoch)\n",
        "\n",
        "    showPlot(plot_losses)\n",
        "\n",
        "    writer.close()"
      ]
    },
    {
      "cell_type": "code",
      "execution_count": 52,
      "metadata": {
        "colab": {
          "base_uri": "https://localhost:8080/"
        },
        "id": "4nrsVLc7W6yB",
        "outputId": "d662afd9-f4c5-4802-c3dc-f409bec05b54"
      },
      "outputs": [
        {
          "name": "stdout",
          "output_type": "stream",
          "text": [
            "Reading lines...\n",
            "Read 399919 sentence pairs\n",
            "Trimmed to 360841 sentence pairs\n",
            "Counting words...\n",
            "Counted words:\n",
            "eng 14762\n",
            "rus 48575\n"
          ]
        }
      ],
      "source": [
        "import gensim.downloader as api\n",
        "\n",
        "HIDDEN_SIZE = 128\n",
        "WORD2VEC_HIDDEN_SIZE = 300\n",
        "\n",
        "N_EPOCHS = 30\n",
        "LR = 0.001\n",
        "\n",
        "input_lang, output_lang, train_dataloader, val_dataloader = get_dataloader(BATCH_SIZE)\n",
        "\n",
        "input_lang_vocab_size = input_lang.n_words\n",
        "output_lang_vocab_size = output_lang.n_words\n",
        "word2vec_model = api.load('word2vec-google-news-300')\n",
        "\n",
        "seq2seq_lstm_model = Seq2SeqLstmModel(\n",
        "    input_lang_vocab_size,\n",
        "    output_lang_vocab_size,\n",
        "    HIDDEN_SIZE\n",
        ").to(device)\n",
        "\n",
        "seq2seq_gru_model = Seq2SeqGruModel(\n",
        "    input_lang_vocab_size,\n",
        "    output_lang_vocab_size,\n",
        "    WORD2VEC_HIDDEN_SIZE,\n",
        "    word2vec_model=word2vec_model\n",
        ").to(device)"
      ]
    },
    {
      "cell_type": "code",
      "execution_count": null,
      "metadata": {
        "colab": {
          "base_uri": "https://localhost:8080/",
          "height": 750
        },
        "id": "823s3pI5NIXa",
        "outputId": "8bcf6f77-dcf3-4316-9c09-48e251718742"
      },
      "outputs": [
        {
          "name": "stderr",
          "output_type": "stream",
          "text": [
            "Training Epochs:  13%|█▎        | 4/30 [10:09<53:00, 122.35s/epoch]"
          ]
        },
        {
          "name": "stdout",
          "output_type": "stream",
          "text": [
            "Epoch 5/30 - Loss: 2.4910\n"
          ]
        },
        {
          "name": "stderr",
          "output_type": "stream",
          "text": [
            "\rTraining Epochs:  17%|█▋        | 5/30 [25:32<3:08:51, 453.26s/epoch]"
          ]
        },
        {
          "name": "stdout",
          "output_type": "stream",
          "text": [
            "Validation at Epoch 5: WER = 0.8088, CER = 0.6607\n"
          ]
        },
        {
          "name": "stderr",
          "output_type": "stream",
          "text": [
            "Training Epochs:  30%|███       | 9/30 [34:51<1:03:58, 182.80s/epoch]"
          ]
        },
        {
          "name": "stdout",
          "output_type": "stream",
          "text": [
            "Epoch 10/30 - Loss: 1.3228\n"
          ]
        },
        {
          "name": "stderr",
          "output_type": "stream",
          "text": [
            "\rTraining Epochs:  33%|███▎      | 10/30 [48:07<2:15:26, 406.33s/epoch]"
          ]
        },
        {
          "name": "stdout",
          "output_type": "stream",
          "text": [
            "Validation at Epoch 10: WER = 0.7582, CER = 0.6022\n"
          ]
        },
        {
          "name": "stderr",
          "output_type": "stream",
          "text": [
            "Training Epochs:  47%|████▋     | 14/30 [57:22<48:04, 180.29s/epoch]"
          ]
        },
        {
          "name": "stdout",
          "output_type": "stream",
          "text": [
            "Epoch 15/30 - Loss: 0.9225\n"
          ]
        },
        {
          "name": "stderr",
          "output_type": "stream",
          "text": [
            "\rTraining Epochs:  50%|█████     | 15/30 [1:10:39<1:39:57, 399.82s/epoch]"
          ]
        },
        {
          "name": "stdout",
          "output_type": "stream",
          "text": [
            "Validation at Epoch 15: WER = 0.7351, CER = 0.5743\n"
          ]
        },
        {
          "name": "stderr",
          "output_type": "stream",
          "text": [
            "Training Epochs:  63%|██████▎   | 19/30 [1:19:54<32:59, 179.97s/epoch]"
          ]
        },
        {
          "name": "stdout",
          "output_type": "stream",
          "text": [
            "Epoch 20/30 - Loss: 0.7167\n"
          ]
        },
        {
          "name": "stderr",
          "output_type": "stream",
          "text": [
            "\rTraining Epochs:  67%|██████▋   | 20/30 [1:33:04<1:06:06, 396.65s/epoch]"
          ]
        },
        {
          "name": "stdout",
          "output_type": "stream",
          "text": [
            "Validation at Epoch 20: WER = 0.7242, CER = 0.5614\n"
          ]
        },
        {
          "name": "stderr",
          "output_type": "stream",
          "text": [
            "Training Epochs:  80%|████████  | 24/30 [1:42:18<17:56, 179.35s/epoch]"
          ]
        },
        {
          "name": "stdout",
          "output_type": "stream",
          "text": [
            "Epoch 25/30 - Loss: 0.5981\n"
          ]
        },
        {
          "name": "stderr",
          "output_type": "stream",
          "text": [
            "\rTraining Epochs:  83%|████████▎ | 25/30 [1:55:29<33:00, 396.10s/epoch]"
          ]
        },
        {
          "name": "stdout",
          "output_type": "stream",
          "text": [
            "Validation at Epoch 25: WER = 0.7169, CER = 0.5531\n"
          ]
        },
        {
          "name": "stderr",
          "output_type": "stream",
          "text": [
            "Training Epochs:  97%|█████████▋| 29/30 [2:04:43<02:59, 179.48s/epoch]"
          ]
        },
        {
          "name": "stdout",
          "output_type": "stream",
          "text": [
            "Epoch 30/30 - Loss: 0.5235\n"
          ]
        },
        {
          "name": "stderr",
          "output_type": "stream",
          "text": [
            "Training Epochs: 100%|██████████| 30/30 [2:18:01<00:00, 276.04s/epoch]"
          ]
        },
        {
          "name": "stdout",
          "output_type": "stream",
          "text": [
            "Validation at Epoch 30: WER = 0.7124, CER = 0.5485\n"
          ]
        },
        {
          "name": "stderr",
          "output_type": "stream",
          "text": [
            "\n"
          ]
        },
        {
          "data": {
            "text/plain": [
              "<Figure size 1000x600 with 0 Axes>"
            ]
          },
          "metadata": {},
          "output_type": "display_data"
        },
        {
          "data": {
            "image/png": "[encoded data removed]",
            "text/plain": [
              "<Figure size 640x480 with 1 Axes>"
            ]
          },
          "metadata": {},
          "output_type": "display_data"
        }
      ],
      "source": [
        "try:\n",
        "    train(\n",
        "        train_dataloader,\n",
        "        val_dataloader,\n",
        "        seq2seq_lstm_model,\n",
        "        N_EPOCHS,\n",
        "        learning_rate=LR,\n",
        "        print_every=5,\n",
        "        plot_every=5,\n",
        "        validate_every=5\n",
        "    )\n",
        "except KeyboardInterrupt as ex:\n",
        "    print(\"Interrupt from keyboard\")"
      ]
    },
    {
      "cell_type": "code",
      "execution_count": 23,
      "metadata": {
        "colab": {
          "base_uri": "https://localhost:8080/",
          "height": 750
        },
        "id": "FaUolaW2Vk6t",
        "outputId": "9fc36a03-b70d-4868-b1e4-f39380ec759c"
      },
      "outputs": [
        {
          "name": "stderr",
          "output_type": "stream",
          "text": [
            "Training Epochs:  13%|█▎        | 4/30 [16:02<1:23:00, 191.56s/epoch]"
          ]
        },
        {
          "name": "stdout",
          "output_type": "stream",
          "text": [
            "Epoch 5/30 - Loss: 1.5730\n"
          ]
        },
        {
          "name": "stderr",
          "output_type": "stream",
          "text": [
            "\rTraining Epochs:  17%|█▋        | 5/30 [32:52<3:51:17, 555.10s/epoch]"
          ]
        },
        {
          "name": "stdout",
          "output_type": "stream",
          "text": [
            "Validation at Epoch 5: WER = 0.7198, CER = 0.5590\n"
          ]
        },
        {
          "name": "stderr",
          "output_type": "stream",
          "text": [
            "Training Epochs:  30%|███       | 9/30 [48:39<1:32:51, 265.32s/epoch]"
          ]
        },
        {
          "name": "stdout",
          "output_type": "stream",
          "text": [
            "Epoch 10/30 - Loss: 0.4677\n"
          ]
        },
        {
          "name": "stderr",
          "output_type": "stream",
          "text": [
            "\rTraining Epochs:  33%|███▎      | 10/30 [1:05:26<3:04:16, 552.83s/epoch]"
          ]
        },
        {
          "name": "stdout",
          "output_type": "stream",
          "text": [
            "Validation at Epoch 10: WER = 0.7024, CER = 0.5388\n"
          ]
        },
        {
          "name": "stderr",
          "output_type": "stream",
          "text": [
            "Training Epochs:  47%|████▋     | 14/30 [1:21:12<1:13:13, 274.58s/epoch]"
          ]
        },
        {
          "name": "stdout",
          "output_type": "stream",
          "text": [
            "Epoch 15/30 - Loss: 0.2979\n"
          ]
        },
        {
          "name": "stderr",
          "output_type": "stream",
          "text": [
            "\rTraining Epochs:  50%|█████     | 15/30 [1:37:57<2:17:56, 551.80s/epoch]"
          ]
        },
        {
          "name": "stdout",
          "output_type": "stream",
          "text": [
            "Validation at Epoch 15: WER = 0.6992, CER = 0.5353\n"
          ]
        },
        {
          "name": "stderr",
          "output_type": "stream",
          "text": [
            "Training Epochs:  63%|██████▎   | 19/30 [1:53:56<51:08, 278.94s/epoch]"
          ]
        },
        {
          "name": "stdout",
          "output_type": "stream",
          "text": [
            "Epoch 20/30 - Loss: 0.2326\n"
          ]
        },
        {
          "name": "stderr",
          "output_type": "stream",
          "text": [
            "\rTraining Epochs:  67%|██████▋   | 20/30 [2:10:47<1:32:40, 556.02s/epoch]"
          ]
        },
        {
          "name": "stdout",
          "output_type": "stream",
          "text": [
            "Validation at Epoch 20: WER = 0.6971, CER = 0.5337\n"
          ]
        },
        {
          "name": "stderr",
          "output_type": "stream",
          "text": [
            "Training Epochs:  80%|████████  | 24/30 [2:26:36<27:45, 277.56s/epoch]"
          ]
        },
        {
          "name": "stdout",
          "output_type": "stream",
          "text": [
            "Epoch 25/30 - Loss: 0.1982\n"
          ]
        },
        {
          "name": "stderr",
          "output_type": "stream",
          "text": [
            "\rTraining Epochs:  83%|████████▎ | 25/30 [2:43:47<46:42, 560.54s/epoch]"
          ]
        },
        {
          "name": "stdout",
          "output_type": "stream",
          "text": [
            "Validation at Epoch 25: WER = 0.6981, CER = 0.5344\n"
          ]
        },
        {
          "name": "stderr",
          "output_type": "stream",
          "text": [
            "Training Epochs:  97%|█████████▋| 29/30 [2:59:38<04:39, 279.01s/epoch]"
          ]
        },
        {
          "name": "stdout",
          "output_type": "stream",
          "text": [
            "Epoch 30/30 - Loss: 0.1780\n"
          ]
        },
        {
          "name": "stderr",
          "output_type": "stream",
          "text": [
            "Training Epochs: 100%|██████████| 30/30 [3:16:32<00:00, 393.09s/epoch]"
          ]
        },
        {
          "name": "stdout",
          "output_type": "stream",
          "text": [
            "Validation at Epoch 30: WER = 0.6976, CER = 0.5331\n"
          ]
        },
        {
          "name": "stderr",
          "output_type": "stream",
          "text": [
            "\n"
          ]
        },
        {
          "data": {
            "text/plain": [
              "<Figure size 1000x600 with 0 Axes>"
            ]
          },
          "metadata": {},
          "output_type": "display_data"
        },
        {
          "data": {
            "image/png": "[encoded data removed]",
            "text/plain": [
              "<Figure size 640x480 with 1 Axes>"
            ]
          },
          "metadata": {},
          "output_type": "display_data"
        }
      ],
      "source": [
        "try:\n",
        "    train(\n",
        "        train_dataloader,\n",
        "        val_dataloader,\n",
        "        seq2seq_gru_model,\n",
        "        N_EPOCHS,\n",
        "        learning_rate=LR,\n",
        "        print_every=5,\n",
        "        plot_every=5,\n",
        "        validate_every=5\n",
        "    )\n",
        "except KeyboardInterrupt as ex:\n",
        "    print(\"Interrupt from keyboard\")"
      ]
    },
    {
      "cell_type": "markdown",
      "metadata": {
        "id": "ktmaYsLU1AMQ"
      },
      "source": [
        "#### 4.3 Сохранение обученных моделей"
      ]
    },
    {
      "cell_type": "code",
      "execution_count": 53,
      "metadata": {
        "id": "-2JT9ZWU1JBV"
      },
      "outputs": [],
      "source": [
        "def save_model(model, file_path):\n",
        "    torch.save(model.state_dict(), file_path)\n",
        "\n",
        "    print(f\"Model saved to {file_path}\")\n",
        "\n",
        "def load_model(model, file_path):\n",
        "    model.load_state_dict(torch.load(file_path))\n",
        "    model.eval()\n",
        "\n",
        "    print(f\"Model loaded from {file_path}\")\n",
        "\n",
        "    return model"
      ]
    },
    {
      "cell_type": "code",
      "execution_count": 25,
      "metadata": {
        "colab": {
          "base_uri": "https://localhost:8080/"
        },
        "id": "nhejFfIb-x1Y",
        "outputId": "82f6b234-2551-4502-9547-11ce480851c3"
      },
      "outputs": [
        {
          "name": "stdout",
          "output_type": "stream",
          "text": [
            "Model saved to seq2seq_lstm_model.pth\n",
            "Model saved to seq2seq_gru_model.pth\n"
          ]
        }
      ],
      "source": [
        "save_model(seq2seq_lstm_model, 'seq2seq_lstm_model.pth')\n",
        "\n",
        "save_model(seq2seq_gru_model, 'seq2seq_gru_model.pth')"
      ]
    },
    {
      "cell_type": "markdown",
      "metadata": {
        "id": "9PqLI-VatsTf"
      },
      "source": [
        "### 5 Инференс моделей"
      ]
    },
    {
      "cell_type": "markdown",
      "metadata": {
        "id": "KEvcHOz3_YzY"
      },
      "source": [
        "#### 5.1 Загрузка обученных моделей"
      ]
    },
    {
      "cell_type": "code",
      "execution_count": 54,
      "metadata": {
        "id": "8EUkiH_n-2jv"
      },
      "outputs": [
        {
          "name": "stdout",
          "output_type": "stream",
          "text": [
            "Model loaded from seq2seq_lstm_model.pth\n",
            "Model loaded from seq2seq_gru_model.pth\n"
          ]
        },
        {
          "name": "stderr",
          "output_type": "stream",
          "text": [
            "C:\\Users\\artrsyf\\AppData\\Local\\Temp\\ipykernel_23000\\647062938.py:7: FutureWarning: You are using `torch.load` with `weights_only=False` (the current default value), which uses the default pickle module implicitly. It is possible to construct malicious pickle data which will execute arbitrary code during unpickling (See https://github.com/pytorch/pytorch/blob/main/SECURITY.md#untrusted-models for more details). In a future release, the default value for `weights_only` will be flipped to `True`. This limits the functions that could be executed during unpickling. Arbitrary objects will no longer be allowed to be loaded via this mode unless they are explicitly allowlisted by the user via `torch.serialization.add_safe_globals`. We recommend you start setting `weights_only=True` for any use case where you don't have full control of the loaded file. Please open an issue on GitHub for any issues related to this experimental feature.\n",
            "  model.load_state_dict(torch.load(file_path))\n"
          ]
        },
        {
          "data": {
            "text/plain": [
              "Seq2SeqGruModel(\n",
              "  (encoder): GEncoderRNN(\n",
              "    (embedding): Embedding(14762, 300)\n",
              "    (projection): Linear(in_features=300, out_features=300, bias=True)\n",
              "    (gru): GRU(300, 300, num_layers=2, batch_first=True)\n",
              "    (dropout): Dropout(p=0.1, inplace=False)\n",
              "  )\n",
              "  (decoder): GAttnDecoderRNN(\n",
              "    (embedding): Embedding(48575, 300)\n",
              "    (projection): Linear(in_features=300, out_features=300, bias=True)\n",
              "    (attention): GBahdanauAttention(\n",
              "      (Wa): Linear(in_features=300, out_features=300, bias=True)\n",
              "      (Ua): Linear(in_features=300, out_features=300, bias=True)\n",
              "      (Va): Linear(in_features=300, out_features=1, bias=True)\n",
              "    )\n",
              "    (gru): GRU(600, 300, num_layers=2, batch_first=True)\n",
              "    (out): Linear(in_features=300, out_features=48575, bias=True)\n",
              "    (dropout): Dropout(p=0.1, inplace=False)\n",
              "  )\n",
              ")"
            ]
          },
          "execution_count": 54,
          "metadata": {},
          "output_type": "execute_result"
        }
      ],
      "source": [
        "seq2seq_lstm_model = Seq2SeqLstmModel(\n",
        "    input_lang_vocab_size,\n",
        "    output_lang_vocab_size,\n",
        "    HIDDEN_SIZE\n",
        ").to(device)\n",
        "\n",
        "seq2seq_gru_model = Seq2SeqGruModel(\n",
        "    input_lang_vocab_size,\n",
        "    output_lang_vocab_size,\n",
        "    WORD2VEC_HIDDEN_SIZE,\n",
        "    word2vec_model=word2vec_model\n",
        ").to(device)\n",
        "\n",
        "load_model(seq2seq_lstm_model, 'seq2seq_lstm_model.pth')\n",
        "load_model(seq2seq_gru_model, 'seq2seq_gru_model.pth')"
      ]
    },
    {
      "cell_type": "markdown",
      "metadata": {},
      "source": [
        "#### 5.1 Расчет BLEU-метрики"
      ]
    },
    {
      "cell_type": "markdown",
      "metadata": {},
      "source": [
        "Функция расчета метрики"
      ]
    },
    {
      "cell_type": "code",
      "execution_count": 55,
      "metadata": {},
      "outputs": [],
      "source": [
        "from nltk.translate.bleu_score import corpus_bleu\n",
        "from tqdm import tqdm\n",
        "\n",
        "def calculate_bleu(model, dataloader, input_lang, output_lang):\n",
        "    all_references = []\n",
        "    all_hypotheses = []\n",
        "\n",
        "    model.eval()\n",
        "    with torch.no_grad():\n",
        "        for data in tqdm(dataloader, desc=\"Calculating BLEU\", unit=\"batch\"):\n",
        "            input_tensor, target_tensor = data\n",
        "            target_sentences = [\n",
        "                [output_lang.index2word[idx.item()] for idx in tgt if idx.item() != PAD_token]\n",
        "                for tgt in target_tensor\n",
        "            ]\n",
        "            all_references.extend([[ref] for ref in target_sentences])\n",
        "\n",
        "            for input_t, target_t in zip(input_tensor, target_tensor):\n",
        "                input_sentence = ' '.join(input_lang.index2word[idx.item()] for idx in input_t if idx.item() != PAD_token)\n",
        "                hypothesis, _ = evaluate(model, input_sentence, input_lang, output_lang)\n",
        "                all_hypotheses.append(hypothesis)\n",
        "\n",
        "    bleu_score = corpus_bleu(all_references, all_hypotheses)\n",
        "    return bleu_score"
      ]
    },
    {
      "cell_type": "markdown",
      "metadata": {},
      "source": [
        "Расчет метрики"
      ]
    },
    {
      "cell_type": "code",
      "execution_count": 56,
      "metadata": {},
      "outputs": [
        {
          "name": "stderr",
          "output_type": "stream",
          "text": [
            "Calculating BLEU: 100%|████████████████████████████████████████████████████████████| 106/106 [16:39<00:00,  9.43s/batch]\n"
          ]
        },
        {
          "data": {
            "text/plain": [
              "0.1724055850033398"
            ]
          },
          "execution_count": 56,
          "metadata": {},
          "output_type": "execute_result"
        }
      ],
      "source": [
        "calculate_bleu(seq2seq_lstm_model, val_dataloader, input_lang, output_lang)"
      ]
    },
    {
      "cell_type": "code",
      "execution_count": 57,
      "metadata": {},
      "outputs": [
        {
          "name": "stderr",
          "output_type": "stream",
          "text": [
            "Calculating BLEU: 100%|████████████████████████████████████████████████████████████| 106/106 [20:12<00:00, 11.44s/batch]\n"
          ]
        },
        {
          "data": {
            "text/plain": [
              "0.2491014343023803"
            ]
          },
          "execution_count": 57,
          "metadata": {},
          "output_type": "execute_result"
        }
      ],
      "source": [
        "calculate_bleu(seq2seq_gru_model, val_dataloader, input_lang, output_lang)"
      ]
    },
    {
      "cell_type": "markdown",
      "metadata": {},
      "source": [
        "#### 5.2 Обработка рандомных приложений из тренировочного датасета"
      ]
    },
    {
      "cell_type": "markdown",
      "metadata": {},
      "source": [
        "Для LSTM"
      ]
    },
    {
      "cell_type": "code",
      "execution_count": 58,
      "metadata": {
        "colab": {
          "base_uri": "https://localhost:8080/"
        },
        "id": "LBWmhf73NIXa",
        "jupyter": {
          "outputs_hidden": false
        },
        "outputId": "730a2048-a9c3-4f7d-f172-fb72aa3a2e8a"
      },
      "outputs": [
        {
          "name": "stdout",
          "output_type": "stream",
          "text": [
            "> please promise me that you won t do that\n",
            "= обещаи мне пожалуиста что не сделаешь этого\n",
            "< обещаи мне пожалуиста что не будешь этого делать <EOS>\n",
            "\n",
            "> please speak loudly so i can hear you\n",
            "= говорите громко пожалуиста чтобы я вас слышал\n",
            "< пожалуиста говори громко чтобы я слышал как ты услышишь <EOS>\n",
            "\n",
            "> do you like shopping\n",
            "= вы любите ходить по магазинам\n",
            "< тебе нравится смотреть по магазинам <EOS>\n",
            "\n",
            "> i received a letter in english yesterday\n",
            "= вчера я получил письмо на англииском\n",
            "< я вчера получил письмо по англиискому <EOS>\n",
            "\n",
            "> some furniture is put together with glue\n",
            "= часть мебели склеена\n",
            "< некоторые мебель с тем как федеральные поставить с водои <EOS>\n",
            "\n"
          ]
        }
      ],
      "source": [
        "seq2seq_lstm_model.eval()\n",
        "\n",
        "evaluateRandomly(seq2seq_lstm_model, n=5)"
      ]
    },
    {
      "cell_type": "markdown",
      "metadata": {},
      "source": [
        "Для GRU"
      ]
    },
    {
      "cell_type": "code",
      "execution_count": 59,
      "metadata": {},
      "outputs": [
        {
          "name": "stdout",
          "output_type": "stream",
          "text": [
            "> i was afraid to laugh\n",
            "= я боялся смеяться\n",
            "< я боялся говорить смеяться <EOS>\n",
            "\n",
            "> i m glad you volunteered to help\n",
            "= я рад что вы вызвались помочь\n",
            "< я рад что ты вызвались помочь <EOS>\n",
            "\n",
            "> i grew up in this house\n",
            "= я вырос в этом доме\n",
            "< я вырос в этом доме <EOS>\n",
            "\n",
            "> don t tell me you re tired already\n",
            "= не говори мне что ты уже устала\n",
            "< только не говори мне что ты уже устала <EOS>\n",
            "\n",
            "> she wanted to flatter me\n",
            "= она хотела польстить мне\n",
            "< она хотела польстить мне <EOS>\n",
            "\n"
          ]
        }
      ],
      "source": [
        "seq2seq_gru_model.eval()\n",
        "\n",
        "evaluateRandomly(seq2seq_gru_model, n=5)"
      ]
    },
    {
      "cell_type": "markdown",
      "metadata": {},
      "source": [
        "#### 5.3 Анализ механизма внимания"
      ]
    },
    {
      "cell_type": "markdown",
      "metadata": {},
      "source": [
        "Функции для расчета"
      ]
    },
    {
      "cell_type": "code",
      "execution_count": 60,
      "metadata": {
        "id": "JDNygMhUNIXa",
        "jupyter": {
          "outputs_hidden": false
        }
      },
      "outputs": [],
      "source": [
        "def show_attention(input_sentence, output_words, attentions):\n",
        "    fig = plt.figure()\n",
        "    ax = fig.add_subplot(111)\n",
        "    cax = ax.matshow(attentions.cpu().numpy(), cmap='bone')\n",
        "    fig.colorbar(cax)\n",
        "\n",
        "    ax.set_xticklabels([''] + input_sentence.split(' ') +\n",
        "                       ['<EOS>'], rotation=90)\n",
        "    ax.set_yticklabels([''] + output_words)\n",
        "\n",
        "    ax.xaxis.set_major_locator(ticker.MultipleLocator(1))\n",
        "    ax.yaxis.set_major_locator(ticker.MultipleLocator(1))\n",
        "\n",
        "    plt.show()\n",
        "\n",
        "\n",
        "def evaluate_and_show_attention(model, input_sentence):\n",
        "    output_words, attentions = evaluate(model, input_sentence, input_lang, output_lang)\n",
        "\n",
        "    print('input =', input_sentence)\n",
        "    print('output =', ' '.join(output_words))\n",
        "\n",
        "    show_attention(input_sentence, output_words, attentions[0, :len(output_words), :])\n",
        "\n",
        "def compare_attention_LSTM_vs_GRU(lstm_model, gru_model, input_sentence, input_lang, output_lang):\n",
        "    lstm_output_words, lstm_attentions = evaluate(lstm_model, input_sentence, input_lang, output_lang)\n",
        "    gru_output_words, gru_attentions = evaluate(gru_model, input_sentence, input_lang, output_lang)\n",
        "\n",
        "    fig, axes = plt.subplots(1, 2, figsize=(15, 7))\n",
        "    \n",
        "    cax_lstm = axes[0].matshow(lstm_attentions[0, :len(lstm_output_words), :].cpu().numpy(), cmap='bone')\n",
        "    fig.colorbar(cax_lstm, ax=axes[0])\n",
        "    axes[0].set_xticklabels([''] + input_sentence.split(' ') + ['<EOS>'], rotation=90)\n",
        "    axes[0].set_yticklabels([''] + lstm_output_words)\n",
        "    axes[0].xaxis.set_major_locator(ticker.MultipleLocator(1))\n",
        "    axes[0].yaxis.set_major_locator(ticker.MultipleLocator(1))\n",
        "    axes[0].set_title(\"Attention (LSTM)\")\n",
        "\n",
        "    cax_gru = axes[1].matshow(gru_attentions[0, :len(gru_output_words), :].cpu().numpy(), cmap='bone')\n",
        "    fig.colorbar(cax_gru, ax=axes[1])\n",
        "    axes[1].set_xticklabels([''] + input_sentence.split(' ') + ['<EOS>'], rotation=90)\n",
        "    axes[1].set_yticklabels([''] + gru_output_words)\n",
        "    axes[1].xaxis.set_major_locator(ticker.MultipleLocator(1))\n",
        "    axes[1].yaxis.set_major_locator(ticker.MultipleLocator(1))\n",
        "    axes[1].set_title(\"Attention (GRU)\")\n",
        "\n",
        "    plt.tight_layout()\n",
        "    plt.show()"
      ]
    },
    {
      "cell_type": "code",
      "execution_count": 63,
      "metadata": {},
      "outputs": [
        {
          "name": "stderr",
          "output_type": "stream",
          "text": [
            "C:\\Users\\artrsyf\\AppData\\Local\\Temp\\ipykernel_23000\\3640503447.py:33: UserWarning: set_ticklabels() should only be used with a fixed number of ticks, i.e. after set_ticks() or using a FixedLocator.\n",
            "  axes[0].set_xticklabels([''] + input_sentence.split(' ') + ['<EOS>'], rotation=90)\n",
            "C:\\Users\\artrsyf\\AppData\\Local\\Temp\\ipykernel_23000\\3640503447.py:34: UserWarning: set_ticklabels() should only be used with a fixed number of ticks, i.e. after set_ticks() or using a FixedLocator.\n",
            "  axes[0].set_yticklabels([''] + lstm_output_words)\n",
            "C:\\Users\\artrsyf\\AppData\\Local\\Temp\\ipykernel_23000\\3640503447.py:41: UserWarning: set_ticklabels() should only be used with a fixed number of ticks, i.e. after set_ticks() or using a FixedLocator.\n",
            "  axes[1].set_xticklabels([''] + input_sentence.split(' ') + ['<EOS>'], rotation=90)\n",
            "C:\\Users\\artrsyf\\AppData\\Local\\Temp\\ipykernel_23000\\3640503447.py:42: UserWarning: set_ticklabels() should only be used with a fixed number of ticks, i.e. after set_ticks() or using a FixedLocator.\n",
            "  axes[1].set_yticklabels([''] + gru_output_words)\n"
          ]
        },
        {
          "data": {
            "image/png": "[encoded data removed]",
            "text/plain": [
              "<Figure size 1500x700 with 4 Axes>"
            ]
          },
          "metadata": {},
          "output_type": "display_data"
        },
        {
          "name": "stderr",
          "output_type": "stream",
          "text": [
            "C:\\Users\\artrsyf\\AppData\\Local\\Temp\\ipykernel_23000\\3640503447.py:33: UserWarning: set_ticklabels() should only be used with a fixed number of ticks, i.e. after set_ticks() or using a FixedLocator.\n",
            "  axes[0].set_xticklabels([''] + input_sentence.split(' ') + ['<EOS>'], rotation=90)\n",
            "C:\\Users\\artrsyf\\AppData\\Local\\Temp\\ipykernel_23000\\3640503447.py:34: UserWarning: set_ticklabels() should only be used with a fixed number of ticks, i.e. after set_ticks() or using a FixedLocator.\n",
            "  axes[0].set_yticklabels([''] + lstm_output_words)\n",
            "C:\\Users\\artrsyf\\AppData\\Local\\Temp\\ipykernel_23000\\3640503447.py:41: UserWarning: set_ticklabels() should only be used with a fixed number of ticks, i.e. after set_ticks() or using a FixedLocator.\n",
            "  axes[1].set_xticklabels([''] + input_sentence.split(' ') + ['<EOS>'], rotation=90)\n",
            "C:\\Users\\artrsyf\\AppData\\Local\\Temp\\ipykernel_23000\\3640503447.py:42: UserWarning: set_ticklabels() should only be used with a fixed number of ticks, i.e. after set_ticks() or using a FixedLocator.\n",
            "  axes[1].set_yticklabels([''] + gru_output_words)\n"
          ]
        },
        {
          "data": {
            "image/png": "[encoded data removed]",
            "text/plain": [
              "<Figure size 1500x700 with 4 Axes>"
            ]
          },
          "metadata": {},
          "output_type": "display_data"
        },
        {
          "name": "stderr",
          "output_type": "stream",
          "text": [
            "C:\\Users\\artrsyf\\AppData\\Local\\Temp\\ipykernel_23000\\3640503447.py:33: UserWarning: set_ticklabels() should only be used with a fixed number of ticks, i.e. after set_ticks() or using a FixedLocator.\n",
            "  axes[0].set_xticklabels([''] + input_sentence.split(' ') + ['<EOS>'], rotation=90)\n",
            "C:\\Users\\artrsyf\\AppData\\Local\\Temp\\ipykernel_23000\\3640503447.py:34: UserWarning: set_ticklabels() should only be used with a fixed number of ticks, i.e. after set_ticks() or using a FixedLocator.\n",
            "  axes[0].set_yticklabels([''] + lstm_output_words)\n",
            "C:\\Users\\artrsyf\\AppData\\Local\\Temp\\ipykernel_23000\\3640503447.py:41: UserWarning: set_ticklabels() should only be used with a fixed number of ticks, i.e. after set_ticks() or using a FixedLocator.\n",
            "  axes[1].set_xticklabels([''] + input_sentence.split(' ') + ['<EOS>'], rotation=90)\n",
            "C:\\Users\\artrsyf\\AppData\\Local\\Temp\\ipykernel_23000\\3640503447.py:42: UserWarning: set_ticklabels() should only be used with a fixed number of ticks, i.e. after set_ticks() or using a FixedLocator.\n",
            "  axes[1].set_yticklabels([''] + gru_output_words)\n"
          ]
        },
        {
          "data": {
            "image/png": "[encoded data removed]",
            "text/plain": [
              "<Figure size 1500x700 with 4 Axes>"
            ]
          },
          "metadata": {},
          "output_type": "display_data"
        },
        {
          "name": "stderr",
          "output_type": "stream",
          "text": [
            "C:\\Users\\artrsyf\\AppData\\Local\\Temp\\ipykernel_23000\\3640503447.py:33: UserWarning: set_ticklabels() should only be used with a fixed number of ticks, i.e. after set_ticks() or using a FixedLocator.\n",
            "  axes[0].set_xticklabels([''] + input_sentence.split(' ') + ['<EOS>'], rotation=90)\n",
            "C:\\Users\\artrsyf\\AppData\\Local\\Temp\\ipykernel_23000\\3640503447.py:34: UserWarning: set_ticklabels() should only be used with a fixed number of ticks, i.e. after set_ticks() or using a FixedLocator.\n",
            "  axes[0].set_yticklabels([''] + lstm_output_words)\n",
            "C:\\Users\\artrsyf\\AppData\\Local\\Temp\\ipykernel_23000\\3640503447.py:41: UserWarning: set_ticklabels() should only be used with a fixed number of ticks, i.e. after set_ticks() or using a FixedLocator.\n",
            "  axes[1].set_xticklabels([''] + input_sentence.split(' ') + ['<EOS>'], rotation=90)\n",
            "C:\\Users\\artrsyf\\AppData\\Local\\Temp\\ipykernel_23000\\3640503447.py:42: UserWarning: set_ticklabels() should only be used with a fixed number of ticks, i.e. after set_ticks() or using a FixedLocator.\n",
            "  axes[1].set_yticklabels([''] + gru_output_words)\n"
          ]
        },
        {
          "data": {
            "image/png": "[encoded data removed]",
            "text/plain": [
              "<Figure size 1500x700 with 4 Axes>"
            ]
          },
          "metadata": {},
          "output_type": "display_data"
        }
      ],
      "source": [
        "sentences = [\n",
        "    \"the cat sat on the mat\",\n",
        "    \"she likes to play with her dog\",\n",
        "    \"he is painting a picture\",\n",
        "    \"they went to the park after lunch\"\n",
        "]\n",
        "\n",
        "for sentence in sentences:\n",
        "    compare_attention_LSTM_vs_GRU(\n",
        "        seq2seq_lstm_model, \n",
        "        seq2seq_gru_model, \n",
        "        sentence,\n",
        "        input_lang,\n",
        "        output_lang\n",
        "    )"
      ]
    },
    {
      "cell_type": "markdown",
      "metadata": {},
      "source": [
        "#### 5.4 Общий анализ результатов перевода"
      ]
    },
    {
      "cell_type": "code",
      "execution_count": 64,
      "metadata": {},
      "outputs": [],
      "source": [
        "def translateSentence(input_sentence, model):\n",
        "    print('input>', input_sentence)\n",
        "\n",
        "    output_words, _ = evaluate(model, input_sentence, input_lang, output_lang)\n",
        "    output_sentence = ' '.join(output_words)\n",
        "\n",
        "    print('output<', output_sentence)\n",
        "    print('')"
      ]
    },
    {
      "cell_type": "code",
      "execution_count": 68,
      "metadata": {
        "colab": {
          "base_uri": "https://localhost:8080/"
        },
        "id": "iXdBRv1YNIXa",
        "outputId": "541bfd42-d081-4dfa-83be-b4a9d0eb7e3e"
      },
      "outputs": [
        {
          "name": "stdout",
          "output_type": "stream",
          "text": [
            "<##### Sentence 1 #####>\n",
            "<-- LSTM -->\n",
            "input> you work hard\n",
            "output< ты слишком много работаешь <EOS>\n",
            "\n",
            "<-- GRU -->\n",
            "input> you work hard\n",
            "output< ты много работаешь <EOS>\n",
            "\n",
            "<##### Sentence 2 #####>\n",
            "<-- LSTM -->\n",
            "input> tom was sick\n",
            "output< том был болен <EOS>\n",
            "\n",
            "<-- GRU -->\n",
            "input> tom was sick\n",
            "output< том болел больнои <EOS>\n",
            "\n",
            "<##### Sentence 3 #####>\n",
            "<-- LSTM -->\n",
            "input> summer is here\n",
            "output< лето здесь <EOS>\n",
            "\n",
            "<-- GRU -->\n",
            "input> summer is here\n",
            "output< летом здесь лето <EOS>\n",
            "\n",
            "<##### Sentence 4 #####>\n",
            "<-- LSTM -->\n",
            "input> tom will win\n",
            "output< том выиграет <EOS>\n",
            "\n",
            "<-- GRU -->\n",
            "input> tom will win\n",
            "output< том выиграет <EOS>\n",
            "\n",
            "<##### Sentence 5 #####>\n",
            "<-- LSTM -->\n",
            "input> i wonder where she lives\n",
            "output< интересно где она живет <EOS>\n",
            "\n",
            "<-- GRU -->\n",
            "input> i wonder where she lives\n",
            "output< интересно где она живет в жизнь <EOS>\n",
            "\n",
            "<##### Sentence 6 #####>\n",
            "<-- LSTM -->\n",
            "input> you will be there again soon\n",
            "output< ты скоро будешь там снова <EOS>\n",
            "\n",
            "<-- GRU -->\n",
            "input> you will be there again soon\n",
            "output< ты скоро опять там скоро <EOS>\n",
            "\n",
            "<##### Sentence 7 #####>\n",
            "<-- LSTM -->\n",
            "input> i rarely make a mistake\n",
            "output< я редко совершаю ошибку <EOS>\n",
            "\n",
            "<-- GRU -->\n",
            "input> i rarely make a mistake\n",
            "output< я редко совершаю ошибку в ошибки <EOS>\n",
            "\n",
            "<##### Sentence 8 #####>\n",
            "<-- LSTM -->\n",
            "input> i knew all about that\n",
            "output< я знал об этом все <EOS>\n",
            "\n",
            "<-- GRU -->\n",
            "input> i knew all about that\n",
            "output< я знала об этом все знаю <EOS>\n",
            "\n",
            "<##### Sentence 9 #####>\n",
            "<-- LSTM -->\n",
            "input> i plan on going there\n",
            "output< я планирую туда поити <EOS>\n",
            "\n",
            "<-- GRU -->\n",
            "input> i plan on going there\n",
            "output< я планирую туда поити <EOS>\n",
            "\n",
            "<##### Sentence 10 #####>\n",
            "<-- LSTM -->\n",
            "input> we are going to swim\n",
            "output< мы собираемся поплавать <EOS>\n",
            "\n",
            "<-- GRU -->\n",
            "input> we are going to swim\n",
            "output< мы будем плавать <EOS>\n",
            "\n"
          ]
        }
      ],
      "source": [
        "sentences_to_translate = [\n",
        "    \"you work hard\",\n",
        "    \"tom was sick\",\n",
        "    \"summer is here\",\n",
        "    \"tom will win\",\n",
        "    \"i wonder where she lives\",\n",
        "    \"you will be there again soon\",\n",
        "    \"i rarely make a mistake\",\n",
        "    \"i knew all about that\",\n",
        "    \"i plan on going there\",\n",
        "    \"we are going to swim\"\n",
        "]\n",
        "\n",
        "for idx, sentence in enumerate(sentences_to_translate):\n",
        "    print(f\"<##### Sentence {idx + 1} #####>\")\n",
        "    print(\"<-- LSTM -->\")\n",
        "    translateSentence(\n",
        "        sentence,\n",
        "        seq2seq_lstm_model\n",
        "    )\n",
        "\n",
        "    print(\"<-- GRU -->\")\n",
        "    translateSentence(\n",
        "        sentence,\n",
        "        seq2seq_gru_model\n",
        "    )"
      ]
    },
    {
      "cell_type": "markdown",
      "metadata": {},
      "source": [
        "### 6 Логи tensorboard"
      ]
    },
    {
      "cell_type": "markdown",
      "metadata": {},
      "source": [
        "#### 6.1 Запуск сервера tensorboard"
      ]
    },
    {
      "cell_type": "code",
      "execution_count": null,
      "metadata": {},
      "outputs": [],
      "source": [
        "from torch.utils.tensorboard import SummaryWriter\n",
        "import os\n",
        "import tensorboard\n",
        "\n",
        "log_dir = \"./logs\"\n",
        "os.system(f\"tensorboard --logdir={log_dir} --port=6006\")"
      ]
    },
    {
      "cell_type": "markdown",
      "metadata": {},
      "source": [
        "#### 6.2 Графики собранных данных"
      ]
    },
    {
      "cell_type": "code",
      "execution_count": 1,
      "metadata": {},
      "outputs": [],
      "source": [
        "from IPython.display import SVG, display\n",
        "\n",
        "SVG_PATH = \"./imgs\""
      ]
    },
    {
      "cell_type": "markdown",
      "metadata": {},
      "source": [
        "Train loss"
      ]
    },
    {
      "cell_type": "code",
      "execution_count": 4,
      "metadata": {},
      "outputs": [
        {
          "data": {
            "image/svg+xml": [
              "<svg xmlns=\"http://www.w3.org/2000/svg\" viewBox=\"0 0 330 200\"><g><g><g><g><g><line x1=\"40\" y1=\"177\" x2=\"35\" y2=\"177\" style=\"visibility: inherit;\" fill=\"rgb(0, 0, 0)\" stroke=\"rgb(204, 204, 204)\" stroke-width=\"1px\"/><line x1=\"40\" y1=\"157.33333333333331\" x2=\"35\" y2=\"157.33333333333331\" style=\"visibility: inherit;\" fill=\"rgb(0, 0, 0)\" stroke=\"rgb(204, 204, 204)\" stroke-width=\"1px\"/><line x1=\"40\" y1=\"137.66666666666666\" x2=\"35\" y2=\"137.66666666666666\" style=\"visibility: inherit;\" fill=\"rgb(0, 0, 0)\" stroke=\"rgb(204, 204, 204)\" stroke-width=\"1px\"/><line x1=\"40\" y1=\"118\" x2=\"35\" y2=\"118\" style=\"visibility: inherit;\" fill=\"rgb(0, 0, 0)\" stroke=\"rgb(204, 204, 204)\" stroke-width=\"1px\"/><line x1=\"40\" y1=\"98.33333333333334\" x2=\"35\" y2=\"98.33333333333334\" style=\"visibility: inherit;\" fill=\"rgb(0, 0, 0)\" stroke=\"rgb(204, 204, 204)\" stroke-width=\"1px\"/><line x1=\"40\" y1=\"78.66666666666666\" x2=\"35\" y2=\"78.66666666666666\" style=\"visibility: inherit;\" fill=\"rgb(0, 0, 0)\" stroke=\"rgb(204, 204, 204)\" stroke-width=\"1px\"/><line x1=\"40\" y1=\"59.00000000000001\" x2=\"35\" y2=\"59.00000000000001\" style=\"visibility: inherit;\" fill=\"rgb(0, 0, 0)\" stroke=\"rgb(204, 204, 204)\" stroke-width=\"1px\"/><line x1=\"40\" y1=\"39.33333333333333\" x2=\"35\" y2=\"39.33333333333333\" style=\"visibility: inherit;\" fill=\"rgb(0, 0, 0)\" stroke=\"rgb(204, 204, 204)\" stroke-width=\"1px\"/><line x1=\"40\" y1=\"19.666666666666657\" x2=\"35\" y2=\"19.666666666666657\" style=\"visibility: inherit;\" fill=\"rgb(0, 0, 0)\" stroke=\"rgb(204, 204, 204)\" stroke-width=\"1px\"/><line x1=\"40\" y1=\"0\" x2=\"35\" y2=\"0\" style=\"visibility: inherit;\" fill=\"rgb(0, 0, 0)\" stroke=\"rgb(204, 204, 204)\" stroke-width=\"1px\"/></g><g transform=\"translate(30, 0)\"><text x=\"0\" y=\"177\" dx=\"0em\" dy=\"0.3em\" style=\"text-anchor: end; visibility: hidden; font-family: Roboto, sans-serif; font-size: 12px; font-weight: 200;\" fill=\"rgb(33, 33, 33)\" stroke=\"none\" stroke-width=\"1px\">0.2</text><text x=\"0\" y=\"157.33333333333331\" dx=\"0em\" dy=\"0.3em\" style=\"text-anchor: end; visibility: inherit; font-family: Roboto, sans-serif; font-size: 12px; font-weight: 200;\" fill=\"rgb(33, 33, 33)\" stroke=\"none\" stroke-width=\"1px\">0.4</text><text x=\"0\" y=\"137.66666666666666\" dx=\"0em\" dy=\"0.3em\" style=\"text-anchor: end; visibility: hidden; font-family: Roboto, sans-serif; font-size: 12px; font-weight: 200;\" fill=\"rgb(33, 33, 33)\" stroke=\"none\" stroke-width=\"1px\">0.6</text><text x=\"0\" y=\"118\" dx=\"0em\" dy=\"0.3em\" style=\"text-anchor: end; visibility: inherit; font-family: Roboto, sans-serif; font-size: 12px; font-weight: 200;\" fill=\"rgb(33, 33, 33)\" stroke=\"none\" stroke-width=\"1px\">0.8</text><text x=\"0\" y=\"98.33333333333334\" dx=\"0em\" dy=\"0.3em\" style=\"text-anchor: end; visibility: hidden; font-family: Roboto, sans-serif; font-size: 12px; font-weight: 200;\" fill=\"rgb(33, 33, 33)\" stroke=\"none\" stroke-width=\"1px\">1</text><text x=\"0\" y=\"78.66666666666666\" dx=\"0em\" dy=\"0.3em\" style=\"text-anchor: end; visibility: inherit; font-family: Roboto, sans-serif; font-size: 12px; font-weight: 200;\" fill=\"rgb(33, 33, 33)\" stroke=\"none\" stroke-width=\"1px\">1.2</text><text x=\"0\" y=\"59.00000000000001\" dx=\"0em\" dy=\"0.3em\" style=\"text-anchor: end; visibility: hidden; font-family: Roboto, sans-serif; font-size: 12px; font-weight: 200;\" fill=\"rgb(33, 33, 33)\" stroke=\"none\" stroke-width=\"1px\">1.4</text><text x=\"0\" y=\"39.33333333333333\" dx=\"0em\" dy=\"0.3em\" style=\"text-anchor: end; visibility: inherit; font-family: Roboto, sans-serif; font-size: 12px; font-weight: 200;\" fill=\"rgb(33, 33, 33)\" stroke=\"none\" stroke-width=\"1px\">1.6</text><text x=\"0\" y=\"19.666666666666657\" dx=\"0em\" dy=\"0.3em\" style=\"text-anchor: end; visibility: hidden; font-family: Roboto, sans-serif; font-size: 12px; font-weight: 200;\" fill=\"rgb(33, 33, 33)\" stroke=\"none\" stroke-width=\"1px\">1.8</text><text x=\"0\" y=\"0\" dx=\"0em\" dy=\"0.3em\" style=\"text-anchor: end; visibility: hidden; font-family: Roboto, sans-serif; font-size: 12px; font-weight: 200;\" fill=\"rgb(33, 33, 33)\" stroke=\"none\" stroke-width=\"1px\">2</text></g><line x1=\"40\" y1=\"0\" x2=\"40\" y2=\"177\" fill=\"rgb(0, 0, 0)\" stroke=\"rgb(204, 204, 204)\" stroke-width=\"1px\"/></g></g><g transform=\"translate(40, 0)\" clip-path=\"url(#clip_0)\"><clipPath id=\"clip_0\"><rect width=\"290\" height=\"177\"/></clipPath><g><g><g><line x1=\"0\" y1=\"0\" x2=\"0\" y2=\"177\" fill=\"rgb(0, 0, 0)\" stroke=\"rgb(66, 66, 66)\" stroke-width=\"1px\" opacity=\"0.25\"/><line x1=\"20.71428571428571\" y1=\"0\" x2=\"20.71428571428571\" y2=\"177\" fill=\"rgb(0, 0, 0)\" stroke=\"rgb(66, 66, 66)\" stroke-width=\"1px\" opacity=\"0.25\"/><line x1=\"41.42857142857142\" y1=\"0\" x2=\"41.42857142857142\" y2=\"177\" fill=\"rgb(0, 0, 0)\" stroke=\"rgb(66, 66, 66)\" stroke-width=\"1px\" opacity=\"0.25\"/><line x1=\"62.14285714285714\" y1=\"0\" x2=\"62.14285714285714\" y2=\"177\" fill=\"rgb(0, 0, 0)\" stroke=\"rgb(66, 66, 66)\" stroke-width=\"1px\" opacity=\"0.25\"/><line x1=\"82.85714285714285\" y1=\"0\" x2=\"82.85714285714285\" y2=\"177\" fill=\"rgb(0, 0, 0)\" stroke=\"rgb(66, 66, 66)\" stroke-width=\"1px\" opacity=\"0.25\"/><line x1=\"103.57142857142857\" y1=\"0\" x2=\"103.57142857142857\" y2=\"177\" fill=\"rgb(0, 0, 0)\" stroke=\"rgb(66, 66, 66)\" stroke-width=\"1px\" opacity=\"0.25\"/><line x1=\"124.28571428571428\" y1=\"0\" x2=\"124.28571428571428\" y2=\"177\" fill=\"rgb(0, 0, 0)\" stroke=\"rgb(66, 66, 66)\" stroke-width=\"1px\" opacity=\"0.25\"/><line x1=\"145\" y1=\"0\" x2=\"145\" y2=\"177\" fill=\"rgb(0, 0, 0)\" stroke=\"rgb(66, 66, 66)\" stroke-width=\"1px\" opacity=\"0.25\"/><line x1=\"165.7142857142857\" y1=\"0\" x2=\"165.7142857142857\" y2=\"177\" fill=\"rgb(0, 0, 0)\" stroke=\"rgb(66, 66, 66)\" stroke-width=\"1px\" opacity=\"0.25\"/><line x1=\"186.42857142857144\" y1=\"0\" x2=\"186.42857142857144\" y2=\"177\" fill=\"rgb(0, 0, 0)\" stroke=\"rgb(66, 66, 66)\" stroke-width=\"1px\" opacity=\"0.25\"/><line x1=\"207.14285714285714\" y1=\"0\" x2=\"207.14285714285714\" y2=\"177\" fill=\"rgb(0, 0, 0)\" stroke=\"rgb(66, 66, 66)\" stroke-width=\"1px\" opacity=\"0.25\"/><line x1=\"227.85714285714286\" y1=\"0\" x2=\"227.85714285714286\" y2=\"177\" fill=\"rgb(0, 0, 0)\" stroke=\"rgb(66, 66, 66)\" stroke-width=\"1px\" opacity=\"0.25\"/><line x1=\"248.57142857142856\" y1=\"0\" x2=\"248.57142857142856\" y2=\"177\" fill=\"rgb(0, 0, 0)\" stroke=\"rgb(66, 66, 66)\" stroke-width=\"1px\" opacity=\"0.25\"/><line x1=\"269.2857142857143\" y1=\"0\" x2=\"269.2857142857143\" y2=\"177\" fill=\"rgb(0, 0, 0)\" stroke=\"rgb(66, 66, 66)\" stroke-width=\"1px\" opacity=\"0.25\"/><line x1=\"290\" y1=\"0\" x2=\"290\" y2=\"177\" fill=\"rgb(0, 0, 0)\" stroke=\"rgb(66, 66, 66)\" stroke-width=\"1px\" opacity=\"0.25\"/></g><g><line x1=\"0\" y1=\"177\" x2=\"290\" y2=\"177\" fill=\"rgb(0, 0, 0)\" stroke=\"rgb(66, 66, 66)\" stroke-width=\"1px\" opacity=\"0.25\"/><line x1=\"0\" y1=\"157.33333333333331\" x2=\"290\" y2=\"157.33333333333331\" fill=\"rgb(0, 0, 0)\" stroke=\"rgb(66, 66, 66)\" stroke-width=\"1px\" opacity=\"0.25\"/><line x1=\"0\" y1=\"137.66666666666666\" x2=\"290\" y2=\"137.66666666666666\" fill=\"rgb(0, 0, 0)\" stroke=\"rgb(66, 66, 66)\" stroke-width=\"1px\" opacity=\"0.25\"/><line x1=\"0\" y1=\"118\" x2=\"290\" y2=\"118\" fill=\"rgb(0, 0, 0)\" stroke=\"rgb(66, 66, 66)\" stroke-width=\"1px\" opacity=\"0.25\"/><line x1=\"0\" y1=\"98.33333333333334\" x2=\"290\" y2=\"98.33333333333334\" fill=\"rgb(0, 0, 0)\" stroke=\"rgb(66, 66, 66)\" stroke-width=\"1px\" opacity=\"0.25\"/><line x1=\"0\" y1=\"78.66666666666666\" x2=\"290\" y2=\"78.66666666666666\" fill=\"rgb(0, 0, 0)\" stroke=\"rgb(66, 66, 66)\" stroke-width=\"1px\" opacity=\"0.25\"/><line x1=\"0\" y1=\"59.00000000000001\" x2=\"290\" y2=\"59.00000000000001\" fill=\"rgb(0, 0, 0)\" stroke=\"rgb(66, 66, 66)\" stroke-width=\"1px\" opacity=\"0.25\"/><line x1=\"0\" y1=\"39.33333333333333\" x2=\"290\" y2=\"39.33333333333333\" fill=\"rgb(0, 0, 0)\" stroke=\"rgb(66, 66, 66)\" stroke-width=\"1px\" opacity=\"0.25\"/><line x1=\"0\" y1=\"19.666666666666657\" x2=\"290\" y2=\"19.666666666666657\" fill=\"rgb(0, 0, 0)\" stroke=\"rgb(66, 66, 66)\" stroke-width=\"1px\" opacity=\"0.25\"/><line x1=\"0\" y1=\"0\" x2=\"290\" y2=\"0\" fill=\"rgb(0, 0, 0)\" stroke=\"rgb(66, 66, 66)\" stroke-width=\"1px\" opacity=\"0.25\"/></g></g></g><g><g><line x1=\"0\" y1=\"196.66666666666669\" x2=\"290\" y2=\"196.66666666666669\" fill=\"rgb(0, 0, 0)\" stroke=\"rgb(153, 153, 153)\" stroke-width=\"1.5px\"/></g></g><g><g><line x1=\"-41.42857142857142\" y1=\"0\" x2=\"-41.42857142857142\" y2=\"177\" fill=\"rgb(0, 0, 0)\" stroke=\"rgb(153, 153, 153)\" stroke-width=\"1.5px\"/></g></g><g><g><g><g><g><path stroke=\"rgb(0, 119, 187)\" stroke-width=\"2px\" d=\"M10.357142857142856,-48.276901245117145L62.14285714285714,23.517662410934737L113.92857142857143,65.57911216807206L165.7142857142857,93.43523836018994L217.5,112.70256346087751L269.2857142857143,126.33515920695429\" style=\"fill: none;\" fill=\"none\"/></g><g><path stroke=\"rgb(204, 51, 17)\" stroke-width=\"2px\" d=\"M10.357142857142856,41.99106911818185L62.14285714285714,109.9220809650918L113.92857142857143,139.23259190556143L165.7142857142857,155.11570726850016L217.5,164.6863677227715L269.2857142857143,170.7609087485664\" style=\"fill: none;\" fill=\"none\"/></g></g></g></g><g opacity=\"0.2\"><g><g><g><path stroke=\"rgb(0, 119, 187)\" stroke-width=\"2px\" d=\"M10.357142857142856,-48.276901245117145L62.14285714285714,66.59440060456593L113.92857142857143,105.95810393492381L165.7142857142857,126.19404276212057L217.5,137.8579831123352L269.2857142857143,145.19394685824713\" style=\"fill: none;\" fill=\"none\"/></g><g><path stroke=\"rgb(204, 51, 17)\" stroke-width=\"2px\" d=\"M10.357142857142856,41.99106911818187L62.14285714285714,150.68068807323775L113.92857142857143,167.37068240841228L165.7142857142857,173.7942509353161L217.5,177.18182201186815\" style=\"fill: none;\" fill=\"none\"/></g></g></g></g></g></g><g transform=\"translate(40, 177)\" clip-path=\"url(#clip_1)\"><clipPath id=\"clip_1\"><rect width=\"290\" height=\"23\"/></clipPath><g><g><line x1=\"0\" y1=\"0\" x2=\"0\" y2=\"5\" style=\"visibility: inherit;\" fill=\"rgb(0, 0, 0)\" stroke=\"rgb(204, 204, 204)\" stroke-width=\"1px\"/><line x1=\"20.71428571428571\" y1=\"0\" x2=\"20.71428571428571\" y2=\"5\" style=\"visibility: inherit;\" fill=\"rgb(0, 0, 0)\" stroke=\"rgb(204, 204, 204)\" stroke-width=\"1px\"/><line x1=\"41.42857142857142\" y1=\"0\" x2=\"41.42857142857142\" y2=\"5\" style=\"visibility: inherit;\" fill=\"rgb(0, 0, 0)\" stroke=\"rgb(204, 204, 204)\" stroke-width=\"1px\"/><line x1=\"62.14285714285714\" y1=\"0\" x2=\"62.14285714285714\" y2=\"5\" style=\"visibility: inherit;\" fill=\"rgb(0, 0, 0)\" stroke=\"rgb(204, 204, 204)\" stroke-width=\"1px\"/><line x1=\"82.85714285714285\" y1=\"0\" x2=\"82.85714285714285\" y2=\"5\" style=\"visibility: inherit;\" fill=\"rgb(0, 0, 0)\" stroke=\"rgb(204, 204, 204)\" stroke-width=\"1px\"/><line x1=\"103.57142857142857\" y1=\"0\" x2=\"103.57142857142857\" y2=\"5\" style=\"visibility: inherit;\" fill=\"rgb(0, 0, 0)\" stroke=\"rgb(204, 204, 204)\" stroke-width=\"1px\"/><line x1=\"124.28571428571428\" y1=\"0\" x2=\"124.28571428571428\" y2=\"5\" style=\"visibility: inherit;\" fill=\"rgb(0, 0, 0)\" stroke=\"rgb(204, 204, 204)\" stroke-width=\"1px\"/><line x1=\"145\" y1=\"0\" x2=\"145\" y2=\"5\" style=\"visibility: inherit;\" fill=\"rgb(0, 0, 0)\" stroke=\"rgb(204, 204, 204)\" stroke-width=\"1px\"/><line x1=\"165.7142857142857\" y1=\"0\" x2=\"165.7142857142857\" y2=\"5\" style=\"visibility: inherit;\" fill=\"rgb(0, 0, 0)\" stroke=\"rgb(204, 204, 204)\" stroke-width=\"1px\"/><line x1=\"186.42857142857144\" y1=\"0\" x2=\"186.42857142857144\" y2=\"5\" style=\"visibility: inherit;\" fill=\"rgb(0, 0, 0)\" stroke=\"rgb(204, 204, 204)\" stroke-width=\"1px\"/><line x1=\"207.14285714285714\" y1=\"0\" x2=\"207.14285714285714\" y2=\"5\" style=\"visibility: inherit;\" fill=\"rgb(0, 0, 0)\" stroke=\"rgb(204, 204, 204)\" stroke-width=\"1px\"/><line x1=\"227.85714285714286\" y1=\"0\" x2=\"227.85714285714286\" y2=\"5\" style=\"visibility: inherit;\" fill=\"rgb(0, 0, 0)\" stroke=\"rgb(204, 204, 204)\" stroke-width=\"1px\"/><line x1=\"248.57142857142856\" y1=\"0\" x2=\"248.57142857142856\" y2=\"5\" style=\"visibility: inherit;\" fill=\"rgb(0, 0, 0)\" stroke=\"rgb(204, 204, 204)\" stroke-width=\"1px\"/><line x1=\"269.2857142857143\" y1=\"0\" x2=\"269.2857142857143\" y2=\"5\" style=\"visibility: inherit;\" fill=\"rgb(0, 0, 0)\" stroke=\"rgb(204, 204, 204)\" stroke-width=\"1px\"/><line x1=\"290\" y1=\"0\" x2=\"290\" y2=\"5\" style=\"visibility: inherit;\" fill=\"rgb(0, 0, 0)\" stroke=\"rgb(204, 204, 204)\" stroke-width=\"1px\"/></g><g transform=\"translate(0, 8)\"><text x=\"0\" y=\"0\" dx=\"0em\" dy=\"0.95em\" style=\"text-anchor: middle; visibility: hidden; font-family: Roboto, sans-serif; font-size: 12px; font-weight: 200;\" fill=\"rgb(33, 33, 33)\" stroke=\"none\" stroke-width=\"1px\">4</text><text x=\"20.71428571428571\" y=\"0\" dx=\"0em\" dy=\"0.95em\" style=\"text-anchor: middle; visibility: inherit; font-family: Roboto, sans-serif; font-size: 12px; font-weight: 200;\" fill=\"rgb(33, 33, 33)\" stroke=\"none\" stroke-width=\"1px\">6</text><text x=\"41.42857142857142\" y=\"0\" dx=\"0em\" dy=\"0.95em\" style=\"text-anchor: middle; visibility: inherit; font-family: Roboto, sans-serif; font-size: 12px; font-weight: 200;\" fill=\"rgb(33, 33, 33)\" stroke=\"none\" stroke-width=\"1px\">8</text><text x=\"62.14285714285714\" y=\"0\" dx=\"0em\" dy=\"0.95em\" style=\"text-anchor: middle; visibility: inherit; font-family: Roboto, sans-serif; font-size: 12px; font-weight: 200;\" fill=\"rgb(33, 33, 33)\" stroke=\"none\" stroke-width=\"1px\">10</text><text x=\"82.85714285714285\" y=\"0\" dx=\"0em\" dy=\"0.95em\" style=\"text-anchor: middle; visibility: inherit; font-family: Roboto, sans-serif; font-size: 12px; font-weight: 200;\" fill=\"rgb(33, 33, 33)\" stroke=\"none\" stroke-width=\"1px\">12</text><text x=\"103.57142857142857\" y=\"0\" dx=\"0em\" dy=\"0.95em\" style=\"text-anchor: middle; visibility: inherit; font-family: Roboto, sans-serif; font-size: 12px; font-weight: 200;\" fill=\"rgb(33, 33, 33)\" stroke=\"none\" stroke-width=\"1px\">14</text><text x=\"124.28571428571428\" y=\"0\" dx=\"0em\" dy=\"0.95em\" style=\"text-anchor: middle; visibility: inherit; font-family: Roboto, sans-serif; font-size: 12px; font-weight: 200;\" fill=\"rgb(33, 33, 33)\" stroke=\"none\" stroke-width=\"1px\">16</text><text x=\"145\" y=\"0\" dx=\"0em\" dy=\"0.95em\" style=\"text-anchor: middle; visibility: inherit; font-family: Roboto, sans-serif; font-size: 12px; font-weight: 200;\" fill=\"rgb(33, 33, 33)\" stroke=\"none\" stroke-width=\"1px\">18</text><text x=\"165.7142857142857\" y=\"0\" dx=\"0em\" dy=\"0.95em\" style=\"text-anchor: middle; visibility: inherit; font-family: Roboto, sans-serif; font-size: 12px; font-weight: 200;\" fill=\"rgb(33, 33, 33)\" stroke=\"none\" stroke-width=\"1px\">20</text><text x=\"186.42857142857144\" y=\"0\" dx=\"0em\" dy=\"0.95em\" style=\"text-anchor: middle; visibility: inherit; font-family: Roboto, sans-serif; font-size: 12px; font-weight: 200;\" fill=\"rgb(33, 33, 33)\" stroke=\"none\" stroke-width=\"1px\">22</text><text x=\"207.14285714285714\" y=\"0\" dx=\"0em\" dy=\"0.95em\" style=\"text-anchor: middle; visibility: inherit; font-family: Roboto, sans-serif; font-size: 12px; font-weight: 200;\" fill=\"rgb(33, 33, 33)\" stroke=\"none\" stroke-width=\"1px\">24</text><text x=\"227.85714285714286\" y=\"0\" dx=\"0em\" dy=\"0.95em\" style=\"text-anchor: middle; visibility: inherit; font-family: Roboto, sans-serif; font-size: 12px; font-weight: 200;\" fill=\"rgb(33, 33, 33)\" stroke=\"none\" stroke-width=\"1px\">26</text><text x=\"248.57142857142856\" y=\"0\" dx=\"0em\" dy=\"0.95em\" style=\"text-anchor: middle; visibility: inherit; font-family: Roboto, sans-serif; font-size: 12px; font-weight: 200;\" fill=\"rgb(33, 33, 33)\" stroke=\"none\" stroke-width=\"1px\">28</text><text x=\"269.2857142857143\" y=\"0\" dx=\"0em\" dy=\"0.95em\" style=\"text-anchor: middle; visibility: inherit; font-family: Roboto, sans-serif; font-size: 12px; font-weight: 200;\" fill=\"rgb(33, 33, 33)\" stroke=\"none\" stroke-width=\"1px\">30</text><text x=\"290\" y=\"0\" dx=\"0em\" dy=\"0.95em\" style=\"text-anchor: middle; visibility: hidden; font-family: Roboto, sans-serif; font-size: 12px; font-weight: 200;\" fill=\"rgb(33, 33, 33)\" stroke=\"none\" stroke-width=\"1px\">32</text></g><line x1=\"0\" y1=\"0\" x2=\"290\" y2=\"0\" fill=\"rgb(0, 0, 0)\" stroke=\"rgb(204, 204, 204)\" stroke-width=\"1px\"/></g></g></g></g></svg>"
            ],
            "text/plain": [
              "<IPython.core.display.SVG object>"
            ]
          },
          "metadata": {},
          "output_type": "display_data"
        }
      ],
      "source": [
        "display(SVG(f\"{SVG_PATH}/Loss_train.svg\"))"
      ]
    },
    {
      "cell_type": "markdown",
      "metadata": {},
      "source": [
        "WER validation"
      ]
    },
    {
      "cell_type": "code",
      "execution_count": 5,
      "metadata": {},
      "outputs": [
        {
          "data": {
            "image/svg+xml": [
              "<svg xmlns=\"http://www.w3.org/2000/svg\" viewBox=\"0 0 330 200\"><g><g><g><g><g><line x1=\"51.5625\" y1=\"177\" x2=\"46.5625\" y2=\"177\" style=\"visibility: inherit;\" fill=\"rgb(0, 0, 0)\" stroke=\"rgb(204, 204, 204)\" stroke-width=\"1px\"/><line x1=\"51.5625\" y1=\"159.3\" x2=\"46.5625\" y2=\"159.3\" style=\"visibility: inherit;\" fill=\"rgb(0, 0, 0)\" stroke=\"rgb(204, 204, 204)\" stroke-width=\"1px\"/><line x1=\"51.5625\" y1=\"141.6\" x2=\"46.5625\" y2=\"141.6\" style=\"visibility: inherit;\" fill=\"rgb(0, 0, 0)\" stroke=\"rgb(204, 204, 204)\" stroke-width=\"1px\"/><line x1=\"51.5625\" y1=\"123.89999999999999\" x2=\"46.5625\" y2=\"123.89999999999999\" style=\"visibility: inherit;\" fill=\"rgb(0, 0, 0)\" stroke=\"rgb(204, 204, 204)\" stroke-width=\"1px\"/><line x1=\"51.5625\" y1=\"106.2\" x2=\"46.5625\" y2=\"106.2\" style=\"visibility: inherit;\" fill=\"rgb(0, 0, 0)\" stroke=\"rgb(204, 204, 204)\" stroke-width=\"1px\"/><line x1=\"51.5625\" y1=\"88.5\" x2=\"46.5625\" y2=\"88.5\" style=\"visibility: inherit;\" fill=\"rgb(0, 0, 0)\" stroke=\"rgb(204, 204, 204)\" stroke-width=\"1px\"/><line x1=\"51.5625\" y1=\"70.8\" x2=\"46.5625\" y2=\"70.8\" style=\"visibility: inherit;\" fill=\"rgb(0, 0, 0)\" stroke=\"rgb(204, 204, 204)\" stroke-width=\"1px\"/><line x1=\"51.5625\" y1=\"53.10000000000001\" x2=\"46.5625\" y2=\"53.10000000000001\" style=\"visibility: inherit;\" fill=\"rgb(0, 0, 0)\" stroke=\"rgb(204, 204, 204)\" stroke-width=\"1px\"/><line x1=\"51.5625\" y1=\"35.39999999999999\" x2=\"46.5625\" y2=\"35.39999999999999\" style=\"visibility: inherit;\" fill=\"rgb(0, 0, 0)\" stroke=\"rgb(204, 204, 204)\" stroke-width=\"1px\"/><line x1=\"51.5625\" y1=\"17.699999999999996\" x2=\"46.5625\" y2=\"17.699999999999996\" style=\"visibility: inherit;\" fill=\"rgb(0, 0, 0)\" stroke=\"rgb(204, 204, 204)\" stroke-width=\"1px\"/><line x1=\"51.5625\" y1=\"0\" x2=\"46.5625\" y2=\"0\" style=\"visibility: inherit;\" fill=\"rgb(0, 0, 0)\" stroke=\"rgb(204, 204, 204)\" stroke-width=\"1px\"/></g><g transform=\"translate(41.5625, 0)\"><text x=\"0\" y=\"177\" dx=\"0em\" dy=\"0.3em\" style=\"text-anchor: end; visibility: hidden; font-family: Roboto, sans-serif; font-size: 12px; font-weight: 200;\" fill=\"rgb(33, 33, 33)\" stroke=\"none\" stroke-width=\"1px\">0.69</text><text x=\"0\" y=\"159.3\" dx=\"0em\" dy=\"0.3em\" style=\"text-anchor: end; visibility: inherit; font-family: Roboto, sans-serif; font-size: 12px; font-weight: 200;\" fill=\"rgb(33, 33, 33)\" stroke=\"none\" stroke-width=\"1px\">0.7</text><text x=\"0\" y=\"141.6\" dx=\"0em\" dy=\"0.3em\" style=\"text-anchor: end; visibility: hidden; font-family: Roboto, sans-serif; font-size: 12px; font-weight: 200;\" fill=\"rgb(33, 33, 33)\" stroke=\"none\" stroke-width=\"1px\">0.71</text><text x=\"0\" y=\"123.89999999999999\" dx=\"0em\" dy=\"0.3em\" style=\"text-anchor: end; visibility: inherit; font-family: Roboto, sans-serif; font-size: 12px; font-weight: 200;\" fill=\"rgb(33, 33, 33)\" stroke=\"none\" stroke-width=\"1px\">0.72</text><text x=\"0\" y=\"106.2\" dx=\"0em\" dy=\"0.3em\" style=\"text-anchor: end; visibility: hidden; font-family: Roboto, sans-serif; font-size: 12px; font-weight: 200;\" fill=\"rgb(33, 33, 33)\" stroke=\"none\" stroke-width=\"1px\">0.73</text><text x=\"0\" y=\"88.5\" dx=\"0em\" dy=\"0.3em\" style=\"text-anchor: end; visibility: inherit; font-family: Roboto, sans-serif; font-size: 12px; font-weight: 200;\" fill=\"rgb(33, 33, 33)\" stroke=\"none\" stroke-width=\"1px\">0.74</text><text x=\"0\" y=\"70.8\" dx=\"0em\" dy=\"0.3em\" style=\"text-anchor: end; visibility: hidden; font-family: Roboto, sans-serif; font-size: 12px; font-weight: 200;\" fill=\"rgb(33, 33, 33)\" stroke=\"none\" stroke-width=\"1px\">0.75</text><text x=\"0\" y=\"53.10000000000001\" dx=\"0em\" dy=\"0.3em\" style=\"text-anchor: end; visibility: inherit; font-family: Roboto, sans-serif; font-size: 12px; font-weight: 200;\" fill=\"rgb(33, 33, 33)\" stroke=\"none\" stroke-width=\"1px\">0.76</text><text x=\"0\" y=\"35.39999999999999\" dx=\"0em\" dy=\"0.3em\" style=\"text-anchor: end; visibility: hidden; font-family: Roboto, sans-serif; font-size: 12px; font-weight: 200;\" fill=\"rgb(33, 33, 33)\" stroke=\"none\" stroke-width=\"1px\">0.77</text><text x=\"0\" y=\"17.699999999999996\" dx=\"0em\" dy=\"0.3em\" style=\"text-anchor: end; visibility: inherit; font-family: Roboto, sans-serif; font-size: 12px; font-weight: 200;\" fill=\"rgb(33, 33, 33)\" stroke=\"none\" stroke-width=\"1px\">0.78</text><text x=\"0\" y=\"0\" dx=\"0em\" dy=\"0.3em\" style=\"text-anchor: end; visibility: hidden; font-family: Roboto, sans-serif; font-size: 12px; font-weight: 200;\" fill=\"rgb(33, 33, 33)\" stroke=\"none\" stroke-width=\"1px\">0.79</text></g><line x1=\"51.5625\" y1=\"0\" x2=\"51.5625\" y2=\"177\" fill=\"rgb(0, 0, 0)\" stroke=\"rgb(204, 204, 204)\" stroke-width=\"1px\"/></g></g><g transform=\"translate(51, 0)\" clip-path=\"url(#clip_0)\"><clipPath id=\"clip_0\"><rect width=\"278\" height=\"177\"/></clipPath><g><g><g><line x1=\"0\" y1=\"0\" x2=\"0\" y2=\"177\" fill=\"rgb(0, 0, 0)\" stroke=\"rgb(66, 66, 66)\" stroke-width=\"1px\" opacity=\"0.25\"/><line x1=\"19.888392857142858\" y1=\"0\" x2=\"19.888392857142858\" y2=\"177\" fill=\"rgb(0, 0, 0)\" stroke=\"rgb(66, 66, 66)\" stroke-width=\"1px\" opacity=\"0.25\"/><line x1=\"39.776785714285715\" y1=\"0\" x2=\"39.776785714285715\" y2=\"177\" fill=\"rgb(0, 0, 0)\" stroke=\"rgb(66, 66, 66)\" stroke-width=\"1px\" opacity=\"0.25\"/><line x1=\"59.66517857142857\" y1=\"0\" x2=\"59.66517857142857\" y2=\"177\" fill=\"rgb(0, 0, 0)\" stroke=\"rgb(66, 66, 66)\" stroke-width=\"1px\" opacity=\"0.25\"/><line x1=\"79.55357142857143\" y1=\"0\" x2=\"79.55357142857143\" y2=\"177\" fill=\"rgb(0, 0, 0)\" stroke=\"rgb(66, 66, 66)\" stroke-width=\"1px\" opacity=\"0.25\"/><line x1=\"99.44196428571429\" y1=\"0\" x2=\"99.44196428571429\" y2=\"177\" fill=\"rgb(0, 0, 0)\" stroke=\"rgb(66, 66, 66)\" stroke-width=\"1px\" opacity=\"0.25\"/><line x1=\"119.33035714285714\" y1=\"0\" x2=\"119.33035714285714\" y2=\"177\" fill=\"rgb(0, 0, 0)\" stroke=\"rgb(66, 66, 66)\" stroke-width=\"1px\" opacity=\"0.25\"/><line x1=\"139.21875\" y1=\"0\" x2=\"139.21875\" y2=\"177\" fill=\"rgb(0, 0, 0)\" stroke=\"rgb(66, 66, 66)\" stroke-width=\"1px\" opacity=\"0.25\"/><line x1=\"159.10714285714286\" y1=\"0\" x2=\"159.10714285714286\" y2=\"177\" fill=\"rgb(0, 0, 0)\" stroke=\"rgb(66, 66, 66)\" stroke-width=\"1px\" opacity=\"0.25\"/><line x1=\"178.99553571428572\" y1=\"0\" x2=\"178.99553571428572\" y2=\"177\" fill=\"rgb(0, 0, 0)\" stroke=\"rgb(66, 66, 66)\" stroke-width=\"1px\" opacity=\"0.25\"/><line x1=\"198.88392857142858\" y1=\"0\" x2=\"198.88392857142858\" y2=\"177\" fill=\"rgb(0, 0, 0)\" stroke=\"rgb(66, 66, 66)\" stroke-width=\"1px\" opacity=\"0.25\"/><line x1=\"218.77232142857142\" y1=\"0\" x2=\"218.77232142857142\" y2=\"177\" fill=\"rgb(0, 0, 0)\" stroke=\"rgb(66, 66, 66)\" stroke-width=\"1px\" opacity=\"0.25\"/><line x1=\"238.66071428571428\" y1=\"0\" x2=\"238.66071428571428\" y2=\"177\" fill=\"rgb(0, 0, 0)\" stroke=\"rgb(66, 66, 66)\" stroke-width=\"1px\" opacity=\"0.25\"/><line x1=\"258.54910714285717\" y1=\"0\" x2=\"258.54910714285717\" y2=\"177\" fill=\"rgb(0, 0, 0)\" stroke=\"rgb(66, 66, 66)\" stroke-width=\"1px\" opacity=\"0.25\"/><line x1=\"278.4375\" y1=\"0\" x2=\"278.4375\" y2=\"177\" fill=\"rgb(0, 0, 0)\" stroke=\"rgb(66, 66, 66)\" stroke-width=\"1px\" opacity=\"0.25\"/></g><g><line x1=\"0\" y1=\"177\" x2=\"278.4375\" y2=\"177\" fill=\"rgb(0, 0, 0)\" stroke=\"rgb(66, 66, 66)\" stroke-width=\"1px\" opacity=\"0.25\"/><line x1=\"0\" y1=\"159.3\" x2=\"278.4375\" y2=\"159.3\" fill=\"rgb(0, 0, 0)\" stroke=\"rgb(66, 66, 66)\" stroke-width=\"1px\" opacity=\"0.25\"/><line x1=\"0\" y1=\"141.6\" x2=\"278.4375\" y2=\"141.6\" fill=\"rgb(0, 0, 0)\" stroke=\"rgb(66, 66, 66)\" stroke-width=\"1px\" opacity=\"0.25\"/><line x1=\"0\" y1=\"123.89999999999999\" x2=\"278.4375\" y2=\"123.89999999999999\" fill=\"rgb(0, 0, 0)\" stroke=\"rgb(66, 66, 66)\" stroke-width=\"1px\" opacity=\"0.25\"/><line x1=\"0\" y1=\"106.2\" x2=\"278.4375\" y2=\"106.2\" fill=\"rgb(0, 0, 0)\" stroke=\"rgb(66, 66, 66)\" stroke-width=\"1px\" opacity=\"0.25\"/><line x1=\"0\" y1=\"88.5\" x2=\"278.4375\" y2=\"88.5\" fill=\"rgb(0, 0, 0)\" stroke=\"rgb(66, 66, 66)\" stroke-width=\"1px\" opacity=\"0.25\"/><line x1=\"0\" y1=\"70.8\" x2=\"278.4375\" y2=\"70.8\" fill=\"rgb(0, 0, 0)\" stroke=\"rgb(66, 66, 66)\" stroke-width=\"1px\" opacity=\"0.25\"/><line x1=\"0\" y1=\"53.10000000000001\" x2=\"278.4375\" y2=\"53.10000000000001\" fill=\"rgb(0, 0, 0)\" stroke=\"rgb(66, 66, 66)\" stroke-width=\"1px\" opacity=\"0.25\"/><line x1=\"0\" y1=\"35.39999999999999\" x2=\"278.4375\" y2=\"35.39999999999999\" fill=\"rgb(0, 0, 0)\" stroke=\"rgb(66, 66, 66)\" stroke-width=\"1px\" opacity=\"0.25\"/><line x1=\"0\" y1=\"17.699999999999996\" x2=\"278.4375\" y2=\"17.699999999999996\" fill=\"rgb(0, 0, 0)\" stroke=\"rgb(66, 66, 66)\" stroke-width=\"1px\" opacity=\"0.25\"/><line x1=\"0\" y1=\"0\" x2=\"278.4375\" y2=\"0\" fill=\"rgb(0, 0, 0)\" stroke=\"rgb(66, 66, 66)\" stroke-width=\"1px\" opacity=\"0.25\"/></g></g></g><g><g><line x1=\"0\" y1=\"1398.2999999999988\" x2=\"278.4375\" y2=\"1398.2999999999988\" fill=\"rgb(0, 0, 0)\" stroke=\"rgb(153, 153, 153)\" stroke-width=\"1.5px\"/></g></g><g><g><line x1=\"-39.776785714285715\" y1=\"0\" x2=\"-39.776785714285715\" y2=\"177\" fill=\"rgb(0, 0, 0)\" stroke=\"rgb(153, 153, 153)\" stroke-width=\"1.5px\"/></g></g><g><g><g><g><g><path stroke=\"rgb(0, 119, 187)\" stroke-width=\"2px\" d=\"M9.944196428571429,-33.272170257568256L59.66517857142857,22.699455562233773L109.38616071428571,60.688759754141856L159.10714285714286,86.3197834245423L208.828125,104.98422386101917L258.54910714285717,118.60163872638897\" style=\"fill: none;\" fill=\"none\"/></g><g><path stroke=\"rgb(204, 51, 17)\" stroke-width=\"2px\" d=\"M9.944196428571429,124.26751213073744L59.66517857142857,143.4731680333614L109.38616071428571,152.23379067888075L159.10714285714286,157.83002213116959L208.828125,159.92422212770143L258.54910714285717,161.47618303104954\" style=\"fill: none;\" fill=\"none\"/></g></g></g></g><g opacity=\"0.2\"><g><g><g><path stroke=\"rgb(0, 119, 187)\" stroke-width=\"2px\" d=\"M9.944196428571429,-33.272170257568256L59.66517857142857,56.2824310541153L109.38616071428571,97.1584917783737L159.10714285714286,116.46186726093286L208.828125,129.35251729488368L258.54910714285717,137.43942575454707\" style=\"fill: none;\" fill=\"none\"/></g><g><path stroke=\"rgb(204, 51, 17)\" stroke-width=\"2px\" d=\"M9.944196428571429,124.26751213073725L59.66517857142857,154.99656157493584L109.38616071428571,160.64398841857903L159.10714285714286,164.4111903190612L208.828125,162.65840964317314L258.54910714285717,163.62310366630547\" style=\"fill: none;\" fill=\"none\"/></g></g></g></g></g></g><g transform=\"translate(51, 177)\" clip-path=\"url(#clip_1)\"><clipPath id=\"clip_1\"><rect width=\"278\" height=\"23\"/></clipPath><g><g><line x1=\"0\" y1=\"0\" x2=\"0\" y2=\"5\" style=\"visibility: inherit;\" fill=\"rgb(0, 0, 0)\" stroke=\"rgb(204, 204, 204)\" stroke-width=\"1px\"/><line x1=\"19.888392857142858\" y1=\"0\" x2=\"19.888392857142858\" y2=\"5\" style=\"visibility: inherit;\" fill=\"rgb(0, 0, 0)\" stroke=\"rgb(204, 204, 204)\" stroke-width=\"1px\"/><line x1=\"39.776785714285715\" y1=\"0\" x2=\"39.776785714285715\" y2=\"5\" style=\"visibility: inherit;\" fill=\"rgb(0, 0, 0)\" stroke=\"rgb(204, 204, 204)\" stroke-width=\"1px\"/><line x1=\"59.66517857142857\" y1=\"0\" x2=\"59.66517857142857\" y2=\"5\" style=\"visibility: inherit;\" fill=\"rgb(0, 0, 0)\" stroke=\"rgb(204, 204, 204)\" stroke-width=\"1px\"/><line x1=\"79.55357142857143\" y1=\"0\" x2=\"79.55357142857143\" y2=\"5\" style=\"visibility: inherit;\" fill=\"rgb(0, 0, 0)\" stroke=\"rgb(204, 204, 204)\" stroke-width=\"1px\"/><line x1=\"99.44196428571429\" y1=\"0\" x2=\"99.44196428571429\" y2=\"5\" style=\"visibility: inherit;\" fill=\"rgb(0, 0, 0)\" stroke=\"rgb(204, 204, 204)\" stroke-width=\"1px\"/><line x1=\"119.33035714285714\" y1=\"0\" x2=\"119.33035714285714\" y2=\"5\" style=\"visibility: inherit;\" fill=\"rgb(0, 0, 0)\" stroke=\"rgb(204, 204, 204)\" stroke-width=\"1px\"/><line x1=\"139.21875\" y1=\"0\" x2=\"139.21875\" y2=\"5\" style=\"visibility: inherit;\" fill=\"rgb(0, 0, 0)\" stroke=\"rgb(204, 204, 204)\" stroke-width=\"1px\"/><line x1=\"159.10714285714286\" y1=\"0\" x2=\"159.10714285714286\" y2=\"5\" style=\"visibility: inherit;\" fill=\"rgb(0, 0, 0)\" stroke=\"rgb(204, 204, 204)\" stroke-width=\"1px\"/><line x1=\"178.99553571428572\" y1=\"0\" x2=\"178.99553571428572\" y2=\"5\" style=\"visibility: inherit;\" fill=\"rgb(0, 0, 0)\" stroke=\"rgb(204, 204, 204)\" stroke-width=\"1px\"/><line x1=\"198.88392857142858\" y1=\"0\" x2=\"198.88392857142858\" y2=\"5\" style=\"visibility: inherit;\" fill=\"rgb(0, 0, 0)\" stroke=\"rgb(204, 204, 204)\" stroke-width=\"1px\"/><line x1=\"218.77232142857142\" y1=\"0\" x2=\"218.77232142857142\" y2=\"5\" style=\"visibility: inherit;\" fill=\"rgb(0, 0, 0)\" stroke=\"rgb(204, 204, 204)\" stroke-width=\"1px\"/><line x1=\"238.66071428571428\" y1=\"0\" x2=\"238.66071428571428\" y2=\"5\" style=\"visibility: inherit;\" fill=\"rgb(0, 0, 0)\" stroke=\"rgb(204, 204, 204)\" stroke-width=\"1px\"/><line x1=\"258.54910714285717\" y1=\"0\" x2=\"258.54910714285717\" y2=\"5\" style=\"visibility: inherit;\" fill=\"rgb(0, 0, 0)\" stroke=\"rgb(204, 204, 204)\" stroke-width=\"1px\"/><line x1=\"278.4375\" y1=\"0\" x2=\"278.4375\" y2=\"5\" style=\"visibility: inherit;\" fill=\"rgb(0, 0, 0)\" stroke=\"rgb(204, 204, 204)\" stroke-width=\"1px\"/></g><g transform=\"translate(0, 8)\"><text x=\"0\" y=\"0\" dx=\"0em\" dy=\"0.95em\" style=\"text-anchor: middle; visibility: hidden; font-family: Roboto, sans-serif; font-size: 12px; font-weight: 200;\" fill=\"rgb(33, 33, 33)\" stroke=\"none\" stroke-width=\"1px\">4</text><text x=\"19.888392857142858\" y=\"0\" dx=\"0em\" dy=\"0.95em\" style=\"text-anchor: middle; visibility: inherit; font-family: Roboto, sans-serif; font-size: 12px; font-weight: 200;\" fill=\"rgb(33, 33, 33)\" stroke=\"none\" stroke-width=\"1px\">6</text><text x=\"39.776785714285715\" y=\"0\" dx=\"0em\" dy=\"0.95em\" style=\"text-anchor: middle; visibility: inherit; font-family: Roboto, sans-serif; font-size: 12px; font-weight: 200;\" fill=\"rgb(33, 33, 33)\" stroke=\"none\" stroke-width=\"1px\">8</text><text x=\"59.66517857142857\" y=\"0\" dx=\"0em\" dy=\"0.95em\" style=\"text-anchor: middle; visibility: inherit; font-family: Roboto, sans-serif; font-size: 12px; font-weight: 200;\" fill=\"rgb(33, 33, 33)\" stroke=\"none\" stroke-width=\"1px\">10</text><text x=\"79.55357142857143\" y=\"0\" dx=\"0em\" dy=\"0.95em\" style=\"text-anchor: middle; visibility: inherit; font-family: Roboto, sans-serif; font-size: 12px; font-weight: 200;\" fill=\"rgb(33, 33, 33)\" stroke=\"none\" stroke-width=\"1px\">12</text><text x=\"99.44196428571429\" y=\"0\" dx=\"0em\" dy=\"0.95em\" style=\"text-anchor: middle; visibility: inherit; font-family: Roboto, sans-serif; font-size: 12px; font-weight: 200;\" fill=\"rgb(33, 33, 33)\" stroke=\"none\" stroke-width=\"1px\">14</text><text x=\"119.33035714285714\" y=\"0\" dx=\"0em\" dy=\"0.95em\" style=\"text-anchor: middle; visibility: inherit; font-family: Roboto, sans-serif; font-size: 12px; font-weight: 200;\" fill=\"rgb(33, 33, 33)\" stroke=\"none\" stroke-width=\"1px\">16</text><text x=\"139.21875\" y=\"0\" dx=\"0em\" dy=\"0.95em\" style=\"text-anchor: middle; visibility: inherit; font-family: Roboto, sans-serif; font-size: 12px; font-weight: 200;\" fill=\"rgb(33, 33, 33)\" stroke=\"none\" stroke-width=\"1px\">18</text><text x=\"159.10714285714286\" y=\"0\" dx=\"0em\" dy=\"0.95em\" style=\"text-anchor: middle; visibility: inherit; font-family: Roboto, sans-serif; font-size: 12px; font-weight: 200;\" fill=\"rgb(33, 33, 33)\" stroke=\"none\" stroke-width=\"1px\">20</text><text x=\"178.99553571428572\" y=\"0\" dx=\"0em\" dy=\"0.95em\" style=\"text-anchor: middle; visibility: inherit; font-family: Roboto, sans-serif; font-size: 12px; font-weight: 200;\" fill=\"rgb(33, 33, 33)\" stroke=\"none\" stroke-width=\"1px\">22</text><text x=\"198.88392857142858\" y=\"0\" dx=\"0em\" dy=\"0.95em\" style=\"text-anchor: middle; visibility: inherit; font-family: Roboto, sans-serif; font-size: 12px; font-weight: 200;\" fill=\"rgb(33, 33, 33)\" stroke=\"none\" stroke-width=\"1px\">24</text><text x=\"218.77232142857142\" y=\"0\" dx=\"0em\" dy=\"0.95em\" style=\"text-anchor: middle; visibility: inherit; font-family: Roboto, sans-serif; font-size: 12px; font-weight: 200;\" fill=\"rgb(33, 33, 33)\" stroke=\"none\" stroke-width=\"1px\">26</text><text x=\"238.66071428571428\" y=\"0\" dx=\"0em\" dy=\"0.95em\" style=\"text-anchor: middle; visibility: inherit; font-family: Roboto, sans-serif; font-size: 12px; font-weight: 200;\" fill=\"rgb(33, 33, 33)\" stroke=\"none\" stroke-width=\"1px\">28</text><text x=\"258.54910714285717\" y=\"0\" dx=\"0em\" dy=\"0.95em\" style=\"text-anchor: middle; visibility: inherit; font-family: Roboto, sans-serif; font-size: 12px; font-weight: 200;\" fill=\"rgb(33, 33, 33)\" stroke=\"none\" stroke-width=\"1px\">30</text><text x=\"278.4375\" y=\"0\" dx=\"0em\" dy=\"0.95em\" style=\"text-anchor: middle; visibility: hidden; font-family: Roboto, sans-serif; font-size: 12px; font-weight: 200;\" fill=\"rgb(33, 33, 33)\" stroke=\"none\" stroke-width=\"1px\">32</text></g><line x1=\"0\" y1=\"0\" x2=\"278.4375\" y2=\"0\" fill=\"rgb(0, 0, 0)\" stroke=\"rgb(204, 204, 204)\" stroke-width=\"1px\"/></g></g></g></g></svg>"
            ],
            "text/plain": [
              "<IPython.core.display.SVG object>"
            ]
          },
          "metadata": {},
          "output_type": "display_data"
        }
      ],
      "source": [
        "display(SVG(f\"{SVG_PATH}/WER_validation.svg\"))"
      ]
    },
    {
      "cell_type": "markdown",
      "metadata": {},
      "source": [
        "CER validation"
      ]
    },
    {
      "cell_type": "code",
      "execution_count": 6,
      "metadata": {},
      "outputs": [
        {
          "data": {
            "image/svg+xml": [
              "<svg xmlns=\"http://www.w3.org/2000/svg\" viewBox=\"0 0 330 200\"><g><g><g><g><g><line x1=\"50\" y1=\"177\" x2=\"45\" y2=\"177\" style=\"visibility: inherit;\" fill=\"rgb(0, 0, 0)\" stroke=\"rgb(204, 204, 204)\" stroke-width=\"1px\"/><line x1=\"50\" y1=\"159.29999999999998\" x2=\"45\" y2=\"159.29999999999998\" style=\"visibility: inherit;\" fill=\"rgb(0, 0, 0)\" stroke=\"rgb(204, 204, 204)\" stroke-width=\"1px\"/><line x1=\"50\" y1=\"141.59999999999997\" x2=\"45\" y2=\"141.59999999999997\" style=\"visibility: inherit;\" fill=\"rgb(0, 0, 0)\" stroke=\"rgb(204, 204, 204)\" stroke-width=\"1px\"/><line x1=\"50\" y1=\"123.89999999999995\" x2=\"45\" y2=\"123.89999999999995\" style=\"visibility: inherit;\" fill=\"rgb(0, 0, 0)\" stroke=\"rgb(204, 204, 204)\" stroke-width=\"1px\"/><line x1=\"50\" y1=\"106.20000000000012\" x2=\"45\" y2=\"106.20000000000012\" style=\"visibility: inherit;\" fill=\"rgb(0, 0, 0)\" stroke=\"rgb(204, 204, 204)\" stroke-width=\"1px\"/><line x1=\"50\" y1=\"88.5000000000001\" x2=\"45\" y2=\"88.5000000000001\" style=\"visibility: inherit;\" fill=\"rgb(0, 0, 0)\" stroke=\"rgb(204, 204, 204)\" stroke-width=\"1px\"/><line x1=\"50\" y1=\"70.80000000000008\" x2=\"45\" y2=\"70.80000000000008\" style=\"visibility: inherit;\" fill=\"rgb(0, 0, 0)\" stroke=\"rgb(204, 204, 204)\" stroke-width=\"1px\"/><line x1=\"50\" y1=\"53.100000000000065\" x2=\"45\" y2=\"53.100000000000065\" style=\"visibility: inherit;\" fill=\"rgb(0, 0, 0)\" stroke=\"rgb(204, 204, 204)\" stroke-width=\"1px\"/><line x1=\"50\" y1=\"35.400000000000034\" x2=\"45\" y2=\"35.400000000000034\" style=\"visibility: inherit;\" fill=\"rgb(0, 0, 0)\" stroke=\"rgb(204, 204, 204)\" stroke-width=\"1px\"/><line x1=\"50\" y1=\"17.700000000000017\" x2=\"45\" y2=\"17.700000000000017\" style=\"visibility: inherit;\" fill=\"rgb(0, 0, 0)\" stroke=\"rgb(204, 204, 204)\" stroke-width=\"1px\"/><line x1=\"50\" y1=\"0\" x2=\"45\" y2=\"0\" style=\"visibility: inherit;\" fill=\"rgb(0, 0, 0)\" stroke=\"rgb(204, 204, 204)\" stroke-width=\"1px\"/></g><g transform=\"translate(40, 0)\"><text x=\"0\" y=\"177\" dx=\"0em\" dy=\"0.3em\" style=\"text-anchor: end; visibility: hidden; font-family: Roboto, sans-serif; font-size: 12px; font-weight: 200;\" fill=\"rgb(33, 33, 33)\" stroke=\"none\" stroke-width=\"1px\">0.53</text><text x=\"0\" y=\"159.29999999999998\" dx=\"0em\" dy=\"0.3em\" style=\"text-anchor: end; visibility: inherit; font-family: Roboto, sans-serif; font-size: 12px; font-weight: 200;\" fill=\"rgb(33, 33, 33)\" stroke=\"none\" stroke-width=\"1px\">0.54</text><text x=\"0\" y=\"141.59999999999997\" dx=\"0em\" dy=\"0.3em\" style=\"text-anchor: end; visibility: hidden; font-family: Roboto, sans-serif; font-size: 12px; font-weight: 200;\" fill=\"rgb(33, 33, 33)\" stroke=\"none\" stroke-width=\"1px\">0.55</text><text x=\"0\" y=\"123.89999999999995\" dx=\"0em\" dy=\"0.3em\" style=\"text-anchor: end; visibility: inherit; font-family: Roboto, sans-serif; font-size: 12px; font-weight: 200;\" fill=\"rgb(33, 33, 33)\" stroke=\"none\" stroke-width=\"1px\">0.56</text><text x=\"0\" y=\"106.20000000000012\" dx=\"0em\" dy=\"0.3em\" style=\"text-anchor: end; visibility: hidden; font-family: Roboto, sans-serif; font-size: 12px; font-weight: 200;\" fill=\"rgb(33, 33, 33)\" stroke=\"none\" stroke-width=\"1px\">0.57</text><text x=\"0\" y=\"88.5000000000001\" dx=\"0em\" dy=\"0.3em\" style=\"text-anchor: end; visibility: inherit; font-family: Roboto, sans-serif; font-size: 12px; font-weight: 200;\" fill=\"rgb(33, 33, 33)\" stroke=\"none\" stroke-width=\"1px\">0.58</text><text x=\"0\" y=\"70.80000000000008\" dx=\"0em\" dy=\"0.3em\" style=\"text-anchor: end; visibility: hidden; font-family: Roboto, sans-serif; font-size: 12px; font-weight: 200;\" fill=\"rgb(33, 33, 33)\" stroke=\"none\" stroke-width=\"1px\">0.59</text><text x=\"0\" y=\"53.100000000000065\" dx=\"0em\" dy=\"0.3em\" style=\"text-anchor: end; visibility: inherit; font-family: Roboto, sans-serif; font-size: 12px; font-weight: 200;\" fill=\"rgb(33, 33, 33)\" stroke=\"none\" stroke-width=\"1px\">0.6</text><text x=\"0\" y=\"35.400000000000034\" dx=\"0em\" dy=\"0.3em\" style=\"text-anchor: end; visibility: hidden; font-family: Roboto, sans-serif; font-size: 12px; font-weight: 200;\" fill=\"rgb(33, 33, 33)\" stroke=\"none\" stroke-width=\"1px\">0.61</text><text x=\"0\" y=\"17.700000000000017\" dx=\"0em\" dy=\"0.3em\" style=\"text-anchor: end; visibility: inherit; font-family: Roboto, sans-serif; font-size: 12px; font-weight: 200;\" fill=\"rgb(33, 33, 33)\" stroke=\"none\" stroke-width=\"1px\">0.62</text><text x=\"0\" y=\"0\" dx=\"0em\" dy=\"0.3em\" style=\"text-anchor: end; visibility: hidden; font-family: Roboto, sans-serif; font-size: 12px; font-weight: 200;\" fill=\"rgb(33, 33, 33)\" stroke=\"none\" stroke-width=\"1px\">0.63</text></g><line x1=\"50\" y1=\"0\" x2=\"50\" y2=\"177\" fill=\"rgb(0, 0, 0)\" stroke=\"rgb(204, 204, 204)\" stroke-width=\"1px\"/></g></g><g transform=\"translate(50, 0)\" clip-path=\"url(#clip_0)\"><clipPath id=\"clip_0\"><rect width=\"280\" height=\"177\"/></clipPath><g><g><g><line x1=\"0\" y1=\"0\" x2=\"0\" y2=\"177\" fill=\"rgb(0, 0, 0)\" stroke=\"rgb(66, 66, 66)\" stroke-width=\"1px\" opacity=\"0.25\"/><line x1=\"20\" y1=\"0\" x2=\"20\" y2=\"177\" fill=\"rgb(0, 0, 0)\" stroke=\"rgb(66, 66, 66)\" stroke-width=\"1px\" opacity=\"0.25\"/><line x1=\"40\" y1=\"0\" x2=\"40\" y2=\"177\" fill=\"rgb(0, 0, 0)\" stroke=\"rgb(66, 66, 66)\" stroke-width=\"1px\" opacity=\"0.25\"/><line x1=\"60\" y1=\"0\" x2=\"60\" y2=\"177\" fill=\"rgb(0, 0, 0)\" stroke=\"rgb(66, 66, 66)\" stroke-width=\"1px\" opacity=\"0.25\"/><line x1=\"80\" y1=\"0\" x2=\"80\" y2=\"177\" fill=\"rgb(0, 0, 0)\" stroke=\"rgb(66, 66, 66)\" stroke-width=\"1px\" opacity=\"0.25\"/><line x1=\"100\" y1=\"0\" x2=\"100\" y2=\"177\" fill=\"rgb(0, 0, 0)\" stroke=\"rgb(66, 66, 66)\" stroke-width=\"1px\" opacity=\"0.25\"/><line x1=\"120\" y1=\"0\" x2=\"120\" y2=\"177\" fill=\"rgb(0, 0, 0)\" stroke=\"rgb(66, 66, 66)\" stroke-width=\"1px\" opacity=\"0.25\"/><line x1=\"140\" y1=\"0\" x2=\"140\" y2=\"177\" fill=\"rgb(0, 0, 0)\" stroke=\"rgb(66, 66, 66)\" stroke-width=\"1px\" opacity=\"0.25\"/><line x1=\"160\" y1=\"0\" x2=\"160\" y2=\"177\" fill=\"rgb(0, 0, 0)\" stroke=\"rgb(66, 66, 66)\" stroke-width=\"1px\" opacity=\"0.25\"/><line x1=\"180\" y1=\"0\" x2=\"180\" y2=\"177\" fill=\"rgb(0, 0, 0)\" stroke=\"rgb(66, 66, 66)\" stroke-width=\"1px\" opacity=\"0.25\"/><line x1=\"200\" y1=\"0\" x2=\"200\" y2=\"177\" fill=\"rgb(0, 0, 0)\" stroke=\"rgb(66, 66, 66)\" stroke-width=\"1px\" opacity=\"0.25\"/><line x1=\"220\" y1=\"0\" x2=\"220\" y2=\"177\" fill=\"rgb(0, 0, 0)\" stroke=\"rgb(66, 66, 66)\" stroke-width=\"1px\" opacity=\"0.25\"/><line x1=\"240\" y1=\"0\" x2=\"240\" y2=\"177\" fill=\"rgb(0, 0, 0)\" stroke=\"rgb(66, 66, 66)\" stroke-width=\"1px\" opacity=\"0.25\"/><line x1=\"260\" y1=\"0\" x2=\"260\" y2=\"177\" fill=\"rgb(0, 0, 0)\" stroke=\"rgb(66, 66, 66)\" stroke-width=\"1px\" opacity=\"0.25\"/><line x1=\"280\" y1=\"0\" x2=\"280\" y2=\"177\" fill=\"rgb(0, 0, 0)\" stroke=\"rgb(66, 66, 66)\" stroke-width=\"1px\" opacity=\"0.25\"/></g><g><line x1=\"0\" y1=\"177\" x2=\"280\" y2=\"177\" fill=\"rgb(0, 0, 0)\" stroke=\"rgb(66, 66, 66)\" stroke-width=\"1px\" opacity=\"0.25\"/><line x1=\"0\" y1=\"159.29999999999998\" x2=\"280\" y2=\"159.29999999999998\" fill=\"rgb(0, 0, 0)\" stroke=\"rgb(66, 66, 66)\" stroke-width=\"1px\" opacity=\"0.25\"/><line x1=\"0\" y1=\"141.59999999999997\" x2=\"280\" y2=\"141.59999999999997\" fill=\"rgb(0, 0, 0)\" stroke=\"rgb(66, 66, 66)\" stroke-width=\"1px\" opacity=\"0.25\"/><line x1=\"0\" y1=\"123.89999999999995\" x2=\"280\" y2=\"123.89999999999995\" fill=\"rgb(0, 0, 0)\" stroke=\"rgb(66, 66, 66)\" stroke-width=\"1px\" opacity=\"0.25\"/><line x1=\"0\" y1=\"106.20000000000012\" x2=\"280\" y2=\"106.20000000000012\" fill=\"rgb(0, 0, 0)\" stroke=\"rgb(66, 66, 66)\" stroke-width=\"1px\" opacity=\"0.25\"/><line x1=\"0\" y1=\"88.5000000000001\" x2=\"280\" y2=\"88.5000000000001\" fill=\"rgb(0, 0, 0)\" stroke=\"rgb(66, 66, 66)\" stroke-width=\"1px\" opacity=\"0.25\"/><line x1=\"0\" y1=\"70.80000000000008\" x2=\"280\" y2=\"70.80000000000008\" fill=\"rgb(0, 0, 0)\" stroke=\"rgb(66, 66, 66)\" stroke-width=\"1px\" opacity=\"0.25\"/><line x1=\"0\" y1=\"53.100000000000065\" x2=\"280\" y2=\"53.100000000000065\" fill=\"rgb(0, 0, 0)\" stroke=\"rgb(66, 66, 66)\" stroke-width=\"1px\" opacity=\"0.25\"/><line x1=\"0\" y1=\"35.400000000000034\" x2=\"280\" y2=\"35.400000000000034\" fill=\"rgb(0, 0, 0)\" stroke=\"rgb(66, 66, 66)\" stroke-width=\"1px\" opacity=\"0.25\"/><line x1=\"0\" y1=\"17.700000000000017\" x2=\"280\" y2=\"17.700000000000017\" fill=\"rgb(0, 0, 0)\" stroke=\"rgb(66, 66, 66)\" stroke-width=\"1px\" opacity=\"0.25\"/><line x1=\"0\" y1=\"0\" x2=\"280\" y2=\"0\" fill=\"rgb(0, 0, 0)\" stroke=\"rgb(66, 66, 66)\" stroke-width=\"1px\" opacity=\"0.25\"/></g></g></g><g><g><line x1=\"0\" y1=\"1115.1000000000004\" x2=\"280\" y2=\"1115.1000000000004\" fill=\"rgb(0, 0, 0)\" stroke=\"rgb(153, 153, 153)\" stroke-width=\"1.5px\"/></g></g><g><g><line x1=\"-40\" y1=\"0\" x2=\"-40\" y2=\"177\" fill=\"rgb(0, 0, 0)\" stroke=\"rgb(153, 153, 153)\" stroke-width=\"1.5px\"/></g></g><g><g><g><g><g><path stroke=\"rgb(0, 119, 187)\" stroke-width=\"2px\" d=\"M10,-54.3750165939331L60,10.33618161678315L110,55.40243123064242L160,85.71661332407425L210,107.5840708679827L260,122.9935407827958\" style=\"fill: none;\" fill=\"none\"/></g><g><path stroke=\"rgb(204, 51, 17)\" stroke-width=\"2px\" d=\"M10,125.61015436649328L60,147.99196036756044L110,157.9679011549268L160,163.7020099503152L210,166.09523573679536L260,168.34041575833615\" style=\"fill: none;\" fill=\"none\"/></g></g></g></g><g opacity=\"0.2\"><g><g><g><path stroke=\"rgb(0, 119, 187)\" stroke-width=\"2px\" d=\"M10,-54.3750165939331L60,49.16290054321292L110,98.66603085994723L160,121.36609146595006L210,136.13422343730932L260,144.31038508415227\" style=\"fill: none;\" fill=\"none\"/></g><g><path stroke=\"rgb(204, 51, 17)\" stroke-width=\"2px\" d=\"M10,125.61015436649328L60,161.42104396820073L110,167.5448043107987L160,170.44532189369207L210,169.2198313236237L260,171.44630799293523\" style=\"fill: none;\" fill=\"none\"/></g></g></g></g></g></g><g transform=\"translate(50, 177)\" clip-path=\"url(#clip_1)\"><clipPath id=\"clip_1\"><rect width=\"280\" height=\"23\"/></clipPath><g><g><line x1=\"0\" y1=\"0\" x2=\"0\" y2=\"5\" style=\"visibility: inherit;\" fill=\"rgb(0, 0, 0)\" stroke=\"rgb(204, 204, 204)\" stroke-width=\"1px\"/><line x1=\"20\" y1=\"0\" x2=\"20\" y2=\"5\" style=\"visibility: inherit;\" fill=\"rgb(0, 0, 0)\" stroke=\"rgb(204, 204, 204)\" stroke-width=\"1px\"/><line x1=\"40\" y1=\"0\" x2=\"40\" y2=\"5\" style=\"visibility: inherit;\" fill=\"rgb(0, 0, 0)\" stroke=\"rgb(204, 204, 204)\" stroke-width=\"1px\"/><line x1=\"60\" y1=\"0\" x2=\"60\" y2=\"5\" style=\"visibility: inherit;\" fill=\"rgb(0, 0, 0)\" stroke=\"rgb(204, 204, 204)\" stroke-width=\"1px\"/><line x1=\"80\" y1=\"0\" x2=\"80\" y2=\"5\" style=\"visibility: inherit;\" fill=\"rgb(0, 0, 0)\" stroke=\"rgb(204, 204, 204)\" stroke-width=\"1px\"/><line x1=\"100\" y1=\"0\" x2=\"100\" y2=\"5\" style=\"visibility: inherit;\" fill=\"rgb(0, 0, 0)\" stroke=\"rgb(204, 204, 204)\" stroke-width=\"1px\"/><line x1=\"120\" y1=\"0\" x2=\"120\" y2=\"5\" style=\"visibility: inherit;\" fill=\"rgb(0, 0, 0)\" stroke=\"rgb(204, 204, 204)\" stroke-width=\"1px\"/><line x1=\"140\" y1=\"0\" x2=\"140\" y2=\"5\" style=\"visibility: inherit;\" fill=\"rgb(0, 0, 0)\" stroke=\"rgb(204, 204, 204)\" stroke-width=\"1px\"/><line x1=\"160\" y1=\"0\" x2=\"160\" y2=\"5\" style=\"visibility: inherit;\" fill=\"rgb(0, 0, 0)\" stroke=\"rgb(204, 204, 204)\" stroke-width=\"1px\"/><line x1=\"180\" y1=\"0\" x2=\"180\" y2=\"5\" style=\"visibility: inherit;\" fill=\"rgb(0, 0, 0)\" stroke=\"rgb(204, 204, 204)\" stroke-width=\"1px\"/><line x1=\"200\" y1=\"0\" x2=\"200\" y2=\"5\" style=\"visibility: inherit;\" fill=\"rgb(0, 0, 0)\" stroke=\"rgb(204, 204, 204)\" stroke-width=\"1px\"/><line x1=\"220\" y1=\"0\" x2=\"220\" y2=\"5\" style=\"visibility: inherit;\" fill=\"rgb(0, 0, 0)\" stroke=\"rgb(204, 204, 204)\" stroke-width=\"1px\"/><line x1=\"240\" y1=\"0\" x2=\"240\" y2=\"5\" style=\"visibility: inherit;\" fill=\"rgb(0, 0, 0)\" stroke=\"rgb(204, 204, 204)\" stroke-width=\"1px\"/><line x1=\"260\" y1=\"0\" x2=\"260\" y2=\"5\" style=\"visibility: inherit;\" fill=\"rgb(0, 0, 0)\" stroke=\"rgb(204, 204, 204)\" stroke-width=\"1px\"/><line x1=\"280\" y1=\"0\" x2=\"280\" y2=\"5\" style=\"visibility: inherit;\" fill=\"rgb(0, 0, 0)\" stroke=\"rgb(204, 204, 204)\" stroke-width=\"1px\"/></g><g transform=\"translate(0, 8)\"><text x=\"0\" y=\"0\" dx=\"0em\" dy=\"0.95em\" style=\"text-anchor: middle; visibility: hidden; font-family: Roboto, sans-serif; font-size: 12px; font-weight: 200;\" fill=\"rgb(33, 33, 33)\" stroke=\"none\" stroke-width=\"1px\">4</text><text x=\"20\" y=\"0\" dx=\"0em\" dy=\"0.95em\" style=\"text-anchor: middle; visibility: inherit; font-family: Roboto, sans-serif; font-size: 12px; font-weight: 200;\" fill=\"rgb(33, 33, 33)\" stroke=\"none\" stroke-width=\"1px\">6</text><text x=\"40\" y=\"0\" dx=\"0em\" dy=\"0.95em\" style=\"text-anchor: middle; visibility: inherit; font-family: Roboto, sans-serif; font-size: 12px; font-weight: 200;\" fill=\"rgb(33, 33, 33)\" stroke=\"none\" stroke-width=\"1px\">8</text><text x=\"60\" y=\"0\" dx=\"0em\" dy=\"0.95em\" style=\"text-anchor: middle; visibility: inherit; font-family: Roboto, sans-serif; font-size: 12px; font-weight: 200;\" fill=\"rgb(33, 33, 33)\" stroke=\"none\" stroke-width=\"1px\">10</text><text x=\"80\" y=\"0\" dx=\"0em\" dy=\"0.95em\" style=\"text-anchor: middle; visibility: inherit; font-family: Roboto, sans-serif; font-size: 12px; font-weight: 200;\" fill=\"rgb(33, 33, 33)\" stroke=\"none\" stroke-width=\"1px\">12</text><text x=\"100\" y=\"0\" dx=\"0em\" dy=\"0.95em\" style=\"text-anchor: middle; visibility: inherit; font-family: Roboto, sans-serif; font-size: 12px; font-weight: 200;\" fill=\"rgb(33, 33, 33)\" stroke=\"none\" stroke-width=\"1px\">14</text><text x=\"120\" y=\"0\" dx=\"0em\" dy=\"0.95em\" style=\"text-anchor: middle; visibility: inherit; font-family: Roboto, sans-serif; font-size: 12px; font-weight: 200;\" fill=\"rgb(33, 33, 33)\" stroke=\"none\" stroke-width=\"1px\">16</text><text x=\"140\" y=\"0\" dx=\"0em\" dy=\"0.95em\" style=\"text-anchor: middle; visibility: inherit; font-family: Roboto, sans-serif; font-size: 12px; font-weight: 200;\" fill=\"rgb(33, 33, 33)\" stroke=\"none\" stroke-width=\"1px\">18</text><text x=\"160\" y=\"0\" dx=\"0em\" dy=\"0.95em\" style=\"text-anchor: middle; visibility: inherit; font-family: Roboto, sans-serif; font-size: 12px; font-weight: 200;\" fill=\"rgb(33, 33, 33)\" stroke=\"none\" stroke-width=\"1px\">20</text><text x=\"180\" y=\"0\" dx=\"0em\" dy=\"0.95em\" style=\"text-anchor: middle; visibility: inherit; font-family: Roboto, sans-serif; font-size: 12px; font-weight: 200;\" fill=\"rgb(33, 33, 33)\" stroke=\"none\" stroke-width=\"1px\">22</text><text x=\"200\" y=\"0\" dx=\"0em\" dy=\"0.95em\" style=\"text-anchor: middle; visibility: inherit; font-family: Roboto, sans-serif; font-size: 12px; font-weight: 200;\" fill=\"rgb(33, 33, 33)\" stroke=\"none\" stroke-width=\"1px\">24</text><text x=\"220\" y=\"0\" dx=\"0em\" dy=\"0.95em\" style=\"text-anchor: middle; visibility: inherit; font-family: Roboto, sans-serif; font-size: 12px; font-weight: 200;\" fill=\"rgb(33, 33, 33)\" stroke=\"none\" stroke-width=\"1px\">26</text><text x=\"240\" y=\"0\" dx=\"0em\" dy=\"0.95em\" style=\"text-anchor: middle; visibility: inherit; font-family: Roboto, sans-serif; font-size: 12px; font-weight: 200;\" fill=\"rgb(33, 33, 33)\" stroke=\"none\" stroke-width=\"1px\">28</text><text x=\"260\" y=\"0\" dx=\"0em\" dy=\"0.95em\" style=\"text-anchor: middle; visibility: inherit; font-family: Roboto, sans-serif; font-size: 12px; font-weight: 200;\" fill=\"rgb(33, 33, 33)\" stroke=\"none\" stroke-width=\"1px\">30</text><text x=\"280\" y=\"0\" dx=\"0em\" dy=\"0.95em\" style=\"text-anchor: middle; visibility: hidden; font-family: Roboto, sans-serif; font-size: 12px; font-weight: 200;\" fill=\"rgb(33, 33, 33)\" stroke=\"none\" stroke-width=\"1px\">32</text></g><line x1=\"0\" y1=\"0\" x2=\"280\" y2=\"0\" fill=\"rgb(0, 0, 0)\" stroke=\"rgb(204, 204, 204)\" stroke-width=\"1px\"/></g></g></g></g></svg>"
            ],
            "text/plain": [
              "<IPython.core.display.SVG object>"
            ]
          },
          "metadata": {},
          "output_type": "display_data"
        }
      ],
      "source": [
        "display(SVG(f\"{SVG_PATH}/CER_validation.svg\"))"
      ]
    }
  ],
  "metadata": {
    "accelerator": "GPU",
    "colab": {
      "gpuType": "T4",
      "provenance": []
    },
    "kernelspec": {
      "display_name": "Python 3 (ipykernel)",
      "language": "python",
      "name": "python3"
    }
  },
  "nbformat": 4,
  "nbformat_minor": 0
}
